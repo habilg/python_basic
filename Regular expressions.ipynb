{
 "cells": [
  {
   "cell_type": "code",
   "execution_count": 1,
   "id": "935db6c8",
   "metadata": {},
   "outputs": [
    {
     "data": {
      "text/plain": [
       "True"
      ]
     },
     "execution_count": 1,
     "metadata": {},
     "output_type": "execute_result"
    }
   ],
   "source": [
    "s = 'foo123bar'\n",
    "'123' in s"
   ]
  },
  {
   "cell_type": "code",
   "execution_count": 4,
   "id": "cf71e1d1",
   "metadata": {},
   "outputs": [
    {
     "data": {
      "text/plain": [
       "4"
      ]
     },
     "execution_count": 4,
     "metadata": {},
     "output_type": "execute_result"
    }
   ],
   "source": [
    "s = 'foos123bar'\n",
    "s.find('123')"
   ]
  },
  {
   "cell_type": "code",
   "execution_count": 5,
   "id": "06022e43",
   "metadata": {},
   "outputs": [
    {
     "data": {
      "text/plain": [
       "4"
      ]
     },
     "execution_count": 5,
     "metadata": {},
     "output_type": "execute_result"
    }
   ],
   "source": [
    "s.index('123')"
   ]
  },
  {
   "cell_type": "markdown",
   "id": "6332bb87",
   "metadata": {},
   "source": [
    "## re.search(regex, string)"
   ]
  },
  {
   "cell_type": "code",
   "execution_count": 6,
   "id": "cb47863b",
   "metadata": {},
   "outputs": [],
   "source": [
    "import re"
   ]
  },
  {
   "cell_type": "code",
   "execution_count": 7,
   "id": "49ef5a97",
   "metadata": {},
   "outputs": [
    {
     "data": {
      "text/plain": [
       "<re.Match object; span=(4, 7), match='123'>"
      ]
     },
     "execution_count": 7,
     "metadata": {},
     "output_type": "execute_result"
    }
   ],
   "source": [
    "re.search('123', s)"
   ]
  },
  {
   "cell_type": "markdown",
   "id": "3ad2b8c5",
   "metadata": {},
   "source": [
    "This is a match object which you can use in bool expressions"
   ]
  },
  {
   "cell_type": "code",
   "execution_count": 8,
   "id": "e451873b",
   "metadata": {},
   "outputs": [
    {
     "name": "stdout",
     "output_type": "stream",
     "text": [
      "Found a match.\n"
     ]
    }
   ],
   "source": [
    "if re.search('123', s):\n",
    "    print('Found a match.')\n",
    "else:\n",
    "    print('No match.')"
   ]
  },
  {
   "cell_type": "markdown",
   "id": "bc4d6202",
   "metadata": {},
   "source": [
    "span=(4, 7) indicates the portion of string in which the match was found"
   ]
  },
  {
   "cell_type": "markdown",
   "id": "ab4a56cc",
   "metadata": {},
   "source": [
    "# Python Regex Metacharacters"
   ]
  },
  {
   "cell_type": "markdown",
   "id": "31807eef",
   "metadata": {},
   "source": [
    "special characters called metacharacters. These have a unique meaning to the regex matching engine and vastly enhance the capability of the search."
   ]
  },
  {
   "cell_type": "markdown",
   "id": "6805a897",
   "metadata": {},
   "source": [
    "n a regex, a set of characters specified in square brackets ([]) makes up a character class. This metacharacter sequence matches any single character that is in the class"
   ]
  },
  {
   "cell_type": "code",
   "execution_count": 9,
   "id": "36a476fa",
   "metadata": {},
   "outputs": [
    {
     "data": {
      "text/plain": [
       "<re.Match object; span=(4, 7), match='123'>"
      ]
     },
     "execution_count": 9,
     "metadata": {},
     "output_type": "execute_result"
    }
   ],
   "source": [
    " re.search('[0-9][0-9][0-9]', s)"
   ]
  },
  {
   "cell_type": "code",
   "execution_count": 10,
   "id": "6fc19d10",
   "metadata": {},
   "outputs": [
    {
     "data": {
      "text/plain": [
       "<re.Match object; span=(0, 3), match='234'>"
      ]
     },
     "execution_count": 10,
     "metadata": {},
     "output_type": "execute_result"
    }
   ],
   "source": [
    " re.search('[0-9][0-9][0-9]', '234baz')"
   ]
  },
  {
   "cell_type": "code",
   "execution_count": 11,
   "id": "ee433812",
   "metadata": {},
   "outputs": [
    {
     "data": {
      "text/plain": [
       "<re.Match object; span=(4, 7), match='123'>"
      ]
     },
     "execution_count": 11,
     "metadata": {},
     "output_type": "execute_result"
    }
   ],
   "source": [
    "#dot (.) metacharacter\n",
    "re.search('[0-9].[0-9]', s)"
   ]
  },
  {
   "cell_type": "code",
   "execution_count": 13,
   "id": "4cf9a06f",
   "metadata": {},
   "outputs": [
    {
     "data": {
      "text/plain": [
       "<re.Match object; span=(3, 6), match='1b2'>"
      ]
     },
     "execution_count": 13,
     "metadata": {},
     "output_type": "execute_result"
    }
   ],
   "source": [
    "re.search('[0-9].[0-9]', 'foo1b2bar')"
   ]
  },
  {
   "cell_type": "markdown",
   "id": "f9688aa1",
   "metadata": {},
   "source": [
    "# Metacharacters Supported by the re Module"
   ]
  },
  {
   "cell_type": "markdown",
   "id": "b7b47708",
   "metadata": {},
   "source": [
    "<table class=\"table table-hover\">\n",
    "<thead>\n",
    "<tr>\n",
    "<th>Character(s)</th>\n",
    "<th>Meaning</th>\n",
    "</tr>\n",
    "</thead>\n",
    "<tbody>\n",
    "<tr>\n",
    "<td><code>.</code></td>\n",
    "<td>Matches any single character except newline</td>\n",
    "</tr>\n",
    "<tr>\n",
    "<td><code>^</code></td>\n",
    "<td>∙ Anchors a match at the start of a string<br>∙ Complements a character class</td>\n",
    "</tr>\n",
    "<tr>\n",
    "<td><code>$</code></td>\n",
    "<td>Anchors a match at the end of a string</td>\n",
    "</tr>\n",
    "<tr>\n",
    "<td><code>*</code></td>\n",
    "<td>Matches zero or more repetitions</td>\n",
    "</tr>\n",
    "<tr>\n",
    "<td><code>+</code></td>\n",
    "<td>Matches one or more repetitions</td>\n",
    "</tr>\n",
    "<tr>\n",
    "<td><code>?</code></td>\n",
    "<td>∙ Matches zero or one repetition<br>∙ Specifies the non-greedy versions of <code>*</code>, <code>+</code>, and <code>?</code><br>∙ Introduces a lookahead or lookbehind assertion<br>∙ Creates a named group</td>\n",
    "</tr>\n",
    "<tr>\n",
    "<td><code>{}</code></td>\n",
    "<td>Matches an explicitly specified number of repetitions</td>\n",
    "</tr>\n",
    "<tr>\n",
    "<td><code>\\</code></td>\n",
    "<td>∙ Escapes a metacharacter of its special meaning<br>∙ Introduces a special character class<br>∙ Introduces a grouping backreference</td>\n",
    "</tr>\n",
    "<tr>\n",
    "<td><code>[]</code></td>\n",
    "<td>Specifies a character class</td>\n",
    "</tr>\n",
    "<tr>\n",
    "<td><code>|</code></td>\n",
    "<td>Designates alternation</td>\n",
    "</tr>\n",
    "<tr>\n",
    "<td><code>()</code></td>\n",
    "<td>Creates a group</td>\n",
    "</tr>\n",
    "<tr>\n",
    "<td><code>:</code><br><code>#</code><br><code>=</code><br><code>!</code></td>\n",
    "<td>Designate a specialized group</td>\n",
    "</tr>\n",
    "<tr>\n",
    "<td><code>&lt;&gt;</code></td>\n",
    "<td>Creates a named group</td>\n",
    "</tr>\n",
    "</tbody>\n",
    "</table>"
   ]
  },
  {
   "cell_type": "code",
   "execution_count": 14,
   "id": "99c2d324",
   "metadata": {},
   "outputs": [
    {
     "data": {
      "text/plain": [
       "<re.Match object; span=(3, 6), match='bar'>"
      ]
     },
     "execution_count": 14,
     "metadata": {},
     "output_type": "execute_result"
    }
   ],
   "source": [
    "re.search('ba[artz]', 'foobarqux')"
   ]
  },
  {
   "cell_type": "code",
   "execution_count": 15,
   "id": "888fa623",
   "metadata": {},
   "outputs": [
    {
     "data": {
      "text/plain": [
       "<re.Match object; span=(4, 5), match='a'>"
      ]
     },
     "execution_count": 15,
     "metadata": {},
     "output_type": "execute_result"
    }
   ],
   "source": [
    "#[0-9a-fA-F] matches any hexadecimal digit character:\n",
    "re.search('[0-9a-fA-f]', '--- a0 ---')"
   ]
  },
  {
   "cell_type": "code",
   "execution_count": 17,
   "id": "332bc1da",
   "metadata": {},
   "outputs": [],
   "source": [
    "# not ^\n",
    "re.search('[^0-9]', '12345')"
   ]
  },
  {
   "cell_type": "code",
   "execution_count": 18,
   "id": "7e3a7cee",
   "metadata": {},
   "outputs": [
    {
     "data": {
      "text/plain": [
       "<re.Match object; span=(5, 6), match='f'>"
      ]
     },
     "execution_count": 18,
     "metadata": {},
     "output_type": "execute_result"
    }
   ],
   "source": [
    "re.search('[^0-9]', '12345foo') # returns match object because of the string contains foo"
   ]
  },
  {
   "cell_type": "markdown",
   "id": "9935f0f3",
   "metadata": {},
   "source": [
    "### If a ^ character appears in a character class but isn’t the first character, then it has no special meaning and matches a literal '^' character:"
   ]
  },
  {
   "cell_type": "code",
   "execution_count": 19,
   "id": "b34769ce",
   "metadata": {},
   "outputs": [
    {
     "data": {
      "text/plain": [
       "<re.Match object; span=(3, 4), match='^'>"
      ]
     },
     "execution_count": 19,
     "metadata": {},
     "output_type": "execute_result"
    }
   ],
   "source": [
    " re.search('[#:^]', 'foo^bar:baz#qux')"
   ]
  },
  {
   "cell_type": "code",
   "execution_count": null,
   "id": "3cb71c01",
   "metadata": {},
   "outputs": [],
   "source": []
  }
 ],
 "metadata": {
  "kernelspec": {
   "display_name": "Python 3 (ipykernel)",
   "language": "python",
   "name": "python3"
  },
  "language_info": {
   "codemirror_mode": {
    "name": "ipython",
    "version": 3
   },
   "file_extension": ".py",
   "mimetype": "text/x-python",
   "name": "python",
   "nbconvert_exporter": "python",
   "pygments_lexer": "ipython3",
   "version": "3.9.7"
  },
  "toc": {
   "base_numbering": 1,
   "nav_menu": {},
   "number_sections": true,
   "sideBar": true,
   "skip_h1_title": false,
   "title_cell": "Table of Contents",
   "title_sidebar": "Contents",
   "toc_cell": false,
   "toc_position": {},
   "toc_section_display": true,
   "toc_window_display": false
  }
 },
 "nbformat": 4,
 "nbformat_minor": 5
}
