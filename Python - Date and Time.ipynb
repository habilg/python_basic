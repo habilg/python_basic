{
 "cells": [
  {
   "cell_type": "markdown",
   "id": "beginning-commander",
   "metadata": {},
   "source": [
    "## How to convert date formats from YYYYMMDD to MM/DD/YYYY"
   ]
  },
  {
   "cell_type": "code",
   "execution_count": 1,
   "id": "included-ideal",
   "metadata": {},
   "outputs": [],
   "source": [
    "from datetime import datetime"
   ]
  },
  {
   "cell_type": "code",
   "execution_count": 2,
   "id": "annoying-reminder",
   "metadata": {},
   "outputs": [],
   "source": [
    "oldformat = '20140716'\n",
    "datetimeobject = datetime.strptime(oldformat,'%Y%m%d')"
   ]
  },
  {
   "cell_type": "code",
   "execution_count": 4,
   "id": "hearing-mountain",
   "metadata": {},
   "outputs": [
    {
     "name": "stdout",
     "output_type": "stream",
     "text": [
      "07-16-2014\n"
     ]
    }
   ],
   "source": [
    "newformat = datetimeobject.strftime('%m-%d-%Y')\n",
    "print (newformat)"
   ]
  },
  {
   "cell_type": "code",
   "execution_count": null,
   "id": "fundamental-daily",
   "metadata": {},
   "outputs": [],
   "source": [
    "newformat2 = datetimeobject.strftime('%m/%d/%Y')\n",
    "print newformat2"
   ]
  }
 ],
 "metadata": {
  "kernelspec": {
   "display_name": "Python 3",
   "language": "python",
   "name": "python3"
  },
  "language_info": {
   "codemirror_mode": {
    "name": "ipython",
    "version": 3
   },
   "file_extension": ".py",
   "mimetype": "text/x-python",
   "name": "python",
   "nbconvert_exporter": "python",
   "pygments_lexer": "ipython3",
   "version": "3.9.2"
  }
 },
 "nbformat": 4,
 "nbformat_minor": 5
}
