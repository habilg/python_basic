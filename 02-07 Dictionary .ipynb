{
  "cells": [
    {
      "cell_type": "markdown",
      "metadata": {
        "id": "view-in-github",
        "colab_type": "text"
      },
      "source": [
        "<a href=\"https://colab.research.google.com/github/habilg/python_basic/blob/main/02-07%20Dictionary%20.ipynb\" target=\"_parent\"><img src=\"https://colab.research.google.com/assets/colab-badge.svg\" alt=\"Open In Colab\"/></a>"
      ]
    },
    {
      "cell_type": "markdown",
      "id": "f0be4f2d",
      "metadata": {
        "id": "f0be4f2d"
      },
      "source": [
        "## Dictionary Charactristics:  \n",
        "\n",
        "### As of Python version 3.7, dictionaries are ordered    \n",
        "### Duplicates Not Allowed\n",
        "### Dictionaries are mutable"
      ]
    },
    {
      "cell_type": "markdown",
      "id": "5597bb05",
      "metadata": {
        "id": "5597bb05"
      },
      "source": [
        "## Defining"
      ]
    },
    {
      "cell_type": "code",
      "execution_count": null,
      "id": "3987809a",
      "metadata": {
        "id": "3987809a"
      },
      "outputs": [],
      "source": [
        "thisdict = {\n",
        "  \"brand\": \"Ford\",\n",
        "  \"model\": \"Mustang\",\n",
        "  \"year\": 1964\n",
        "}"
      ]
    },
    {
      "cell_type": "code",
      "execution_count": null,
      "id": "6fc52d36",
      "metadata": {
        "id": "6fc52d36",
        "outputId": "3ff57901-de3e-49dc-a3f8-fc5040ef6bed"
      },
      "outputs": [
        {
          "data": {
            "text/plain": [
              "{'brand': 'Ford'}"
            ]
          },
          "execution_count": 6,
          "metadata": {},
          "output_type": "execute_result"
        }
      ],
      "source": [
        "thatdict=dict()\n",
        "thatdict[\"brand\"]=\"Ford\"\n",
        "thatdict"
      ]
    },
    {
      "cell_type": "code",
      "execution_count": null,
      "id": "bba95ef8",
      "metadata": {
        "id": "bba95ef8",
        "outputId": "f5bc40d5-8d25-407b-d71d-c51252ce16bb"
      },
      "outputs": [
        {
          "data": {
            "text/plain": [
              "{'brand': 'Ford'}"
            ]
          },
          "execution_count": 8,
          "metadata": {},
          "output_type": "execute_result"
        }
      ],
      "source": [
        "anotherdict={}\n",
        "anotherdict[\"brand\"]=\"Ford\"\n",
        "anotherdict"
      ]
    },
    {
      "cell_type": "markdown",
      "id": "23f6847f",
      "metadata": {
        "id": "23f6847f"
      },
      "source": [
        "## Adding Items"
      ]
    },
    {
      "cell_type": "code",
      "execution_count": null,
      "id": "cc93f784",
      "metadata": {
        "id": "cc93f784",
        "outputId": "b8524ad5-a285-4fac-caed-e704d0dce16c"
      },
      "outputs": [
        {
          "name": "stdout",
          "output_type": "stream",
          "text": [
            "{'brand': 'Ford', 'model': 'Mustang', 'year': 1964, 'color': 'red'}\n"
          ]
        }
      ],
      "source": [
        "thisdict = {\n",
        "  \"brand\": \"Ford\",\n",
        "  \"model\": \"Mustang\",\n",
        "  \"year\": 1964\n",
        "}\n",
        "thisdict[\"color\"] = \"red\"\n",
        "print(thisdict)"
      ]
    },
    {
      "cell_type": "code",
      "execution_count": null,
      "id": "ceb38633",
      "metadata": {
        "id": "ceb38633",
        "outputId": "4f0a5f39-96f9-4e56-8979-db6f80e2b7d1"
      },
      "outputs": [
        {
          "ename": "AttributeError",
          "evalue": "'dict' object has no attribute 'newitem'",
          "output_type": "error",
          "traceback": [
            "\u001b[1;31m---------------------------------------------------------------------------\u001b[0m",
            "\u001b[1;31mAttributeError\u001b[0m                            Traceback (most recent call last)",
            "\u001b[1;32m~\\AppData\\Local\\Temp/ipykernel_5936/770417676.py\u001b[0m in \u001b[0;36m<module>\u001b[1;34m\u001b[0m\n\u001b[1;32m----> 1\u001b[1;33m \u001b[0mthisdict\u001b[0m\u001b[1;33m.\u001b[0m\u001b[0mnewitem\u001b[0m\u001b[1;33m=\u001b[0m\u001b[1;34m\"Test\"\u001b[0m\u001b[1;33m\u001b[0m\u001b[1;33m\u001b[0m\u001b[0m\n\u001b[0m",
            "\u001b[1;31mAttributeError\u001b[0m: 'dict' object has no attribute 'newitem'"
          ]
        }
      ],
      "source": [
        "thisdict.newitem=\"Test\""
      ]
    },
    {
      "cell_type": "markdown",
      "id": "da9d7edb",
      "metadata": {
        "id": "da9d7edb"
      },
      "source": [
        "## Update Dictionary"
      ]
    },
    {
      "cell_type": "code",
      "execution_count": null,
      "id": "fedeb524",
      "metadata": {
        "id": "fedeb524",
        "outputId": "8c6aae27-f2da-417b-9f1c-440189bc3377"
      },
      "outputs": [
        {
          "name": "stdout",
          "output_type": "stream",
          "text": [
            "{'brand': 'Ford', 'model': 'Mustang', 'year': 1964, 'color': 'red'}\n"
          ]
        }
      ],
      "source": [
        "thisdict = {\n",
        "  \"brand\": \"Ford\",\n",
        "  \"model\": \"Mustang\",\n",
        "  \"year\": 1964\n",
        "}\n",
        "thisdict.update({\"color\": \"red\"})\n",
        "print(thisdict)"
      ]
    },
    {
      "cell_type": "markdown",
      "id": "bdfddaf4",
      "metadata": {
        "id": "bdfddaf4"
      },
      "source": [
        "## Removing Items"
      ]
    },
    {
      "cell_type": "markdown",
      "id": "27bb3ebb",
      "metadata": {
        "id": "27bb3ebb"
      },
      "source": [
        "### pop()"
      ]
    },
    {
      "cell_type": "code",
      "execution_count": null,
      "id": "73ecfc9d",
      "metadata": {
        "id": "73ecfc9d",
        "outputId": "b916f0c6-842d-4315-9090-112fdc4069fb"
      },
      "outputs": [
        {
          "name": "stdout",
          "output_type": "stream",
          "text": [
            "{'brand': 'Ford', 'year': 1964}\n"
          ]
        }
      ],
      "source": [
        "thisdict = {\n",
        "  \"brand\": \"Ford\",\n",
        "  \"model\": \"Mustang\",\n",
        "  \"year\": 1964\n",
        "}\n",
        "thisdict.pop(\"model\")\n",
        "print(thisdict)"
      ]
    },
    {
      "cell_type": "markdown",
      "id": "e1907b3a",
      "metadata": {
        "id": "e1907b3a"
      },
      "source": [
        "### popitem()"
      ]
    },
    {
      "cell_type": "code",
      "execution_count": null,
      "id": "aaa734f0",
      "metadata": {
        "id": "aaa734f0",
        "outputId": "fbbf7b1b-8d48-45a5-df46-aca2d5710993"
      },
      "outputs": [
        {
          "name": "stdout",
          "output_type": "stream",
          "text": [
            "{'brand': 'Ford', 'model': 'Mustang'}\n"
          ]
        }
      ],
      "source": [
        "thisdict = {\n",
        "  \"brand\": \"Ford\",\n",
        "  \"model\": \"Mustang\",\n",
        "  \"year\": 1964\n",
        "}\n",
        "thisdict.popitem()\n",
        "print(thisdict)"
      ]
    },
    {
      "cell_type": "markdown",
      "id": "87205f67",
      "metadata": {
        "id": "87205f67"
      },
      "source": [
        "### del"
      ]
    },
    {
      "cell_type": "code",
      "execution_count": null,
      "id": "b801ea0f",
      "metadata": {
        "id": "b801ea0f",
        "outputId": "b4d45d8d-d2b0-4dff-ca47-4190639c5d4a"
      },
      "outputs": [
        {
          "name": "stdout",
          "output_type": "stream",
          "text": [
            "{'brand': 'Ford', 'year': 1964}\n"
          ]
        }
      ],
      "source": [
        "thisdict = {\n",
        "  \"brand\": \"Ford\",\n",
        "  \"model\": \"Mustang\",\n",
        "  \"year\": 1964\n",
        "}\n",
        "del thisdict[\"model\"]\n",
        "print(thisdict)"
      ]
    },
    {
      "cell_type": "code",
      "execution_count": null,
      "id": "6d473647",
      "metadata": {
        "id": "6d473647"
      },
      "outputs": [],
      "source": [
        "# The del keyword can also delete the dictionary completely:\n",
        "thisdict = {\n",
        "  \"brand\": \"Ford\",\n",
        "  \"model\": \"Mustang\",\n",
        "  \"year\": 1964\n",
        "}\n",
        "del thisdict"
      ]
    },
    {
      "cell_type": "markdown",
      "id": "ff45e094",
      "metadata": {
        "id": "ff45e094"
      },
      "source": [
        "### clear()  => empties the dictionary"
      ]
    },
    {
      "cell_type": "code",
      "execution_count": null,
      "id": "caa790ab",
      "metadata": {
        "id": "caa790ab",
        "outputId": "f4a8ecd3-22e2-44e4-c1a0-943c3f7ba3bb"
      },
      "outputs": [
        {
          "name": "stdout",
          "output_type": "stream",
          "text": [
            "{}\n"
          ]
        }
      ],
      "source": [
        "thisdict = {\n",
        "  \"brand\": \"Ford\",\n",
        "  \"model\": \"Mustang\",\n",
        "  \"year\": 1964\n",
        "}\n",
        "thisdict.clear()\n",
        "print(thisdict)"
      ]
    },
    {
      "cell_type": "markdown",
      "source": [
        "## Check if a key is existed"
      ],
      "metadata": {
        "id": "nB2ZNXPqoJf2"
      },
      "id": "nB2ZNXPqoJf2"
    },
    {
      "cell_type": "code",
      "source": [
        "thisdict = {\n",
        "  \"brand\": \"Ford\",\n",
        "  \"model\": \"Mustang\",\n",
        "  \"year\": 1964\n",
        "}"
      ],
      "metadata": {
        "id": "PnIiNUMToIp5"
      },
      "id": "PnIiNUMToIp5",
      "execution_count": 1,
      "outputs": []
    },
    {
      "cell_type": "code",
      "source": [
        "thisdict.get(\"brand\")"
      ],
      "metadata": {
        "id": "ms0O5BuvoU3f",
        "outputId": "0d13a70b-cb27-4f8c-f9a9-aa107912b9c4",
        "colab": {
          "base_uri": "https://localhost:8080/",
          "height": 36
        }
      },
      "id": "ms0O5BuvoU3f",
      "execution_count": 4,
      "outputs": [
        {
          "output_type": "execute_result",
          "data": {
            "text/plain": [
              "'Ford'"
            ],
            "application/vnd.google.colaboratory.intrinsic+json": {
              "type": "string"
            }
          },
          "metadata": {},
          "execution_count": 4
        }
      ]
    },
    {
      "cell_type": "code",
      "source": [
        "thisdict.get(\"owner\")\n",
        "# this method returns \"None\" when the key does not exist instead of rising ErrorValue"
      ],
      "metadata": {
        "id": "_wocEJPepEca"
      },
      "id": "_wocEJPepEca",
      "execution_count": 5,
      "outputs": []
    },
    {
      "cell_type": "code",
      "source": [
        "thisdict"
      ],
      "metadata": {
        "id": "7l7efz1bpJUR",
        "outputId": "e8112bc8-9779-42ea-911f-f8a5367b750c",
        "colab": {
          "base_uri": "https://localhost:8080/"
        }
      },
      "id": "7l7efz1bpJUR",
      "execution_count": 6,
      "outputs": [
        {
          "output_type": "execute_result",
          "data": {
            "text/plain": [
              "{'brand': 'Ford', 'model': 'Mustang', 'year': 1964}"
            ]
          },
          "metadata": {},
          "execution_count": 6
        }
      ]
    },
    {
      "cell_type": "code",
      "source": [],
      "metadata": {
        "id": "H7pZ2AidpLzO"
      },
      "id": "H7pZ2AidpLzO",
      "execution_count": null,
      "outputs": []
    },
    {
      "cell_type": "markdown",
      "source": [
        "## Key access error handling"
      ],
      "metadata": {
        "id": "EgCh9EfWpwYk"
      },
      "id": "EgCh9EfWpwYk"
    },
    {
      "cell_type": "code",
      "source": [
        "thisdict[\"owner\"]"
      ],
      "metadata": {
        "id": "7jRxFkWQpwJO",
        "outputId": "65615fa3-2808-45df-cd66-db24045197db",
        "colab": {
          "base_uri": "https://localhost:8080/",
          "height": 141
        }
      },
      "id": "7jRxFkWQpwJO",
      "execution_count": 7,
      "outputs": [
        {
          "output_type": "error",
          "ename": "KeyError",
          "evalue": "'owner'",
          "traceback": [
            "\u001b[0;31m---------------------------------------------------------------------------\u001b[0m",
            "\u001b[0;31mKeyError\u001b[0m                                  Traceback (most recent call last)",
            "\u001b[0;32m<ipython-input-7-db42b27b3823>\u001b[0m in \u001b[0;36m<cell line: 1>\u001b[0;34m()\u001b[0m\n\u001b[0;32m----> 1\u001b[0;31m \u001b[0mthisdict\u001b[0m\u001b[0;34m[\u001b[0m\u001b[0;34m\"owner\"\u001b[0m\u001b[0;34m]\u001b[0m\u001b[0;34m\u001b[0m\u001b[0;34m\u001b[0m\u001b[0m\n\u001b[0m",
            "\u001b[0;31mKeyError\u001b[0m: 'owner'"
          ]
        }
      ]
    },
    {
      "cell_type": "code",
      "source": [
        "try:\n",
        "    thisdict[\"owner\"]\n",
        "    print('The key exists in the dictionary')\n",
        "except KeyError as error:\n",
        "    print(\"The key doesn't exist in the dictionary\")"
      ],
      "metadata": {
        "id": "Yq7hUvyip4s7",
        "outputId": "f7475c2d-e41f-44e9-acc2-6c43221526d6",
        "colab": {
          "base_uri": "https://localhost:8080/"
        }
      },
      "id": "Yq7hUvyip4s7",
      "execution_count": 8,
      "outputs": [
        {
          "output_type": "stream",
          "name": "stdout",
          "text": [
            "The key doesn't exist in the dictionary\n"
          ]
        }
      ]
    },
    {
      "cell_type": "markdown",
      "id": "ca6be9ff",
      "metadata": {
        "id": "ca6be9ff"
      },
      "source": [
        "## Loop Dictionaries"
      ]
    },
    {
      "cell_type": "code",
      "execution_count": 10,
      "id": "864d87da",
      "metadata": {
        "id": "864d87da",
        "outputId": "4da261c2-1c4d-4698-9a3e-b53fc83b9413",
        "colab": {
          "base_uri": "https://localhost:8080/"
        }
      },
      "outputs": [
        {
          "output_type": "stream",
          "name": "stdout",
          "text": [
            "brand\n",
            "model\n",
            "year\n"
          ]
        }
      ],
      "source": [
        "#for key in thisdict.keys():\n",
        "for key in thisdict:\n",
        "  print(key)"
      ]
    },
    {
      "cell_type": "code",
      "execution_count": 11,
      "id": "fc9c2b31",
      "metadata": {
        "id": "fc9c2b31",
        "outputId": "84df73ab-92b9-4813-a5d3-b4bda4abf039",
        "colab": {
          "base_uri": "https://localhost:8080/"
        }
      },
      "outputs": [
        {
          "output_type": "stream",
          "name": "stdout",
          "text": [
            "('brand', 'Ford')\n",
            "('model', 'Mustang')\n",
            "('year', 1964)\n"
          ]
        }
      ],
      "source": [
        "for item in thisdict.items():\n",
        "  print(item)"
      ]
    },
    {
      "cell_type": "code",
      "execution_count": 12,
      "id": "c747577f",
      "metadata": {
        "id": "c747577f",
        "outputId": "5a9eb751-623a-4044-dc08-bea4c7b54d17",
        "colab": {
          "base_uri": "https://localhost:8080/"
        }
      },
      "outputs": [
        {
          "output_type": "stream",
          "name": "stdout",
          "text": [
            "brand Ford\n",
            "model Mustang\n",
            "year 1964\n"
          ]
        }
      ],
      "source": [
        "for key, value in thisdict.items():\n",
        "  print(key,value)"
      ]
    },
    {
      "cell_type": "code",
      "execution_count": null,
      "id": "a5dc4324",
      "metadata": {
        "id": "a5dc4324"
      },
      "outputs": [],
      "source": []
    },
    {
      "cell_type": "markdown",
      "id": "f014ed69",
      "metadata": {
        "id": "f014ed69"
      },
      "source": [
        "## Sort Dictionary"
      ]
    },
    {
      "cell_type": "code",
      "execution_count": null,
      "id": "7c062917",
      "metadata": {
        "id": "7c062917"
      },
      "outputs": [],
      "source": []
    },
    {
      "cell_type": "code",
      "execution_count": null,
      "id": "6587d80e",
      "metadata": {
        "id": "6587d80e"
      },
      "outputs": [],
      "source": []
    },
    {
      "cell_type": "code",
      "execution_count": null,
      "id": "fd867f89",
      "metadata": {
        "id": "fd867f89"
      },
      "outputs": [],
      "source": []
    },
    {
      "cell_type": "markdown",
      "id": "1e345636",
      "metadata": {
        "id": "1e345636"
      },
      "source": [
        "## Copy a Dictionary"
      ]
    },
    {
      "cell_type": "markdown",
      "id": "030ebfb6",
      "metadata": {
        "id": "030ebfb6"
      },
      "source": [
        "You cannot copy a dictionary simply by typing dict2 = dict1, because: dict2 will only be a reference to dict1, and changes made in dict1 will automatically also be made in dict2.\n",
        "\n",
        "There are ways to make a copy, one way is to use the built-in Dictionary method copy()."
      ]
    },
    {
      "cell_type": "markdown",
      "id": "6e83d15a",
      "metadata": {
        "id": "6e83d15a"
      },
      "source": [
        "### copy()"
      ]
    },
    {
      "cell_type": "code",
      "execution_count": null,
      "id": "3ca30223",
      "metadata": {
        "id": "3ca30223",
        "outputId": "dcc95dd8-f422-4780-a09d-ae63ac82dffa"
      },
      "outputs": [
        {
          "name": "stdout",
          "output_type": "stream",
          "text": [
            "{'brand': 'Ford', 'model': 'Mustang', 'year': 1964}\n"
          ]
        }
      ],
      "source": [
        "thisdict = {\n",
        "  \"brand\": \"Ford\",\n",
        "  \"model\": \"Mustang\",\n",
        "  \"year\": 1964\n",
        "}\n",
        "mydict = thisdict.copy()\n",
        "print(mydict)"
      ]
    },
    {
      "cell_type": "markdown",
      "id": "c1acb005",
      "metadata": {
        "id": "c1acb005"
      },
      "source": [
        "### dict()"
      ]
    },
    {
      "cell_type": "code",
      "execution_count": null,
      "id": "2c389a34",
      "metadata": {
        "id": "2c389a34",
        "outputId": "912c23f1-c54f-4e3b-afe3-36b2bbbe4bf5"
      },
      "outputs": [
        {
          "name": "stdout",
          "output_type": "stream",
          "text": [
            "{'brand': 'Ford', 'model': 'Mustang', 'year': 1964}\n"
          ]
        }
      ],
      "source": [
        "thisdict = {\n",
        "  \"brand\": \"Ford\",\n",
        "  \"model\": \"Mustang\",\n",
        "  \"year\": 1964\n",
        "}\n",
        "mydict = dict(thisdict)\n",
        "print(mydict)"
      ]
    },
    {
      "cell_type": "markdown",
      "id": "d2fe33c6",
      "metadata": {
        "id": "d2fe33c6"
      },
      "source": [
        "## Dictionary Methods"
      ]
    },
    {
      "cell_type": "markdown",
      "id": "f024bb3f",
      "metadata": {
        "id": "f024bb3f"
      },
      "source": [
        "<table style=\"box-sizing: inherit;border-collapse: collapse;border-spacing: 0;width: 100%;display: table;margin: 20px 0;-webkit-text-size-adjust: 100%;font-family: Verdana,sans-serif;font-size: 15px;line-height: 1.5;border: 1px solid #ccc; color: #000!important\">\n",
        "<tbody><tr>\n",
        "<th>Method</th>\n",
        "<th>Description</th>\n",
        "</tr>\n",
        "<tr><td><a href=\"ref_dictionary_clear.asp\">clear()</a></td><td>Removes all the elements from the dictionary</td></tr>\n",
        "<tr><td><a href=\"ref_dictionary_copy.asp\">copy()</a></td><td>Returns a copy of the dictionary</td></tr>\n",
        "<tr><td><a href=\"ref_dictionary_fromkeys.asp\">fromkeys()</a></td><td>Returns a dictionary with the specified keys and value</td></tr>\n",
        "<tr><td><a href=\"ref_dictionary_get.asp\">get()</a></td><td>Returns the value of the specified key</td></tr>\n",
        "<tr><td><a href=\"ref_dictionary_items.asp\">items()</a></td><td>Returns a list containing a tuple for each key value pair</td></tr>\n",
        "<tr><td><a href=\"ref_dictionary_keys.asp\">keys()</a></td><td>Returns a list containing the dictionary's keys</td></tr>\n",
        "<tr><td><a href=\"ref_dictionary_pop.asp\">pop()</a></td><td>Removes the element with the specified key</td></tr>\n",
        "<tr><td><a href=\"ref_dictionary_popitem.asp\">popitem()</a></td><td>Removes the last\n",
        "  inserted key-value pair</td></tr>\n",
        "<tr><td><a href=\"ref_dictionary_setdefault.asp\">setdefault()</a></td><td>Returns the value of the specified key. If the key does not exist: insert the key, with the specified value</td></tr>\n",
        "<tr><td><a href=\"ref_dictionary_update.asp\">update()</a></td><td>Updates the dictionary with the specified key-value pairs</td></tr>\n",
        "<tr><td><a href=\"ref_dictionary_values.asp\">values()</a></td><td>Returns a list of all the values in the dictionary</td></tr>\n",
        "</tbody></table>"
      ]
    },
    {
      "cell_type": "code",
      "execution_count": null,
      "id": "83c0657b",
      "metadata": {
        "id": "83c0657b"
      },
      "outputs": [],
      "source": []
    }
  ],
  "metadata": {
    "kernelspec": {
      "display_name": "Python 3 (ipykernel)",
      "language": "python",
      "name": "python3"
    },
    "language_info": {
      "codemirror_mode": {
        "name": "ipython",
        "version": 3
      },
      "file_extension": ".py",
      "mimetype": "text/x-python",
      "name": "python",
      "nbconvert_exporter": "python",
      "pygments_lexer": "ipython3",
      "version": "3.9.7"
    },
    "toc": {
      "base_numbering": 1,
      "nav_menu": {},
      "number_sections": true,
      "sideBar": true,
      "skip_h1_title": false,
      "title_cell": "Table of Contents",
      "title_sidebar": "Contents",
      "toc_cell": false,
      "toc_position": {},
      "toc_section_display": true,
      "toc_window_display": false
    },
    "colab": {
      "provenance": [],
      "include_colab_link": true
    }
  },
  "nbformat": 4,
  "nbformat_minor": 5
}