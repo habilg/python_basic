{
 "cells": [
  {
   "cell_type": "markdown",
   "id": "2ca363df",
   "metadata": {},
   "source": [
    "# __call__"
   ]
  },
  {
   "cell_type": "markdown",
   "id": "9672b13f",
   "metadata": {},
   "source": [
    "The __call__ method enables Python programmers to write classes where the instances behave like functions and can be called like a function. When the instance is called as a function; if this method is defined, x(arg1, arg2, ...) is a shorthand for x.__call__(arg1, arg2, ...)."
   ]
  },
  {
   "cell_type": "code",
   "execution_count": 1,
   "id": "79a5dcaa",
   "metadata": {},
   "outputs": [],
   "source": [
    "class Example:\n",
    "    def __init__(self):\n",
    "        print(\"Instance Created\")\n",
    "    def __call__(self):\n",
    "        print(\"Instance is called via special method\")"
   ]
  },
  {
   "cell_type": "code",
   "execution_count": 3,
   "id": "6b0bc39b",
   "metadata": {},
   "outputs": [
    {
     "name": "stdout",
     "output_type": "stream",
     "text": [
      "Instance Created\n"
     ]
    }
   ],
   "source": [
    "myexample=Example()"
   ]
  },
  {
   "cell_type": "code",
   "execution_count": 4,
   "id": "1cbd6982",
   "metadata": {},
   "outputs": [],
   "source": [
    "class Product:\n",
    "    def __init__(self):\n",
    "        print(\"Instance Created\")\n",
    "    def __call__(self, a, b):\n",
    "        print(a * b)"
   ]
  },
  {
   "cell_type": "code",
   "execution_count": 5,
   "id": "1fbf7b10",
   "metadata": {},
   "outputs": [
    {
     "name": "stdout",
     "output_type": "stream",
     "text": [
      "Instance Created\n"
     ]
    }
   ],
   "source": [
    "mProduct=Product()"
   ]
  },
  {
   "cell_type": "code",
   "execution_count": 7,
   "id": "a566968d",
   "metadata": {},
   "outputs": [
    {
     "name": "stdout",
     "output_type": "stream",
     "text": [
      "200\n"
     ]
    }
   ],
   "source": [
    "mProduct(10,20)"
   ]
  },
  {
   "cell_type": "markdown",
   "id": "308ecbb4",
   "metadata": {},
   "source": [
    "https://www.tutorialsteacher.com/python/magic-methods-in-python"
   ]
  },
  {
   "cell_type": "code",
   "execution_count": null,
   "id": "27be8f90",
   "metadata": {},
   "outputs": [],
   "source": []
  }
 ],
 "metadata": {
  "kernelspec": {
   "display_name": "Python 3 (ipykernel)",
   "language": "python",
   "name": "python3"
  },
  "language_info": {
   "codemirror_mode": {
    "name": "ipython",
    "version": 3
   },
   "file_extension": ".py",
   "mimetype": "text/x-python",
   "name": "python",
   "nbconvert_exporter": "python",
   "pygments_lexer": "ipython3",
   "version": "3.9.7"
  }
 },
 "nbformat": 4,
 "nbformat_minor": 5
}
