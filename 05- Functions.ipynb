{
 "cells": [
  {
   "cell_type": "code",
   "execution_count": null,
   "id": "c1ac68ed",
   "metadata": {},
   "outputs": [],
   "source": []
  },
  {
   "cell_type": "markdown",
   "id": "b3e7ffbe",
   "metadata": {},
   "source": [
    "<h1>5 types of Arguments:</h1>\n",
    "<ul class=\"i8Z77e\" style=\" color: #202124; font-family: arial, sans-serif; font-size: 16px;\">\n",
    "   \n",
    "<li class=\"TrT0Xe\" style=\"margin: 0px 0px 4px; padding: 0px; list-style-type: disc;\">default arguments.</li>\n",
    "<li class=\"TrT0Xe\" style=\"margin: 0px 0px 4px; padding: 0px; list-style-type: disc;\">keyword arguments.</li>\n",
    "<li class=\"TrT0Xe\" style=\"margin: 0px 0px 4px; padding: 0px; list-style-type: disc;\">positional arguments.</li>\n",
    "<li class=\"TrT0Xe\" style=\"margin: 0px 0px 4px; padding: 0px; list-style-type: disc;\">arbitrary positional arguments.</li>\n",
    "<li class=\"TrT0Xe\" style=\"margin: 0px 0px 4px; padding: 0px; list-style-type: disc;\">arbitrary keyword arguments.</li>\n",
    "</ul>\n",
    "<p>&nbsp;</p>"
   ]
  },
  {
   "cell_type": "code",
   "execution_count": null,
   "id": "73af3bcd",
   "metadata": {},
   "outputs": [],
   "source": []
  },
  {
   "cell_type": "markdown",
   "id": "f50e93c9",
   "metadata": {},
   "source": [
    "<h1 id=\"LAMBDA\" data-toc-modified-id=\"LAMBDA-1\"><a id=\"LAMBDA-1\" class=\"toc-mod-link\"></a><span class=\"toc-item-num\">1&nbsp;&nbsp;</span>LAMBDA</h1>\n",
    "<p>&nbsp;</p>\n",
    "<p>definition:<br /><span style=\"color: #292929; font-family: Menlo, Monaco, 'Courier New', Courier, monospace; font-size: 16px; letter-spacing: -0.352px; white-space: pre-wrap; background-color: #f2f2f2;\">lambda argument(s): expression</span></p>"
   ]
  },
  {
   "cell_type": "code",
   "execution_count": 1,
   "id": "0790d319",
   "metadata": {},
   "outputs": [
    {
     "data": {
      "text/plain": [
       "24"
      ]
     },
     "execution_count": 1,
     "metadata": {},
     "output_type": "execute_result"
    }
   ],
   "source": [
    "(lambda x: x*2)(12)"
   ]
  },
  {
   "cell_type": "markdown",
   "id": "c753e03a",
   "metadata": {},
   "source": [
    "<p><span class=\"enlighter-k0\" style=\"zoom: 1; border: 0px; font-family: 'Source Code Pro', 'Liberation Mono', 'Courier New', Courier, monospace; font-size: 1.25em; font-weight: bold; margin: 0px; outline: 0px; padding: 0px; vertical-align: baseline; line-height: inherit; color: #066da1; white-space: pre-wrap;\">lambda</span> <span class=\"enlighter-g1\" style=\"zoom: 1; border: 0px; font-family: 'Source Code Pro', 'Liberation Mono', 'Courier New', Courier, monospace; font-size: 1.25em; margin: 0px; outline: 0px; padding: 0px; vertical-align: baseline; line-height: inherit; color: #444444; white-space: pre-wrap;\">&lt;</span><span class=\"enlighter-text\" style=\"zoom: 1; border: 0px; font-family: 'Source Code Pro', 'Liberation Mono', 'Courier New', Courier, monospace; font-size: 1.25em; margin: 0px; outline: 0px; padding: 0px; vertical-align: baseline; line-height: inherit; white-space: pre-wrap;\">arguments</span><span class=\"enlighter-g1\" style=\"zoom: 1; border: 0px; font-family: 'Source Code Pro', 'Liberation Mono', 'Courier New', Courier, monospace; font-size: 1.25em; margin: 0px; outline: 0px; padding: 0px; vertical-align: baseline; line-height: inherit; color: #444444; white-space: pre-wrap;\">&gt;</span><span class=\"enlighter-text\" style=\"zoom: 1; border: 0px; font-family: 'Source Code Pro', 'Liberation Mono', 'Courier New', Courier, monospace; font-size: 1.25em; margin: 0px; outline: 0px; padding: 0px; vertical-align: baseline; line-height: inherit; white-space: pre-wrap;\"> : </span><span class=\"enlighter-g1\" style=\"zoom: 1; border: 0px; font-family: 'Source Code Pro', 'Liberation Mono', 'Courier New', Courier, monospace; font-size: 1.25em; margin: 0px; outline: 0px; padding: 0px; vertical-align: baseline; line-height: inherit; color: #444444; white-space: pre-wrap;\">&lt;</span><span class=\"enlighter-text\" style=\"zoom: 1; border: 0px; font-family: 'Source Code Pro', 'Liberation Mono', 'Courier New', Courier, monospace; font-size: 1.25em; margin: 0px; outline: 0px; padding: 0px; vertical-align: baseline; line-height: inherit; white-space: pre-wrap;\">Return Value </span><span class=\"enlighter-k1\" style=\"zoom: 1; border: 0px; font-family: 'Source Code Pro', 'Liberation Mono', 'Courier New', Courier, monospace; font-size: 1.25em; font-weight: bold; margin: 0px; outline: 0px; padding: 0px; vertical-align: baseline; line-height: inherit; color: #066da1; white-space: pre-wrap;\">if</span><span class=\"enlighter-text\" style=\"zoom: 1; border: 0px; font-family: 'Source Code Pro', 'Liberation Mono', 'Courier New', Courier, monospace; font-size: 1.25em; margin: 0px; outline: 0px; padding: 0px; vertical-align: baseline; line-height: inherit; white-space: pre-wrap;\"> condition </span><span class=\"enlighter-k0\" style=\"zoom: 1; border: 0px; font-family: 'Source Code Pro', 'Liberation Mono', 'Courier New', Courier, monospace; font-size: 1.25em; font-weight: bold; margin: 0px; outline: 0px; padding: 0px; vertical-align: baseline; line-height: inherit; color: #066da1; white-space: pre-wrap;\">is</span> <span class=\"enlighter-e0\" style=\"zoom: 1; border: 0px; font-family: 'Source Code Pro', 'Liberation Mono', 'Courier New', Courier, monospace; font-size: 1.25em; font-weight: bold; margin: 0px; outline: 0px; padding: 0px; vertical-align: baseline; line-height: inherit; color: #d53aa9; white-space: pre-wrap;\">True</span><span class=\"enlighter-g1\" style=\"zoom: 1; border: 0px; font-family: 'Source Code Pro', 'Liberation Mono', 'Courier New', Courier, monospace; font-size: 1.25em; margin: 0px; outline: 0px; padding: 0px; vertical-align: baseline; line-height: inherit; color: #444444; white-space: pre-wrap;\">&gt;</span> <span class=\"enlighter-k1\" style=\"zoom: 1; border: 0px; font-family: 'Source Code Pro', 'Liberation Mono', 'Courier New', Courier, monospace; font-size: 1.25em; font-weight: bold; margin: 0px; outline: 0px; padding: 0px; vertical-align: baseline; line-height: inherit; color: #066da1; white-space: pre-wrap;\">if</span> <span class=\"enlighter-g1\" style=\"zoom: 1; border: 0px; font-family: 'Source Code Pro', 'Liberation Mono', 'Courier New', Courier, monospace; font-size: 1.25em; margin: 0px; outline: 0px; padding: 0px; vertical-align: baseline; line-height: inherit; color: #444444; white-space: pre-wrap;\">&lt;</span><span class=\"enlighter-text\" style=\"zoom: 1; border: 0px; font-family: 'Source Code Pro', 'Liberation Mono', 'Courier New', Courier, monospace; font-size: 1.25em; margin: 0px; outline: 0px; padding: 0px; vertical-align: baseline; line-height: inherit; white-space: pre-wrap;\">condition</span><span class=\"enlighter-g1\" style=\"zoom: 1; border: 0px; font-family: 'Source Code Pro', 'Liberation Mono', 'Courier New', Courier, monospace; font-size: 1.25em; margin: 0px; outline: 0px; padding: 0px; vertical-align: baseline; line-height: inherit; color: #444444; white-space: pre-wrap;\">&gt;</span> <span class=\"enlighter-k1\" style=\"zoom: 1; border: 0px; font-family: 'Source Code Pro', 'Liberation Mono', 'Courier New', Courier, monospace; font-size: 1.25em; font-weight: bold; margin: 0px; outline: 0px; padding: 0px; vertical-align: baseline; line-height: inherit; color: #066da1; white-space: pre-wrap;\">else</span> <span class=\"enlighter-g1\" style=\"zoom: 1; border: 0px; font-family: 'Source Code Pro', 'Liberation Mono', 'Courier New', Courier, monospace; font-size: 1.25em; margin: 0px; outline: 0px; padding: 0px; vertical-align: baseline; line-height: inherit; color: #444444; white-space: pre-wrap;\">&lt;</span><span class=\"enlighter-text\" style=\"zoom: 1; border: 0px; font-family: 'Source Code Pro', 'Liberation Mono', 'Courier New', Courier, monospace; font-size: 1.25em; margin: 0px; outline: 0px; padding: 0px; vertical-align: baseline; line-height: inherit; white-space: pre-wrap;\">Return Value </span><span class=\"enlighter-k1\" style=\"zoom: 1; border: 0px; font-family: 'Source Code Pro', 'Liberation Mono', 'Courier New', Courier, monospace; font-size: 1.25em; font-weight: bold; margin: 0px; outline: 0px; padding: 0px; vertical-align: baseline; line-height: inherit; color: #066da1; white-space: pre-wrap;\">if</span><span class=\"enlighter-text\" style=\"zoom: 1; border: 0px; font-family: 'Source Code Pro', 'Liberation Mono', 'Courier New', Courier, monospace; font-size: 1.25em; margin: 0px; outline: 0px; padding: 0px; vertical-align: baseline; line-height: inherit; white-space: pre-wrap;\"> condition </span><span class=\"enlighter-k0\" style=\"zoom: 1; border: 0px; font-family: 'Source Code Pro', 'Liberation Mono', 'Courier New', Courier, monospace; font-size: 1.25em; font-weight: bold; margin: 0px; outline: 0px; padding: 0px; vertical-align: baseline; line-height: inherit; color: #066da1; white-space: pre-wrap;\">is</span> <span class=\"enlighter-e0\" style=\"zoom: 1; border: 0px; font-family: 'Source Code Pro', 'Liberation Mono', 'Courier New', Courier, monospace; font-size: 1.25em; font-weight: bold; margin: 0px; outline: 0px; padding: 0px; vertical-align: baseline; line-height: inherit; color: #d53aa9; white-space: pre-wrap;\">False</span><span class=\"enlighter-g1\" style=\"zoom: 1; border: 0px; font-family: 'Source Code Pro', 'Liberation Mono', 'Courier New', Courier, monospace; font-size: 1.25em; margin: 0px; outline: 0px; padding: 0px; vertical-align: baseline; line-height: inherit; color: #444444; white-space: pre-wrap;\">&gt;</span></p>"
   ]
  },
  {
   "cell_type": "code",
   "execution_count": 2,
   "id": "435cbd68",
   "metadata": {},
   "outputs": [
    {
     "data": {
      "text/plain": [
       "True"
      ]
     },
     "execution_count": 2,
     "metadata": {},
     "output_type": "execute_result"
    }
   ],
   "source": [
    "test = lambda x : True if (x > 10 and x < 20) else False\n",
    "test(12)"
   ]
  },
  {
   "cell_type": "code",
   "execution_count": 3,
   "id": "a25195fb",
   "metadata": {},
   "outputs": [
    {
     "data": {
      "text/plain": [
       "True"
      ]
     },
     "execution_count": 3,
     "metadata": {},
     "output_type": "execute_result"
    }
   ],
   "source": [
    "check = lambda x : x > 10 and x < 20\n",
    "check(12)"
   ]
  },
  {
   "cell_type": "markdown",
   "id": "a855c42c",
   "metadata": {},
   "source": [
    "<h2>How to use \"elif\" ?</h2>"
   ]
  },
  {
   "cell_type": "markdown",
   "id": "3301ac5b",
   "metadata": {},
   "source": [
    "<p><span class=\"enlighter-k0\" style=\"zoom: 1; border: 0px; font-family: 'Source Code Pro', 'Liberation Mono', 'Courier New', Courier, monospace; font-size: 1.25em; font-weight: bold; margin: 0px; outline: 0px; padding: 0px; vertical-align: baseline; line-height: inherit; color: #066da1; white-space: pre-wrap; background-color: #ddf0dd;\">lambda</span> <span class=\"enlighter-g1\" style=\"zoom: 1; border: 0px; font-family: 'Source Code Pro', 'Liberation Mono', 'Courier New', Courier, monospace; font-size: 1.25em; margin: 0px; outline: 0px; padding: 0px; vertical-align: baseline; line-height: inherit; color: #444444; white-space: pre-wrap; background-color: #ddf0dd;\">&lt;</span><span class=\"enlighter-text\" style=\"zoom: 1; border: 0px; font-family: 'Source Code Pro', 'Liberation Mono', 'Courier New', Courier, monospace; font-size: 1.25em; margin: 0px; outline: 0px; padding: 0px; vertical-align: baseline; line-height: inherit; white-space: pre-wrap; background-color: #ddf0dd;\">args</span><span class=\"enlighter-g1\" style=\"zoom: 1; border: 0px; font-family: 'Source Code Pro', 'Liberation Mono', 'Courier New', Courier, monospace; font-size: 1.25em; margin: 0px; outline: 0px; padding: 0px; vertical-align: baseline; line-height: inherit; color: #444444; white-space: pre-wrap; background-color: #ddf0dd;\">&gt;</span><span class=\"enlighter-text\" style=\"zoom: 1; border: 0px; font-family: 'Source Code Pro', 'Liberation Mono', 'Courier New', Courier, monospace; font-size: 1.25em; margin: 0px; outline: 0px; padding: 0px; vertical-align: baseline; line-height: inherit; white-space: pre-wrap; background-color: #ddf0dd;\"> : </span><span class=\"enlighter-g1\" style=\"zoom: 1; border: 0px; font-family: 'Source Code Pro', 'Liberation Mono', 'Courier New', Courier, monospace; font-size: 1.25em; margin: 0px; outline: 0px; padding: 0px; vertical-align: baseline; line-height: inherit; color: #444444; white-space: pre-wrap; background-color: #ddf0dd;\">&lt;</span><span class=\"enlighter-k0\" style=\"zoom: 1; border: 0px; font-family: 'Source Code Pro', 'Liberation Mono', 'Courier New', Courier, monospace; font-size: 1.25em; font-weight: bold; margin: 0px; outline: 0px; padding: 0px; vertical-align: baseline; line-height: inherit; color: #066da1; white-space: pre-wrap; background-color: #ddf0dd;\">return</span><span class=\"enlighter-text\" style=\"zoom: 1; border: 0px; font-family: 'Source Code Pro', 'Liberation Mono', 'Courier New', Courier, monospace; font-size: 1.25em; margin: 0px; outline: 0px; padding: 0px; vertical-align: baseline; line-height: inherit; white-space: pre-wrap; background-color: #ddf0dd;\"> Value</span><span class=\"enlighter-g1\" style=\"zoom: 1; border: 0px; font-family: 'Source Code Pro', 'Liberation Mono', 'Courier New', Courier, monospace; font-size: 1.25em; margin: 0px; outline: 0px; padding: 0px; vertical-align: baseline; line-height: inherit; color: #444444; white-space: pre-wrap; background-color: #ddf0dd;\">&gt;</span> <span class=\"enlighter-k1\" style=\"zoom: 1; border: 0px; font-family: 'Source Code Pro', 'Liberation Mono', 'Courier New', Courier, monospace; font-size: 1.25em; font-weight: bold; margin: 0px; outline: 0px; padding: 0px; vertical-align: baseline; line-height: inherit; color: #066da1; white-space: pre-wrap; background-color: #ddf0dd;\">if</span> <span class=\"enlighter-g1\" style=\"zoom: 1; border: 0px; font-family: 'Source Code Pro', 'Liberation Mono', 'Courier New', Courier, monospace; font-size: 1.25em; margin: 0px; outline: 0px; padding: 0px; vertical-align: baseline; line-height: inherit; color: #444444; white-space: pre-wrap; background-color: #ddf0dd;\">&lt;</span><span class=\"enlighter-text\" style=\"zoom: 1; border: 0px; font-family: 'Source Code Pro', 'Liberation Mono', 'Courier New', Courier, monospace; font-size: 1.25em; margin: 0px; outline: 0px; padding: 0px; vertical-align: baseline; line-height: inherit; white-space: pre-wrap; background-color: #ddf0dd;\">condition </span><span class=\"enlighter-g1\" style=\"zoom: 1; border: 0px; font-family: 'Source Code Pro', 'Liberation Mono', 'Courier New', Courier, monospace; font-size: 1.25em; margin: 0px; outline: 0px; padding: 0px; vertical-align: baseline; line-height: inherit; color: #444444; white-space: pre-wrap; background-color: #ddf0dd;\">&gt;</span> <span class=\"enlighter-g1\" style=\"zoom: 1; border: 0px; font-family: 'Source Code Pro', 'Liberation Mono', 'Courier New', Courier, monospace; font-size: 1.25em; margin: 0px; outline: 0px; padding: 0px; vertical-align: baseline; line-height: inherit; color: #444444; white-space: pre-wrap; background-color: #ddf0dd;\">(</span> <span class=\"enlighter-g1\" style=\"zoom: 1; border: 0px; font-family: 'Source Code Pro', 'Liberation Mono', 'Courier New', Courier, monospace; font-size: 1.25em; margin: 0px; outline: 0px; padding: 0px; vertical-align: baseline; line-height: inherit; color: #444444; white-space: pre-wrap; background-color: #ddf0dd;\">&lt;</span><span class=\"enlighter-k0\" style=\"zoom: 1; border: 0px; font-family: 'Source Code Pro', 'Liberation Mono', 'Courier New', Courier, monospace; font-size: 1.25em; font-weight: bold; margin: 0px; outline: 0px; padding: 0px; vertical-align: baseline; line-height: inherit; color: #066da1; white-space: pre-wrap; background-color: #ddf0dd;\">return</span><span class=\"enlighter-text\" style=\"zoom: 1; border: 0px; font-family: 'Source Code Pro', 'Liberation Mono', 'Courier New', Courier, monospace; font-size: 1.25em; margin: 0px; outline: 0px; padding: 0px; vertical-align: baseline; line-height: inherit; white-space: pre-wrap; background-color: #ddf0dd;\"> value </span><span class=\"enlighter-g1\" style=\"zoom: 1; border: 0px; font-family: 'Source Code Pro', 'Liberation Mono', 'Courier New', Courier, monospace; font-size: 1.25em; margin: 0px; outline: 0px; padding: 0px; vertical-align: baseline; line-height: inherit; color: #444444; white-space: pre-wrap; background-color: #ddf0dd;\">&gt;</span> <span class=\"enlighter-k1\" style=\"zoom: 1; border: 0px; font-family: 'Source Code Pro', 'Liberation Mono', 'Courier New', Courier, monospace; font-size: 1.25em; font-weight: bold; margin: 0px; outline: 0px; padding: 0px; vertical-align: baseline; line-height: inherit; color: #066da1; white-space: pre-wrap; background-color: #ddf0dd;\">if</span> <span class=\"enlighter-g1\" style=\"zoom: 1; border: 0px; font-family: 'Source Code Pro', 'Liberation Mono', 'Courier New', Courier, monospace; font-size: 1.25em; margin: 0px; outline: 0px; padding: 0px; vertical-align: baseline; line-height: inherit; color: #444444; white-space: pre-wrap; background-color: #ddf0dd;\">&lt;</span><span class=\"enlighter-text\" style=\"zoom: 1; border: 0px; font-family: 'Source Code Pro', 'Liberation Mono', 'Courier New', Courier, monospace; font-size: 1.25em; margin: 0px; outline: 0px; padding: 0px; vertical-align: baseline; line-height: inherit; white-space: pre-wrap; background-color: #ddf0dd;\">condition</span><span class=\"enlighter-g1\" style=\"zoom: 1; border: 0px; font-family: 'Source Code Pro', 'Liberation Mono', 'Courier New', Courier, monospace; font-size: 1.25em; margin: 0px; outline: 0px; padding: 0px; vertical-align: baseline; line-height: inherit; color: #444444; white-space: pre-wrap; background-color: #ddf0dd;\">&gt;</span> <span class=\"enlighter-k1\" style=\"zoom: 1; border: 0px; font-family: 'Source Code Pro', 'Liberation Mono', 'Courier New', Courier, monospace; font-size: 1.25em; font-weight: bold; margin: 0px; outline: 0px; padding: 0px; vertical-align: baseline; line-height: inherit; color: #066da1; white-space: pre-wrap; background-color: #ddf0dd;\">else</span> <span class=\"enlighter-g1\" style=\"zoom: 1; border: 0px; font-family: 'Source Code Pro', 'Liberation Mono', 'Courier New', Courier, monospace; font-size: 1.25em; margin: 0px; outline: 0px; padding: 0px; vertical-align: baseline; line-height: inherit; color: #444444; white-space: pre-wrap; background-color: #ddf0dd;\">&lt;</span><span class=\"enlighter-k0\" style=\"zoom: 1; border: 0px; font-family: 'Source Code Pro', 'Liberation Mono', 'Courier New', Courier, monospace; font-size: 1.25em; font-weight: bold; margin: 0px; outline: 0px; padding: 0px; vertical-align: baseline; line-height: inherit; color: #066da1; white-space: pre-wrap; background-color: #ddf0dd;\">return</span><span class=\"enlighter-text\" style=\"zoom: 1; border: 0px; font-family: 'Source Code Pro', 'Liberation Mono', 'Courier New', Courier, monospace; font-size: 1.25em; margin: 0px; outline: 0px; padding: 0px; vertical-align: baseline; line-height: inherit; white-space: pre-wrap; background-color: #ddf0dd;\"> value</span><span class=\"enlighter-g1\" style=\"zoom: 1; border: 0px; font-family: 'Source Code Pro', 'Liberation Mono', 'Courier New', Courier, monospace; font-size: 1.25em; margin: 0px; outline: 0px; padding: 0px; vertical-align: baseline; line-height: inherit; color: #444444; white-space: pre-wrap; background-color: #ddf0dd;\">&gt;)</span></p>"
   ]
  },
  {
   "cell_type": "code",
   "execution_count": 4,
   "id": "188180bb",
   "metadata": {},
   "outputs": [
    {
     "data": {
      "text/plain": [
       "10"
      ]
     },
     "execution_count": 4,
     "metadata": {},
     "output_type": "execute_result"
    }
   ],
   "source": [
    "converter = lambda x : x*2 if x < 10 else (x*3 if x < 20 else x)\n",
    "converter(5)"
   ]
  },
  {
   "cell_type": "markdown",
   "id": "070cb996",
   "metadata": {},
   "source": [
    "<h2 id=\"Main-Usages:\" data-toc-modified-id=\"Main-Usages:-1.2\"><a id=\"Main-Usages:-1.2\" class=\"toc-mod-link\"></a><span class=\"toc-item-num\">1.2&nbsp;&nbsp;</span>Main Usages:</h2>\n",
    "<p data-toc-modified-id=\"Main-Usages:-1.2\"><span style=\"font-size: 14pt;\">filter()::lists &amp; DataFrames,</span><br /><span style=\"font-size: 14pt;\">apply(), map()::DataFrames,&nbsp;</span></p>"
   ]
  },
  {
   "cell_type": "code",
   "execution_count": 6,
   "id": "5921a2c1",
   "metadata": {},
   "outputs": [
    {
     "data": {
      "text/html": [
       "<div>\n",
       "<style scoped>\n",
       "    .dataframe tbody tr th:only-of-type {\n",
       "        vertical-align: middle;\n",
       "    }\n",
       "\n",
       "    .dataframe tbody tr th {\n",
       "        vertical-align: top;\n",
       "    }\n",
       "\n",
       "    .dataframe thead th {\n",
       "        text-align: right;\n",
       "    }\n",
       "</style>\n",
       "<table border=\"1\" class=\"dataframe\">\n",
       "  <thead>\n",
       "    <tr style=\"text-align: right;\">\n",
       "      <th></th>\n",
       "      <th>Name</th>\n",
       "      <th>Status</th>\n",
       "      <th>Birthyear</th>\n",
       "    </tr>\n",
       "  </thead>\n",
       "  <tbody>\n",
       "    <tr>\n",
       "      <th>0</th>\n",
       "      <td>Luke</td>\n",
       "      <td>Father</td>\n",
       "      <td>1976</td>\n",
       "    </tr>\n",
       "    <tr>\n",
       "      <th>1</th>\n",
       "      <td>Gina</td>\n",
       "      <td>Mother</td>\n",
       "      <td>1984</td>\n",
       "    </tr>\n",
       "    <tr>\n",
       "      <th>2</th>\n",
       "      <td>Sam</td>\n",
       "      <td>Son</td>\n",
       "      <td>2013</td>\n",
       "    </tr>\n",
       "    <tr>\n",
       "      <th>3</th>\n",
       "      <td>Emma</td>\n",
       "      <td>Daughter</td>\n",
       "      <td>2016</td>\n",
       "    </tr>\n",
       "  </tbody>\n",
       "</table>\n",
       "</div>"
      ],
      "text/plain": [
       "   Name    Status  Birthyear\n",
       "0  Luke    Father       1976\n",
       "1  Gina    Mother       1984\n",
       "2   Sam       Son       2013\n",
       "3  Emma  Daughter       2016"
      ]
     },
     "execution_count": 6,
     "metadata": {},
     "output_type": "execute_result"
    }
   ],
   "source": [
    "import pandas as pd\n",
    "df = pd.DataFrame({\n",
    "    'Name': ['Luke','Gina','Sam','Emma'],\n",
    "    'Status': ['Father', 'Mother', 'Son', 'Daughter'],\n",
    "    'Birthyear': [1976, 1984, 2013, 2016],\n",
    "})\n",
    "df"
   ]
  },
  {
   "cell_type": "code",
   "execution_count": 8,
   "id": "715546e7",
   "metadata": {},
   "outputs": [
    {
     "data": {
      "text/html": [
       "<div>\n",
       "<style scoped>\n",
       "    .dataframe tbody tr th:only-of-type {\n",
       "        vertical-align: middle;\n",
       "    }\n",
       "\n",
       "    .dataframe tbody tr th {\n",
       "        vertical-align: top;\n",
       "    }\n",
       "\n",
       "    .dataframe thead th {\n",
       "        text-align: right;\n",
       "    }\n",
       "</style>\n",
       "<table border=\"1\" class=\"dataframe\">\n",
       "  <thead>\n",
       "    <tr style=\"text-align: right;\">\n",
       "      <th></th>\n",
       "      <th>Name</th>\n",
       "      <th>Status</th>\n",
       "      <th>Birthyear</th>\n",
       "      <th>age</th>\n",
       "    </tr>\n",
       "  </thead>\n",
       "  <tbody>\n",
       "    <tr>\n",
       "      <th>0</th>\n",
       "      <td>Luke</td>\n",
       "      <td>Father</td>\n",
       "      <td>1976</td>\n",
       "      <td>45</td>\n",
       "    </tr>\n",
       "    <tr>\n",
       "      <th>1</th>\n",
       "      <td>Gina</td>\n",
       "      <td>Mother</td>\n",
       "      <td>1984</td>\n",
       "      <td>37</td>\n",
       "    </tr>\n",
       "    <tr>\n",
       "      <th>2</th>\n",
       "      <td>Sam</td>\n",
       "      <td>Son</td>\n",
       "      <td>2013</td>\n",
       "      <td>8</td>\n",
       "    </tr>\n",
       "    <tr>\n",
       "      <th>3</th>\n",
       "      <td>Emma</td>\n",
       "      <td>Daughter</td>\n",
       "      <td>2016</td>\n",
       "      <td>5</td>\n",
       "    </tr>\n",
       "  </tbody>\n",
       "</table>\n",
       "</div>"
      ],
      "text/plain": [
       "   Name    Status  Birthyear  age\n",
       "0  Luke    Father       1976   45\n",
       "1  Gina    Mother       1984   37\n",
       "2   Sam       Son       2013    8\n",
       "3  Emma  Daughter       2016    5"
      ]
     },
     "execution_count": 8,
     "metadata": {},
     "output_type": "execute_result"
    }
   ],
   "source": [
    "df['age'] = df['Birthyear'].apply(lambda x: 2021-x)\n",
    "df"
   ]
  },
  {
   "cell_type": "code",
   "execution_count": 9,
   "id": "7277c41c",
   "metadata": {},
   "outputs": [
    {
     "data": {
      "text/html": [
       "<div>\n",
       "<style scoped>\n",
       "    .dataframe tbody tr th:only-of-type {\n",
       "        vertical-align: middle;\n",
       "    }\n",
       "\n",
       "    .dataframe tbody tr th {\n",
       "        vertical-align: top;\n",
       "    }\n",
       "\n",
       "    .dataframe thead th {\n",
       "        text-align: right;\n",
       "    }\n",
       "</style>\n",
       "<table border=\"1\" class=\"dataframe\">\n",
       "  <thead>\n",
       "    <tr style=\"text-align: right;\">\n",
       "      <th></th>\n",
       "      <th>Name</th>\n",
       "      <th>Status</th>\n",
       "      <th>Birthyear</th>\n",
       "      <th>age</th>\n",
       "      <th>double_age</th>\n",
       "    </tr>\n",
       "  </thead>\n",
       "  <tbody>\n",
       "    <tr>\n",
       "      <th>0</th>\n",
       "      <td>Luke</td>\n",
       "      <td>Father</td>\n",
       "      <td>1976</td>\n",
       "      <td>45</td>\n",
       "      <td>90</td>\n",
       "    </tr>\n",
       "    <tr>\n",
       "      <th>1</th>\n",
       "      <td>Gina</td>\n",
       "      <td>Mother</td>\n",
       "      <td>1984</td>\n",
       "      <td>37</td>\n",
       "      <td>74</td>\n",
       "    </tr>\n",
       "    <tr>\n",
       "      <th>2</th>\n",
       "      <td>Sam</td>\n",
       "      <td>Son</td>\n",
       "      <td>2013</td>\n",
       "      <td>8</td>\n",
       "      <td>16</td>\n",
       "    </tr>\n",
       "    <tr>\n",
       "      <th>3</th>\n",
       "      <td>Emma</td>\n",
       "      <td>Daughter</td>\n",
       "      <td>2016</td>\n",
       "      <td>5</td>\n",
       "      <td>10</td>\n",
       "    </tr>\n",
       "  </tbody>\n",
       "</table>\n",
       "</div>"
      ],
      "text/plain": [
       "   Name    Status  Birthyear  age  double_age\n",
       "0  Luke    Father       1976   45          90\n",
       "1  Gina    Mother       1984   37          74\n",
       "2   Sam       Son       2013    8          16\n",
       "3  Emma  Daughter       2016    5          10"
      ]
     },
     "execution_count": 9,
     "metadata": {},
     "output_type": "execute_result"
    }
   ],
   "source": [
    "df['double_age'] = df['age'].map(lambda x: x*2)\n",
    "df"
   ]
  },
  {
   "cell_type": "code",
   "execution_count": 10,
   "id": "002c874a",
   "metadata": {},
   "outputs": [
    {
     "data": {
      "text/html": [
       "<div>\n",
       "<style scoped>\n",
       "    .dataframe tbody tr th:only-of-type {\n",
       "        vertical-align: middle;\n",
       "    }\n",
       "\n",
       "    .dataframe tbody tr th {\n",
       "        vertical-align: top;\n",
       "    }\n",
       "\n",
       "    .dataframe thead th {\n",
       "        text-align: right;\n",
       "    }\n",
       "</style>\n",
       "<table border=\"1\" class=\"dataframe\">\n",
       "  <thead>\n",
       "    <tr style=\"text-align: right;\">\n",
       "      <th></th>\n",
       "      <th>Name</th>\n",
       "      <th>Status</th>\n",
       "      <th>Birthyear</th>\n",
       "      <th>age</th>\n",
       "      <th>double_age</th>\n",
       "      <th>Gender</th>\n",
       "    </tr>\n",
       "  </thead>\n",
       "  <tbody>\n",
       "    <tr>\n",
       "      <th>0</th>\n",
       "      <td>Luke</td>\n",
       "      <td>Father</td>\n",
       "      <td>1976</td>\n",
       "      <td>45</td>\n",
       "      <td>90</td>\n",
       "      <td>Female</td>\n",
       "    </tr>\n",
       "    <tr>\n",
       "      <th>1</th>\n",
       "      <td>Gina</td>\n",
       "      <td>Mother</td>\n",
       "      <td>1984</td>\n",
       "      <td>37</td>\n",
       "      <td>74</td>\n",
       "      <td>Female</td>\n",
       "    </tr>\n",
       "    <tr>\n",
       "      <th>2</th>\n",
       "      <td>Sam</td>\n",
       "      <td>Son</td>\n",
       "      <td>2013</td>\n",
       "      <td>8</td>\n",
       "      <td>16</td>\n",
       "      <td>Female</td>\n",
       "    </tr>\n",
       "    <tr>\n",
       "      <th>3</th>\n",
       "      <td>Emma</td>\n",
       "      <td>Daughter</td>\n",
       "      <td>2016</td>\n",
       "      <td>5</td>\n",
       "      <td>10</td>\n",
       "      <td>Female</td>\n",
       "    </tr>\n",
       "  </tbody>\n",
       "</table>\n",
       "</div>"
      ],
      "text/plain": [
       "   Name    Status  Birthyear  age  double_age  Gender\n",
       "0  Luke    Father       1976   45          90  Female\n",
       "1  Gina    Mother       1984   37          74  Female\n",
       "2   Sam       Son       2013    8          16  Female\n",
       "3  Emma  Daughter       2016    5          10  Female"
      ]
     },
     "execution_count": 10,
     "metadata": {},
     "output_type": "execute_result"
    }
   ],
   "source": [
    "df['Gender'] = df['Status'].map(lambda x: 'Male' if x=='father' or x=='son' else 'Female')\n",
    "df"
   ]
  },
  {
   "cell_type": "code",
   "execution_count": 11,
   "id": "67afa9d8",
   "metadata": {},
   "outputs": [
    {
     "data": {
      "text/html": [
       "<div>\n",
       "<style scoped>\n",
       "    .dataframe tbody tr th:only-of-type {\n",
       "        vertical-align: middle;\n",
       "    }\n",
       "\n",
       "    .dataframe tbody tr th {\n",
       "        vertical-align: top;\n",
       "    }\n",
       "\n",
       "    .dataframe thead th {\n",
       "        text-align: right;\n",
       "    }\n",
       "</style>\n",
       "<table border=\"1\" class=\"dataframe\">\n",
       "  <thead>\n",
       "    <tr style=\"text-align: right;\">\n",
       "      <th></th>\n",
       "      <th>Name</th>\n",
       "      <th>Status</th>\n",
       "      <th>Birthyear</th>\n",
       "      <th>age</th>\n",
       "      <th>double_age</th>\n",
       "      <th>Gender</th>\n",
       "    </tr>\n",
       "  </thead>\n",
       "  <tbody>\n",
       "    <tr>\n",
       "      <th>0</th>\n",
       "      <td>luke</td>\n",
       "      <td>father</td>\n",
       "      <td>1976</td>\n",
       "      <td>45</td>\n",
       "      <td>90</td>\n",
       "      <td>Female</td>\n",
       "    </tr>\n",
       "    <tr>\n",
       "      <th>1</th>\n",
       "      <td>gina</td>\n",
       "      <td>mother</td>\n",
       "      <td>1984</td>\n",
       "      <td>37</td>\n",
       "      <td>74</td>\n",
       "      <td>Female</td>\n",
       "    </tr>\n",
       "    <tr>\n",
       "      <th>2</th>\n",
       "      <td>sam</td>\n",
       "      <td>son</td>\n",
       "      <td>2013</td>\n",
       "      <td>8</td>\n",
       "      <td>16</td>\n",
       "      <td>Female</td>\n",
       "    </tr>\n",
       "    <tr>\n",
       "      <th>3</th>\n",
       "      <td>emma</td>\n",
       "      <td>daughter</td>\n",
       "      <td>2016</td>\n",
       "      <td>5</td>\n",
       "      <td>10</td>\n",
       "      <td>Female</td>\n",
       "    </tr>\n",
       "  </tbody>\n",
       "</table>\n",
       "</div>"
      ],
      "text/plain": [
       "   Name    Status  Birthyear  age  double_age  Gender\n",
       "0  luke    father       1976   45          90  Female\n",
       "1  gina    mother       1984   37          74  Female\n",
       "2   sam       son       2013    8          16  Female\n",
       "3  emma  daughter       2016    5          10  Female"
      ]
     },
     "execution_count": 11,
     "metadata": {},
     "output_type": "execute_result"
    }
   ],
   "source": [
    "df[['Name','Status']] = df.apply(lambda x: x[['Name','Status']].str.lower(), axis=1)\n",
    "df"
   ]
  },
  {
   "cell_type": "code",
   "execution_count": null,
   "id": "d5e70157",
   "metadata": {},
   "outputs": [],
   "source": []
  },
  {
   "cell_type": "markdown",
   "id": "14e88a5b",
   "metadata": {},
   "source": [
    "<h1>RECRUSSION in Python</h1>\n",
    "<a href='https://realpython.com/python-recursion/' target='_blank'> Reference</a>"
   ]
  },
  {
   "cell_type": "code",
   "execution_count": null,
   "id": "88fe79e2",
   "metadata": {},
   "outputs": [],
   "source": []
  },
  {
   "cell_type": "code",
   "execution_count": 8,
   "id": "5991a8fd",
   "metadata": {},
   "outputs": [
    {
     "ename": "NameError",
     "evalue": "name 'obj' is not defined",
     "output_type": "error",
     "traceback": [
      "\u001b[1;31m---------------------------------------------------------------------------\u001b[0m",
      "\u001b[1;31mNameError\u001b[0m                                 Traceback (most recent call last)",
      "\u001b[1;32m~\\AppData\\Local\\Temp/ipykernel_2372/2443764890.py\u001b[0m in \u001b[0;36m<module>\u001b[1;34m\u001b[0m\n\u001b[0;32m      1\u001b[0m \u001b[1;32mimport\u001b[0m \u001b[0mIPython\u001b[0m\u001b[1;33m.\u001b[0m\u001b[0mdisplay\u001b[0m\u001b[1;33m\u001b[0m\u001b[1;33m\u001b[0m\u001b[0m\n\u001b[1;32m----> 2\u001b[1;33m \u001b[0mdisplay\u001b[0m\u001b[1;33m(\u001b[0m\u001b[0mobj\u001b[0m\u001b[1;33m,\u001b[0m\u001b[0mmetadata\u001b[0m\u001b[1;33m=\u001b[0m\u001b[1;33m{\u001b[0m\u001b[1;34m\"tags\"\u001b[0m\u001b[1;33m:\u001b[0m \u001b[1;33m[\u001b[0m\u001b[1;33m]\u001b[0m\u001b[1;33m}\u001b[0m\u001b[1;33m)\u001b[0m\u001b[1;33m\u001b[0m\u001b[1;33m\u001b[0m\u001b[0m\n\u001b[0m",
      "\u001b[1;31mNameError\u001b[0m: name 'obj' is not defined"
     ]
    }
   ],
   "source": [
    "import IPython.display\n",
    "display(obj,metadata={\"tags\": []})"
   ]
  },
  {
   "cell_type": "markdown",
   "id": "856a6a1e",
   "metadata": {},
   "source": [
    "```{code-cell}\n",
    ":tags: [tag1,tag2,tag3]\n",
    "print(\"some code\")\n",
    "```"
   ]
  },
  {
   "cell_type": "code",
   "execution_count": null,
   "id": "95c3847e",
   "metadata": {},
   "outputs": [],
   "source": []
  }
 ],
 "metadata": {
  "celltoolbar": "Edit Metadata",
  "kernelspec": {
   "display_name": "Python 3 (ipykernel)",
   "language": "python",
   "name": "python3"
  },
  "language_info": {
   "codemirror_mode": {
    "name": "ipython",
    "version": 3
   },
   "file_extension": ".py",
   "mimetype": "text/x-python",
   "name": "python",
   "nbconvert_exporter": "python",
   "pygments_lexer": "ipython3",
   "version": "3.10.0"
  },
  "toc": {
   "base_numbering": 1,
   "nav_menu": {},
   "number_sections": true,
   "sideBar": true,
   "skip_h1_title": false,
   "title_cell": "Table of Contents",
   "title_sidebar": "Contents",
   "toc_cell": false,
   "toc_position": {},
   "toc_section_display": true,
   "toc_window_display": false
  }
 },
 "nbformat": 4,
 "nbformat_minor": 5
}
