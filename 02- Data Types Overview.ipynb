{
 "cells": [
  {
   "cell_type": "markdown",
   "id": "ed6dba9c",
   "metadata": {},
   "source": [
    "# DATA TYPES AND STRUCTURES"
   ]
  },
  {
   "cell_type": "markdown",
   "id": "65c3cca8",
   "metadata": {},
   "source": [
    "# Primiray data types:\n",
    "\n",
    " 1. int\n",
    " 1. float\n",
    " 1. bool\n",
    " 1. String"
   ]
  },
  {
   "cell_type": "markdown",
   "id": "20dd3ea2",
   "metadata": {},
   "source": [
    "# Primiray data Structures:\n",
    "\n",
    " 1. List\n",
    " 1. Tuple\n",
    " 1. Dictionary\n",
    " 1. Array\n",
    " 1. Series\n",
    " 1. DataFrame"
   ]
  },
  {
   "cell_type": "markdown",
   "id": "832bf885",
   "metadata": {},
   "source": [
    "# Extended data Structures:\n",
    "\n",
    " 1. Que\n",
    " 1. Linked List\n",
    " "
   ]
  },
  {
   "cell_type": "code",
   "execution_count": null,
   "id": "137a13d7",
   "metadata": {},
   "outputs": [],
   "source": []
  }
 ],
 "metadata": {
  "kernelspec": {
   "display_name": "Python 3 (ipykernel)",
   "language": "python",
   "name": "python3"
  },
  "language_info": {
   "codemirror_mode": {
    "name": "ipython",
    "version": 3
   },
   "file_extension": ".py",
   "mimetype": "text/x-python",
   "name": "python",
   "nbconvert_exporter": "python",
   "pygments_lexer": "ipython3",
   "version": "3.9.6"
  }
 },
 "nbformat": 4,
 "nbformat_minor": 5
}
