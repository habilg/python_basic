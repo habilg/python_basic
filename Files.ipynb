{
 "cells": [
  {
   "cell_type": "markdown",
   "id": "e6274eae",
   "metadata": {},
   "source": [
    "### Demofile.txt"
   ]
  },
  {
   "cell_type": "markdown",
   "id": "b65375c8",
   "metadata": {},
   "source": [
    "Hello! Welcome to demofile.txt  \n",
    "This file is for testing purposes.  \n",
    "Good Luck!  "
   ]
  },
  {
   "cell_type": "markdown",
   "id": "fb31471f",
   "metadata": {},
   "source": [
    "## Open file"
   ]
  },
  {
   "cell_type": "code",
   "execution_count": 1,
   "id": "e6c26dcf",
   "metadata": {},
   "outputs": [
    {
     "name": "stdout",
     "output_type": "stream",
     "text": [
      "Hello! Welcome to demofile.txt\n",
      "This file is for testing purposes.\n",
      "Good Luck!\n"
     ]
    }
   ],
   "source": [
    "f = open(\"demofile.txt\", \"r\")\n",
    "print(f.read())"
   ]
  },
  {
   "cell_type": "code",
   "execution_count": 2,
   "id": "f4f7e852",
   "metadata": {},
   "outputs": [
    {
     "name": "stdout",
     "output_type": "stream",
     "text": [
      "Hello\n"
     ]
    }
   ],
   "source": [
    "f = open(\"demofile.txt\", \"r\")\n",
    "print(f.read(5))"
   ]
  },
  {
   "cell_type": "code",
   "execution_count": 3,
   "id": "844f7d20",
   "metadata": {},
   "outputs": [
    {
     "name": "stdout",
     "output_type": "stream",
     "text": [
      "Hello! Welcome to demofile.txt\n",
      "\n"
     ]
    }
   ],
   "source": [
    "f = open(\"demofile.txt\", \"r\")\n",
    "print(f.readline())"
   ]
  },
  {
   "cell_type": "code",
   "execution_count": 4,
   "id": "9a2c4151",
   "metadata": {},
   "outputs": [
    {
     "name": "stdout",
     "output_type": "stream",
     "text": [
      "Hello! Welcome to demofile.txt\n",
      "\n",
      "This file is for testing purposes.\n",
      "\n"
     ]
    }
   ],
   "source": [
    "f = open(\"demofile.txt\", \"r\")\n",
    "print(f.readline())\n",
    "print(f.readline())"
   ]
  },
  {
   "cell_type": "code",
   "execution_count": 5,
   "id": "6fb68ff4",
   "metadata": {},
   "outputs": [
    {
     "name": "stdout",
     "output_type": "stream",
     "text": [
      "Hello! Welcome to demofile.txt\n",
      "\n",
      "This file is for testing purposes.\n",
      "\n",
      "Good Luck!\n"
     ]
    }
   ],
   "source": [
    "f = open(\"demofile.txt\", \"r\")\n",
    "for x in f:\n",
    "    print(x)"
   ]
  },
  {
   "cell_type": "code",
   "execution_count": 9,
   "id": "b67c7920",
   "metadata": {},
   "outputs": [
    {
     "name": "stdout",
     "output_type": "stream",
     "text": [
      "Hello\n"
     ]
    }
   ],
   "source": [
    "f = open(\"demofile.txt\", \"r\")\n",
    "print(f.readline(5))"
   ]
  },
  {
   "cell_type": "markdown",
   "id": "6ae33a52",
   "metadata": {},
   "source": [
    "## Close File"
   ]
  },
  {
   "cell_type": "code",
   "execution_count": 10,
   "id": "72636632",
   "metadata": {},
   "outputs": [
    {
     "name": "stdout",
     "output_type": "stream",
     "text": [
      "Hello! Welcome to demofile.txt\n",
      "\n"
     ]
    }
   ],
   "source": [
    "f = open(\"demofile.txt\", \"r\")\n",
    "print(f.readline())\n",
    "f.close()"
   ]
  },
  {
   "cell_type": "markdown",
   "id": "73452f8b",
   "metadata": {},
   "source": [
    "## write a new file /overwrite a file"
   ]
  },
  {
   "cell_type": "code",
   "execution_count": 11,
   "id": "82494f25",
   "metadata": {},
   "outputs": [
    {
     "name": "stdout",
     "output_type": "stream",
     "text": [
      "Woops! I have deleted the content!\n"
     ]
    }
   ],
   "source": [
    "f = open(\"demofile3.txt\", \"w\")\n",
    "f.write(\"Woops! I have deleted the content!\")\n",
    "f.close()\n",
    "\n",
    "#open and read the file after the appending:\n",
    "f = open(\"demofile3.txt\", \"r\")\n",
    "print(f.read())"
   ]
  },
  {
   "cell_type": "markdown",
   "id": "58c94eb8",
   "metadata": {},
   "source": [
    "##  Alert if file is exist:"
   ]
  },
  {
   "cell_type": "code",
   "execution_count": 20,
   "id": "23dc4f5e",
   "metadata": {},
   "outputs": [
    {
     "ename": "FileExistsError",
     "evalue": "[Errno 17] File exists: 'demofile3.txt'",
     "output_type": "error",
     "traceback": [
      "\u001b[1;31m---------------------------------------------------------------------------\u001b[0m",
      "\u001b[1;31mFileExistsError\u001b[0m                           Traceback (most recent call last)",
      "\u001b[1;32m~\\AppData\\Local\\Temp/ipykernel_13020/2437286270.py\u001b[0m in \u001b[0;36m<module>\u001b[1;34m\u001b[0m\n\u001b[1;32m----> 1\u001b[1;33m \u001b[0mf\u001b[0m \u001b[1;33m=\u001b[0m \u001b[0mopen\u001b[0m\u001b[1;33m(\u001b[0m\u001b[1;34m\"demofile3.txt\"\u001b[0m\u001b[1;33m,\u001b[0m \u001b[1;34m\"x\"\u001b[0m\u001b[1;33m)\u001b[0m\u001b[1;33m\u001b[0m\u001b[1;33m\u001b[0m\u001b[0m\n\u001b[0m\u001b[0;32m      2\u001b[0m \u001b[0mf\u001b[0m\u001b[1;33m.\u001b[0m\u001b[0mwrite\u001b[0m\u001b[1;33m(\u001b[0m\u001b[1;34m\"Woops! I have deleted the content!\"\u001b[0m\u001b[1;33m)\u001b[0m\u001b[1;33m\u001b[0m\u001b[1;33m\u001b[0m\u001b[0m\n\u001b[0;32m      3\u001b[0m \u001b[0mf\u001b[0m\u001b[1;33m.\u001b[0m\u001b[0mclose\u001b[0m\u001b[1;33m(\u001b[0m\u001b[1;33m)\u001b[0m\u001b[1;33m\u001b[0m\u001b[1;33m\u001b[0m\u001b[0m\n\u001b[0;32m      4\u001b[0m \u001b[1;33m\u001b[0m\u001b[0m\n\u001b[0;32m      5\u001b[0m \u001b[1;31m#open and read the file after the appending:\u001b[0m\u001b[1;33m\u001b[0m\u001b[1;33m\u001b[0m\u001b[0m\n",
      "\u001b[1;31mFileExistsError\u001b[0m: [Errno 17] File exists: 'demofile3.txt'"
     ]
    }
   ],
   "source": [
    "f = open(\"demofile3.txt\", \"x\")\n",
    "f.write(\"Woops! I have deleted the content!\")\n",
    "f.close()\n",
    "\n",
    "#open and read the file after the appending:\n",
    "f = open(\"demofile3.txt\", \"r\")\n",
    "print(f.read())"
   ]
  },
  {
   "cell_type": "markdown",
   "id": "97f3c609",
   "metadata": {},
   "source": [
    "## Append to a file"
   ]
  },
  {
   "cell_type": "code",
   "execution_count": 21,
   "id": "a8db1eaa",
   "metadata": {},
   "outputs": [
    {
     "name": "stdout",
     "output_type": "stream",
     "text": [
      "Now the file has more content!Now the file has more content!\n"
     ]
    }
   ],
   "source": [
    "f = open(\"demofile2.txt\", \"a\")\n",
    "f.write(\"Now the file has more content!\")\n",
    "f.close()\n",
    "\n",
    "#open and read the file after the appending:\n",
    "f = open(\"demofile2.txt\", \"r\")\n",
    "print(f.read())"
   ]
  },
  {
   "cell_type": "code",
   "execution_count": null,
   "id": "9728591b",
   "metadata": {},
   "outputs": [],
   "source": []
  },
  {
   "cell_type": "markdown",
   "id": "0d9dda54",
   "metadata": {},
   "source": [
    "## Check if File exist:"
   ]
  },
  {
   "cell_type": "code",
   "execution_count": 14,
   "id": "a8727f14",
   "metadata": {},
   "outputs": [
    {
     "name": "stdout",
     "output_type": "stream",
     "text": [
      "The file is exist\n"
     ]
    }
   ],
   "source": [
    "import os\n",
    "if os.path.exists(\"demofile.txt\"):\n",
    "    print(\"The file is exist\")\n",
    "else:\n",
    "    print(\"The file does not exist\")"
   ]
  },
  {
   "cell_type": "code",
   "execution_count": null,
   "id": "439a43e5",
   "metadata": {},
   "outputs": [],
   "source": []
  },
  {
   "cell_type": "markdown",
   "id": "6f02a37a",
   "metadata": {},
   "source": [
    "## remove a file:"
   ]
  },
  {
   "cell_type": "code",
   "execution_count": 16,
   "id": "29333273",
   "metadata": {},
   "outputs": [
    {
     "ename": "FileNotFoundError",
     "evalue": "[WinError 2] The system cannot find the file specified: 'demofile4.txt'",
     "output_type": "error",
     "traceback": [
      "\u001b[1;31m---------------------------------------------------------------------------\u001b[0m",
      "\u001b[1;31mFileNotFoundError\u001b[0m                         Traceback (most recent call last)",
      "\u001b[1;32m~\\AppData\\Local\\Temp/ipykernel_13020/3860465711.py\u001b[0m in \u001b[0;36m<module>\u001b[1;34m\u001b[0m\n\u001b[0;32m      1\u001b[0m \u001b[1;32mimport\u001b[0m \u001b[0mos\u001b[0m\u001b[1;33m\u001b[0m\u001b[1;33m\u001b[0m\u001b[0m\n\u001b[1;32m----> 2\u001b[1;33m \u001b[0mos\u001b[0m\u001b[1;33m.\u001b[0m\u001b[0mremove\u001b[0m\u001b[1;33m(\u001b[0m\u001b[1;34m\"demofile4.txt\"\u001b[0m\u001b[1;33m)\u001b[0m\u001b[1;33m\u001b[0m\u001b[1;33m\u001b[0m\u001b[0m\n\u001b[0m",
      "\u001b[1;31mFileNotFoundError\u001b[0m: [WinError 2] The system cannot find the file specified: 'demofile4.txt'"
     ]
    }
   ],
   "source": [
    "import os\n",
    "os.remove(\"demofile4.txt\")"
   ]
  },
  {
   "cell_type": "code",
   "execution_count": null,
   "id": "8014b9f8",
   "metadata": {},
   "outputs": [],
   "source": []
  },
  {
   "cell_type": "markdown",
   "id": "a1b9b011",
   "metadata": {},
   "source": [
    "## Make a folder"
   ]
  },
  {
   "cell_type": "code",
   "execution_count": null,
   "id": "9eff2f58",
   "metadata": {},
   "outputs": [],
   "source": []
  },
  {
   "cell_type": "markdown",
   "id": "7c4ea6a7",
   "metadata": {},
   "source": [
    "## Remove a folder => os.rmdir()"
   ]
  },
  {
   "cell_type": "code",
   "execution_count": 17,
   "id": "90345c6a",
   "metadata": {},
   "outputs": [
    {
     "ename": "FileNotFoundError",
     "evalue": "[WinError 2] The system cannot find the file specified: 'myfolder'",
     "output_type": "error",
     "traceback": [
      "\u001b[1;31m---------------------------------------------------------------------------\u001b[0m",
      "\u001b[1;31mFileNotFoundError\u001b[0m                         Traceback (most recent call last)",
      "\u001b[1;32m~\\AppData\\Local\\Temp/ipykernel_13020/2285193608.py\u001b[0m in \u001b[0;36m<module>\u001b[1;34m\u001b[0m\n\u001b[0;32m      1\u001b[0m \u001b[1;32mimport\u001b[0m \u001b[0mos\u001b[0m\u001b[1;33m\u001b[0m\u001b[1;33m\u001b[0m\u001b[0m\n\u001b[1;32m----> 2\u001b[1;33m \u001b[0mos\u001b[0m\u001b[1;33m.\u001b[0m\u001b[0mrmdir\u001b[0m\u001b[1;33m(\u001b[0m\u001b[1;34m\"myfolder\"\u001b[0m\u001b[1;33m)\u001b[0m\u001b[1;33m\u001b[0m\u001b[1;33m\u001b[0m\u001b[0m\n\u001b[0m",
      "\u001b[1;31mFileNotFoundError\u001b[0m: [WinError 2] The system cannot find the file specified: 'myfolder'"
     ]
    }
   ],
   "source": [
    "import os\n",
    "os.rmdir(\"myfolder\")"
   ]
  },
  {
   "cell_type": "markdown",
   "id": "96e43046",
   "metadata": {},
   "source": [
    "## With open as file"
   ]
  },
  {
   "cell_type": "code",
   "execution_count": 24,
   "id": "c510f870",
   "metadata": {},
   "outputs": [
    {
     "name": "stdout",
     "output_type": "stream",
     "text": [
      "Hello! Welcome to demofile.txt\n",
      "This file is for testing purposes.\n",
      "Good Luck!\n"
     ]
    }
   ],
   "source": [
    "with open(\"demofile.txt\") as file: # Use file to refer to the file object\n",
    "    data = file.read()\n",
    "    ##do something with data\n",
    "    print(data)"
   ]
  },
  {
   "cell_type": "code",
   "execution_count": 25,
   "id": "80cb2622",
   "metadata": {},
   "outputs": [],
   "source": [
    "with open('output.txt', 'w') as file:  \n",
    "    file.write('Hi there!')\n",
    "    #Notice, that we didn’t have to write “file.close()”. That will automatically be called."
   ]
  },
  {
   "cell_type": "markdown",
   "id": "f5ff00c8",
   "metadata": {},
   "source": [
    "# OS"
   ]
  },
  {
   "cell_type": "code",
   "execution_count": 1,
   "id": "36e4c104",
   "metadata": {},
   "outputs": [
    {
     "name": "stdout",
     "output_type": "stream",
     "text": [
      "Current working directory: D:\\tuts\\python\n"
     ]
    }
   ],
   "source": [
    "import os\n",
    "cwd = os.getcwd()\n",
    "print(\"Current working directory:\", cwd)"
   ]
  },
  {
   "cell_type": "code",
   "execution_count": 2,
   "id": "d97bf21a",
   "metadata": {},
   "outputs": [
    {
     "name": "stdout",
     "output_type": "stream",
     "text": [
      "Current working directory before\n",
      "D:\\tuts\n",
      "\n"
     ]
    }
   ],
   "source": [
    "os.chdir('../')\n",
    "print(\"Current working directory:\", os.getcwd())"
   ]
  },
  {
   "cell_type": "code",
   "execution_count": null,
   "id": "60457c6f",
   "metadata": {},
   "outputs": [],
   "source": [
    "directory = \"GeeksforGeeks\"\n",
    "path = os.path.join(parent_dir, directory)\n",
    "os.mkdir(path)\n",
    "print(\"Directory '% s' created\" % directory)\n",
    "directory = \"Geeks\"\n",
    "parent_dir = \"D:/Pycharm projects\"\n",
    "mode = 0o666\n",
    "path = os.path.join(parent_dir, directory)\n",
    "os.mkdir(path, mode)\n",
    "print(\"Directory '% s' created\" % directory)"
   ]
  },
  {
   "cell_type": "markdown",
   "id": "3b6a0ac4",
   "metadata": {},
   "source": [
    "## Using os.makedirs():\n",
    "os.makedirs() method in Python is used to create a directory recursively. That means while making leaf directory if any intermediate-level directory is missing, os.makedirs() method will create them all."
   ]
  },
  {
   "cell_type": "code",
   "execution_count": null,
   "id": "b2a67f01",
   "metadata": {},
   "outputs": [],
   "source": [
    "directory = \"Nikhil\"\n",
    "parent_dir = \"D:/Pycharm projects/GeeksForGeeks/Authors\"\n",
    "path = os.path.join(parent_dir, directory)\n",
    "os.makedirs(path)\n",
    "print(\"Directory '% s' created\" % directory)"
   ]
  },
  {
   "cell_type": "code",
   "execution_count": null,
   "id": "1274726d",
   "metadata": {},
   "outputs": [],
   "source": [
    "directory = \"c\"\n",
    "parent_dir = \"D:/Pycharm projects/GeeksforGeeks/a/b\"\n",
    "mode = 0o666\n",
    "path = os.path.join(parent_dir, directory)\n",
    "os.makedirs(path, mode)\n",
    "print(\"Directory '% s' created\" % directory)"
   ]
  },
  {
   "cell_type": "code",
   "execution_count": 3,
   "id": "876074e3",
   "metadata": {},
   "outputs": [
    {
     "name": "stdout",
     "output_type": "stream",
     "text": [
      "Files and directories in ' / ' :\n",
      "['$RECYCLE.BIN', 'Ariana (Tavalod).mp4', 'Atlas of complications', 'Bariateric Library', 'Bariatrics', 'BCS techniques', 'Breast', 'DumpStack.log.tmp', 'education and Exams', 'Endometriosis', 'globals', 'Gynecology', 'Materials', 'Medical Business', 'medical equipment', 'My Docs', 'My Manuscripts', 'New folder', 'OneDriveTemp', 'pagefile.sys', 'products', 'selected videos', 'System Volume Information', 'Technical Tips', 'tuts', 'VTS_01_1.VOB', 'فوق تخصص 98.zip']\n"
     ]
    }
   ],
   "source": [
    "path = \"/\"\n",
    "dir_list = os.listdir(path)\n",
    "print(\"Files and directories in '\", path, \"' :\")\n",
    "print(dir_list)"
   ]
  },
  {
   "cell_type": "code",
   "execution_count": null,
   "id": "8dab989f",
   "metadata": {},
   "outputs": [],
   "source": [
    "file = 'file1.txt'\n",
    "location = \"D:/Pycharm projects/GeeksforGeeks/Authors/Nikhil/\"\n",
    "path = os.path.join(location, file)\n",
    "os.remove(path)"
   ]
  },
  {
   "cell_type": "markdown",
   "id": "8d298301",
   "metadata": {},
   "source": [
    "## Using os.rmdir():\n",
    "os.rmdir() method in Python is used to remove or delete an empty directory. OSError will be raised if the specified path is not an empty directory."
   ]
  },
  {
   "cell_type": "code",
   "execution_count": null,
   "id": "2767f018",
   "metadata": {},
   "outputs": [],
   "source": [
    "irectory = \"Geeks\"\n",
    "parent = \"D:/Pycharm projects/\"\n",
    "path = os.path.join(parent, directory)\n",
    "os.rmdir(path)"
   ]
  },
  {
   "cell_type": "code",
   "execution_count": 4,
   "id": "5b1197b7",
   "metadata": {},
   "outputs": [
    {
     "name": "stdout",
     "output_type": "stream",
     "text": [
      "nt\n"
     ]
    }
   ],
   "source": [
    "print(os.name)"
   ]
  },
  {
   "cell_type": "code",
   "execution_count": null,
   "id": "a1bd4587",
   "metadata": {},
   "outputs": [],
   "source": [
    "fd = \"GFG.txt\"\n",
    "os.rename(fd,'New.txt')\n",
    "os.rename(fd,'New.txt')"
   ]
  },
  {
   "cell_type": "code",
   "execution_count": 5,
   "id": "772f80ab",
   "metadata": {},
   "outputs": [
    {
     "name": "stdout",
     "output_type": "stream",
     "text": [
      "False\n"
     ]
    }
   ],
   "source": [
    "result = os.path.exists(\"file_name\")\n",
    "print(result)"
   ]
  },
  {
   "cell_type": "code",
   "execution_count": 6,
   "id": "11f037d2",
   "metadata": {},
   "outputs": [
    {
     "ename": "FileNotFoundError",
     "evalue": "[WinError 2] The system cannot find the file specified: 'filename'",
     "output_type": "error",
     "traceback": [
      "\u001b[1;31m---------------------------------------------------------------------------\u001b[0m",
      "\u001b[1;31mFileNotFoundError\u001b[0m                         Traceback (most recent call last)",
      "\u001b[1;32m~\\AppData\\Local\\Temp/ipykernel_13896/1552015205.py\u001b[0m in \u001b[0;36m<module>\u001b[1;34m\u001b[0m\n\u001b[1;32m----> 1\u001b[1;33m \u001b[0msize\u001b[0m \u001b[1;33m=\u001b[0m \u001b[0mos\u001b[0m\u001b[1;33m.\u001b[0m\u001b[0mpath\u001b[0m\u001b[1;33m.\u001b[0m\u001b[0mgetsize\u001b[0m\u001b[1;33m(\u001b[0m\u001b[1;34m\"filename\"\u001b[0m\u001b[1;33m)\u001b[0m\u001b[1;33m\u001b[0m\u001b[1;33m\u001b[0m\u001b[0m\n\u001b[0m\u001b[0;32m      2\u001b[0m \u001b[0mprint\u001b[0m\u001b[1;33m(\u001b[0m\u001b[1;34m\"Size of the file is\"\u001b[0m\u001b[1;33m,\u001b[0m \u001b[0msize\u001b[0m\u001b[1;33m,\u001b[0m\u001b[1;34m\" bytes.\"\u001b[0m\u001b[1;33m)\u001b[0m\u001b[1;33m\u001b[0m\u001b[1;33m\u001b[0m\u001b[0m\n",
      "\u001b[1;32m~\\anaconda3\\lib\\genericpath.py\u001b[0m in \u001b[0;36mgetsize\u001b[1;34m(filename)\u001b[0m\n\u001b[0;32m     48\u001b[0m \u001b[1;32mdef\u001b[0m \u001b[0mgetsize\u001b[0m\u001b[1;33m(\u001b[0m\u001b[0mfilename\u001b[0m\u001b[1;33m)\u001b[0m\u001b[1;33m:\u001b[0m\u001b[1;33m\u001b[0m\u001b[1;33m\u001b[0m\u001b[0m\n\u001b[0;32m     49\u001b[0m     \u001b[1;34m\"\"\"Return the size of a file, reported by os.stat().\"\"\"\u001b[0m\u001b[1;33m\u001b[0m\u001b[1;33m\u001b[0m\u001b[0m\n\u001b[1;32m---> 50\u001b[1;33m     \u001b[1;32mreturn\u001b[0m \u001b[0mos\u001b[0m\u001b[1;33m.\u001b[0m\u001b[0mstat\u001b[0m\u001b[1;33m(\u001b[0m\u001b[0mfilename\u001b[0m\u001b[1;33m)\u001b[0m\u001b[1;33m.\u001b[0m\u001b[0mst_size\u001b[0m\u001b[1;33m\u001b[0m\u001b[1;33m\u001b[0m\u001b[0m\n\u001b[0m\u001b[0;32m     51\u001b[0m \u001b[1;33m\u001b[0m\u001b[0m\n\u001b[0;32m     52\u001b[0m \u001b[1;33m\u001b[0m\u001b[0m\n",
      "\u001b[1;31mFileNotFoundError\u001b[0m: [WinError 2] The system cannot find the file specified: 'filename'"
     ]
    }
   ],
   "source": [
    "size = os.path.getsize(\"filename\")\n",
    "print(\"Size of the file is\", size,\" bytes.\")"
   ]
  },
  {
   "cell_type": "markdown",
   "id": "58d234a7",
   "metadata": {},
   "source": [
    "# [shutil package](https://www.geeksforgeeks.org/shutil-module-in-python/)"
   ]
  },
  {
   "cell_type": "markdown",
   "id": "364655c7",
   "metadata": {},
   "source": [
    "## Copying Files to another directory"
   ]
  },
  {
   "cell_type": "code",
   "execution_count": null,
   "id": "7bece4cc",
   "metadata": {},
   "outputs": [],
   "source": []
  },
  {
   "cell_type": "markdown",
   "id": "5125f5bd",
   "metadata": {},
   "source": [
    "## Copying the content of one file to another"
   ]
  },
  {
   "cell_type": "code",
   "execution_count": null,
   "id": "75996ee4",
   "metadata": {},
   "outputs": [],
   "source": []
  },
  {
   "cell_type": "markdown",
   "id": "2fbf24a0",
   "metadata": {},
   "source": [
    "## Replicating complete Directory"
   ]
  },
  {
   "cell_type": "code",
   "execution_count": null,
   "id": "0215a2ba",
   "metadata": {},
   "outputs": [],
   "source": []
  },
  {
   "cell_type": "markdown",
   "id": "9db82727",
   "metadata": {},
   "source": [
    "## Removing a Directory"
   ]
  },
  {
   "cell_type": "code",
   "execution_count": null,
   "id": "2e5dd778",
   "metadata": {},
   "outputs": [],
   "source": []
  },
  {
   "cell_type": "markdown",
   "id": "15fd515a",
   "metadata": {},
   "source": [
    "## Finding files"
   ]
  },
  {
   "cell_type": "code",
   "execution_count": null,
   "id": "8041b46d",
   "metadata": {},
   "outputs": [],
   "source": []
  }
 ],
 "metadata": {
  "kernelspec": {
   "display_name": "Python 3 (ipykernel)",
   "language": "python",
   "name": "python3"
  },
  "language_info": {
   "codemirror_mode": {
    "name": "ipython",
    "version": 3
   },
   "file_extension": ".py",
   "mimetype": "text/x-python",
   "name": "python",
   "nbconvert_exporter": "python",
   "pygments_lexer": "ipython3",
   "version": "3.9.7"
  },
  "toc": {
   "base_numbering": 1,
   "nav_menu": {},
   "number_sections": true,
   "sideBar": true,
   "skip_h1_title": false,
   "title_cell": "Table of Contents",
   "title_sidebar": "Contents",
   "toc_cell": false,
   "toc_position": {},
   "toc_section_display": true,
   "toc_window_display": false
  }
 },
 "nbformat": 4,
 "nbformat_minor": 5
}
