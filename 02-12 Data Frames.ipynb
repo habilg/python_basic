{
 "cells": [
  {
   "cell_type": "markdown",
   "id": "03b5a67c",
   "metadata": {},
   "source": [
    "# Create a dataFrame from scratch "
   ]
  },
  {
   "cell_type": "markdown",
   "id": "5a16b604",
   "metadata": {},
   "source": [
    "## Method 1- dictionaries ( best Method)"
   ]
  },
  {
   "cell_type": "code",
   "execution_count": 227,
   "id": "1a29ed8b",
   "metadata": {},
   "outputs": [],
   "source": [
    "data = {\n",
    "    \"country\":    [\"Brazil\", \" Russia\",\"India\", \"China\", \"South Africa\"],\n",
    "    \"Capital\":    [\"Brasilia\", \"Moscow\", \"New Delhi\", \"beijing\", \"Pretoria\"],\n",
    "    \"Area\":       [8.516, 17.10, 3.286, 9.597, 1.221],\n",
    "    \"population\": [200.4, 143.5, 1252, 1357, 52.98 ]}"
   ]
  },
  {
   "cell_type": "code",
   "execution_count": 1,
   "id": "2c76d7f8",
   "metadata": {},
   "outputs": [],
   "source": [
    "import pandas as pd"
   ]
  },
  {
   "cell_type": "code",
   "execution_count": 229,
   "id": "add7d048",
   "metadata": {},
   "outputs": [],
   "source": [
    "df = pd.DataFrame(data)"
   ]
  },
  {
   "cell_type": "code",
   "execution_count": 230,
   "id": "95f774b3",
   "metadata": {},
   "outputs": [
    {
     "data": {
      "text/plain": [
       "country        object\n",
       "Capital        object\n",
       "Area          float64\n",
       "population    float64\n",
       "dtype: object"
      ]
     },
     "execution_count": 230,
     "metadata": {},
     "output_type": "execute_result"
    }
   ],
   "source": [
    "df.dtypes"
   ]
  },
  {
   "cell_type": "code",
   "execution_count": null,
   "id": "61d587f0",
   "metadata": {},
   "outputs": [],
   "source": [
    "pd.DataFrame().from_dict()"
   ]
  },
  {
   "cell_type": "code",
   "execution_count": null,
   "id": "be41f380",
   "metadata": {},
   "outputs": [],
   "source": [
    "pd.DataFrame().from_records()"
   ]
  },
  {
   "cell_type": "markdown",
   "id": "5cc3c583",
   "metadata": {},
   "source": [
    "<h2 id=\"Method-2---List-data-Method\" data-toc-modified-id=\"Method-2---List-data-Method-1.2\"><a id=\"Method-2---List-data-Method-1.2\" class=\"toc-mod-link\"></a><span class=\"toc-item-num\">1.2&nbsp;&nbsp;</span>Method 2 - List data Method (native and zip)</h2>"
   ]
  },
  {
   "cell_type": "code",
   "execution_count": 5,
   "id": "0121c59b",
   "metadata": {},
   "outputs": [],
   "source": [
    "dataList = [[\"Brazil\",\"Brasilia\",8.516,200.40],\n",
    "            [\"Russia\",\"Moscow\",17.100,143.50],\n",
    "            [\"India\",\"New Delhi\",3.286,1252.00],\n",
    "            [\"China\",\"beijing\",9.597,1357.00],\n",
    "            [\"South Africa\",\"Pretoria\",1.221,52.98]]"
   ]
  },
  {
   "cell_type": "code",
   "execution_count": 6,
   "id": "3379f635",
   "metadata": {},
   "outputs": [
    {
     "data": {
      "text/html": [
       "<div>\n",
       "<style scoped>\n",
       "    .dataframe tbody tr th:only-of-type {\n",
       "        vertical-align: middle;\n",
       "    }\n",
       "\n",
       "    .dataframe tbody tr th {\n",
       "        vertical-align: top;\n",
       "    }\n",
       "\n",
       "    .dataframe thead th {\n",
       "        text-align: right;\n",
       "    }\n",
       "</style>\n",
       "<table border=\"1\" class=\"dataframe\">\n",
       "  <thead>\n",
       "    <tr style=\"text-align: right;\">\n",
       "      <th></th>\n",
       "      <th>0</th>\n",
       "      <th>1</th>\n",
       "      <th>2</th>\n",
       "      <th>3</th>\n",
       "    </tr>\n",
       "  </thead>\n",
       "  <tbody>\n",
       "    <tr>\n",
       "      <th>0</th>\n",
       "      <td>Brazil</td>\n",
       "      <td>Brasilia</td>\n",
       "      <td>8.516</td>\n",
       "      <td>200.40</td>\n",
       "    </tr>\n",
       "    <tr>\n",
       "      <th>1</th>\n",
       "      <td>Russia</td>\n",
       "      <td>Moscow</td>\n",
       "      <td>17.100</td>\n",
       "      <td>143.50</td>\n",
       "    </tr>\n",
       "    <tr>\n",
       "      <th>2</th>\n",
       "      <td>India</td>\n",
       "      <td>New Delhi</td>\n",
       "      <td>3.286</td>\n",
       "      <td>1252.00</td>\n",
       "    </tr>\n",
       "    <tr>\n",
       "      <th>3</th>\n",
       "      <td>China</td>\n",
       "      <td>beijing</td>\n",
       "      <td>9.597</td>\n",
       "      <td>1357.00</td>\n",
       "    </tr>\n",
       "    <tr>\n",
       "      <th>4</th>\n",
       "      <td>South Africa</td>\n",
       "      <td>Pretoria</td>\n",
       "      <td>1.221</td>\n",
       "      <td>52.98</td>\n",
       "    </tr>\n",
       "  </tbody>\n",
       "</table>\n",
       "</div>"
      ],
      "text/plain": [
       "              0          1       2        3\n",
       "0        Brazil   Brasilia   8.516   200.40\n",
       "1        Russia     Moscow  17.100   143.50\n",
       "2         India  New Delhi   3.286  1252.00\n",
       "3         China    beijing   9.597  1357.00\n",
       "4  South Africa   Pretoria   1.221    52.98"
      ]
     },
     "execution_count": 6,
     "metadata": {},
     "output_type": "execute_result"
    }
   ],
   "source": [
    "dflist = pd.DataFrame(dataList)\n",
    "dflist"
   ]
  },
  {
   "cell_type": "code",
   "execution_count": 7,
   "id": "927ff1dc",
   "metadata": {},
   "outputs": [
    {
     "data": {
      "text/html": [
       "<div>\n",
       "<style scoped>\n",
       "    .dataframe tbody tr th:only-of-type {\n",
       "        vertical-align: middle;\n",
       "    }\n",
       "\n",
       "    .dataframe tbody tr th {\n",
       "        vertical-align: top;\n",
       "    }\n",
       "\n",
       "    .dataframe thead th {\n",
       "        text-align: right;\n",
       "    }\n",
       "</style>\n",
       "<table border=\"1\" class=\"dataframe\">\n",
       "  <thead>\n",
       "    <tr style=\"text-align: right;\">\n",
       "      <th></th>\n",
       "      <th>country</th>\n",
       "      <th>Capital</th>\n",
       "      <th>Area</th>\n",
       "      <th>population</th>\n",
       "    </tr>\n",
       "  </thead>\n",
       "  <tbody>\n",
       "    <tr>\n",
       "      <th>0</th>\n",
       "      <td>Brazil</td>\n",
       "      <td>Brasilia</td>\n",
       "      <td>8.516</td>\n",
       "      <td>200.40</td>\n",
       "    </tr>\n",
       "    <tr>\n",
       "      <th>1</th>\n",
       "      <td>Russia</td>\n",
       "      <td>Moscow</td>\n",
       "      <td>17.100</td>\n",
       "      <td>143.50</td>\n",
       "    </tr>\n",
       "    <tr>\n",
       "      <th>2</th>\n",
       "      <td>India</td>\n",
       "      <td>New Delhi</td>\n",
       "      <td>3.286</td>\n",
       "      <td>1252.00</td>\n",
       "    </tr>\n",
       "    <tr>\n",
       "      <th>3</th>\n",
       "      <td>China</td>\n",
       "      <td>beijing</td>\n",
       "      <td>9.597</td>\n",
       "      <td>1357.00</td>\n",
       "    </tr>\n",
       "    <tr>\n",
       "      <th>4</th>\n",
       "      <td>South Africa</td>\n",
       "      <td>Pretoria</td>\n",
       "      <td>1.221</td>\n",
       "      <td>52.98</td>\n",
       "    </tr>\n",
       "  </tbody>\n",
       "</table>\n",
       "</div>"
      ],
      "text/plain": [
       "        country    Capital    Area  population\n",
       "0        Brazil   Brasilia   8.516      200.40\n",
       "1        Russia     Moscow  17.100      143.50\n",
       "2         India  New Delhi   3.286     1252.00\n",
       "3         China    beijing   9.597     1357.00\n",
       "4  South Africa   Pretoria   1.221       52.98"
      ]
     },
     "execution_count": 7,
     "metadata": {},
     "output_type": "execute_result"
    }
   ],
   "source": [
    "l1=[\"Brazil\", \" Russia\",\"India\", \"China\", \"South Africa\"]\n",
    "l2=[\"Brasilia\", \"Moscow\", \"New Delhi\", \"beijing\", \"Pretoria\"]\n",
    "l3=[8.516, 17.10, 3.286, 9.597, 1.221]\n",
    "l4=[200.4, 143.5, 1252, 1357, 52.98 ]\n",
    "\n",
    "finalList = list(zip(l1,l2,l3,l4))\n",
    "dflist2 = pd.DataFrame(finalList,columns=[\"country\",\"Capital\",\"Area\",\"population\"],)\n",
    "dflist2"
   ]
  },
  {
   "cell_type": "markdown",
   "id": "6b6461af",
   "metadata": {},
   "source": [
    "<h1 id=\"A-bit-more-about-columns,-index,-values,Axis&nbsp;\" data-toc-modified-id=\"A-bit-more-about-columns,-index,-values,Axis&nbsp;-2\"><a id=\"A-bit-more-about-columns,-index,-values,Axis&nbsp;-2\" class=\"toc-mod-link\"></a><span class=\"toc-item-num\">2&nbsp;&nbsp;</span>A bit more about columns, index, values, Axis&nbsp;</h1>"
   ]
  },
  {
   "cell_type": "markdown",
   "id": "9d517fef",
   "metadata": {},
   "source": [
    "<h2 id=\"Change-Axis:\" data-toc-modified-id=\"Change-Axis:-2.1\"><a id=\"Change-Axis:-2.1\" class=\"toc-mod-link\"></a><span class=\"toc-item-num\">2.1&nbsp;&nbsp;</span>Change Axis:</h2>\n",
    "<p><span style=\"font-size: 14pt;\">Most functions accept the axis as their arguments to change their action on rows or columns vice versa. For example, for isna() method axis=0 check a value within columns&nbsp; and axis = 1 check it alongside rows.</span></p>"
   ]
  },
  {
   "cell_type": "code",
   "execution_count": null,
   "id": "0aff5a43",
   "metadata": {},
   "outputs": [],
   "source": []
  },
  {
   "cell_type": "markdown",
   "id": "e6cf829c",
   "metadata": {},
   "source": [
    "<h2 id=\"2.2&nbsp;&nbsp;rename-columns\" data-toc-modified-id=\"2.2&nbsp;&nbsp;rename-columns-2.2\"><a id=\"2.2&nbsp;&nbsp;rename-columns-2.2\" class=\"toc-mod-link\"></a><span class=\"toc-item-num\">2.2&nbsp;&nbsp;</span>rename columns</h2>\n",
    "<p><span style=\"font-size: 14pt;\">rename( columns={old column name: new name})</span></p>"
   ]
  },
  {
   "cell_type": "code",
   "execution_count": 10,
   "id": "a5d423bc",
   "metadata": {},
   "outputs": [
    {
     "data": {
      "text/html": [
       "<div>\n",
       "<style scoped>\n",
       "    .dataframe tbody tr th:only-of-type {\n",
       "        vertical-align: middle;\n",
       "    }\n",
       "\n",
       "    .dataframe tbody tr th {\n",
       "        vertical-align: top;\n",
       "    }\n",
       "\n",
       "    .dataframe thead th {\n",
       "        text-align: right;\n",
       "    }\n",
       "</style>\n",
       "<table border=\"1\" class=\"dataframe\">\n",
       "  <thead>\n",
       "    <tr style=\"text-align: right;\">\n",
       "      <th></th>\n",
       "      <th>CNTRY</th>\n",
       "      <th>CPTL</th>\n",
       "      <th>Area</th>\n",
       "      <th>population</th>\n",
       "    </tr>\n",
       "  </thead>\n",
       "  <tbody>\n",
       "    <tr>\n",
       "      <th>0</th>\n",
       "      <td>Brazil</td>\n",
       "      <td>Brasilia</td>\n",
       "      <td>8.516</td>\n",
       "      <td>200.40</td>\n",
       "    </tr>\n",
       "    <tr>\n",
       "      <th>1</th>\n",
       "      <td>Russia</td>\n",
       "      <td>Moscow</td>\n",
       "      <td>17.100</td>\n",
       "      <td>143.50</td>\n",
       "    </tr>\n",
       "    <tr>\n",
       "      <th>2</th>\n",
       "      <td>India</td>\n",
       "      <td>New Delhi</td>\n",
       "      <td>3.286</td>\n",
       "      <td>1252.00</td>\n",
       "    </tr>\n",
       "    <tr>\n",
       "      <th>3</th>\n",
       "      <td>China</td>\n",
       "      <td>beijing</td>\n",
       "      <td>9.597</td>\n",
       "      <td>1357.00</td>\n",
       "    </tr>\n",
       "    <tr>\n",
       "      <th>4</th>\n",
       "      <td>South Africa</td>\n",
       "      <td>Pretoria</td>\n",
       "      <td>1.221</td>\n",
       "      <td>52.98</td>\n",
       "    </tr>\n",
       "  </tbody>\n",
       "</table>\n",
       "</div>"
      ],
      "text/plain": [
       "          CNTRY       CPTL    Area  population\n",
       "0        Brazil   Brasilia   8.516      200.40\n",
       "1        Russia     Moscow  17.100      143.50\n",
       "2         India  New Delhi   3.286     1252.00\n",
       "3         China    beijing   9.597     1357.00\n",
       "4  South Africa   Pretoria   1.221       52.98"
      ]
     },
     "execution_count": 10,
     "metadata": {},
     "output_type": "execute_result"
    }
   ],
   "source": [
    "df.rename(columns={\"country\":\"CNTRY\",\"Capital\":\"CPTL\"})"
   ]
  },
  {
   "cell_type": "markdown",
   "id": "08985c72",
   "metadata": {},
   "source": [
    "<h2>Working with Index:&nbsp;</h2>\n",
    "<p><span style=\"font-size: 12pt;\">Change, define, reset and ....</span></p>"
   ]
  },
  {
   "cell_type": "code",
   "execution_count": 11,
   "id": "e90470e1",
   "metadata": {},
   "outputs": [
    {
     "data": {
      "text/plain": [
       "RangeIndex(start=0, stop=5, step=1)"
      ]
     },
     "execution_count": 11,
     "metadata": {},
     "output_type": "execute_result"
    }
   ],
   "source": [
    "df.index"
   ]
  },
  {
   "cell_type": "code",
   "execution_count": null,
   "id": "0b6667a2",
   "metadata": {},
   "outputs": [],
   "source": [
    "df.setIndex"
   ]
  },
  {
   "cell_type": "code",
   "execution_count": null,
   "id": "2d4efc21",
   "metadata": {},
   "outputs": [],
   "source": [
    "df.reindex"
   ]
  },
  {
   "cell_type": "code",
   "execution_count": null,
   "id": "ce5d09cc",
   "metadata": {},
   "outputs": [],
   "source": [
    "dr.reindex_like"
   ]
  },
  {
   "cell_type": "code",
   "execution_count": null,
   "id": "04c2577e",
   "metadata": {},
   "outputs": [],
   "source": [
    "df.reset_index"
   ]
  },
  {
   "cell_type": "code",
   "execution_count": null,
   "id": "c588e77f",
   "metadata": {},
   "outputs": [],
   "source": [
    "df.sort_index"
   ]
  },
  {
   "cell_type": "markdown",
   "id": "104a1715",
   "metadata": {},
   "source": [
    "# Load a dataset from file"
   ]
  },
  {
   "cell_type": "code",
   "execution_count": 11,
   "id": "9773bbad",
   "metadata": {},
   "outputs": [],
   "source": [
    "oo = pd.read_csv('./datasets/olympics.csv', skiprows=4)"
   ]
  },
  {
   "cell_type": "markdown",
   "id": "361cff11",
   "metadata": {},
   "source": [
    "# STEP1:Data Understanding -> head,tail,shape, info, describe,...."
   ]
  },
  {
   "cell_type": "code",
   "execution_count": 59,
   "id": "113299fb",
   "metadata": {},
   "outputs": [
    {
     "data": {
      "text/html": [
       "<div>\n",
       "<style scoped>\n",
       "    .dataframe tbody tr th:only-of-type {\n",
       "        vertical-align: middle;\n",
       "    }\n",
       "\n",
       "    .dataframe tbody tr th {\n",
       "        vertical-align: top;\n",
       "    }\n",
       "\n",
       "    .dataframe thead th {\n",
       "        text-align: right;\n",
       "    }\n",
       "</style>\n",
       "<table border=\"1\" class=\"dataframe\">\n",
       "  <thead>\n",
       "    <tr style=\"text-align: right;\">\n",
       "      <th></th>\n",
       "      <th>City</th>\n",
       "      <th>Edition</th>\n",
       "      <th>Sport</th>\n",
       "      <th>Discipline</th>\n",
       "      <th>Athlete</th>\n",
       "      <th>NOC</th>\n",
       "      <th>Gender</th>\n",
       "      <th>Event</th>\n",
       "      <th>Event_gender</th>\n",
       "      <th>Medal</th>\n",
       "    </tr>\n",
       "  </thead>\n",
       "  <tbody>\n",
       "    <tr>\n",
       "      <th>0</th>\n",
       "      <td>Athens</td>\n",
       "      <td>1896</td>\n",
       "      <td>Aquatics</td>\n",
       "      <td>Swimming</td>\n",
       "      <td>HAJOS, Alfred</td>\n",
       "      <td>HUN</td>\n",
       "      <td>Men</td>\n",
       "      <td>100m freestyle</td>\n",
       "      <td>M</td>\n",
       "      <td>Gold</td>\n",
       "    </tr>\n",
       "    <tr>\n",
       "      <th>1</th>\n",
       "      <td>Athens</td>\n",
       "      <td>1896</td>\n",
       "      <td>Aquatics</td>\n",
       "      <td>Swimming</td>\n",
       "      <td>HERSCHMANN, Otto</td>\n",
       "      <td>AUT</td>\n",
       "      <td>Men</td>\n",
       "      <td>100m freestyle</td>\n",
       "      <td>M</td>\n",
       "      <td>Silver</td>\n",
       "    </tr>\n",
       "    <tr>\n",
       "      <th>2</th>\n",
       "      <td>Athens</td>\n",
       "      <td>1896</td>\n",
       "      <td>Aquatics</td>\n",
       "      <td>Swimming</td>\n",
       "      <td>DRIVAS, Dimitrios</td>\n",
       "      <td>GRE</td>\n",
       "      <td>Men</td>\n",
       "      <td>100m freestyle for sailors</td>\n",
       "      <td>M</td>\n",
       "      <td>Bronze</td>\n",
       "    </tr>\n",
       "    <tr>\n",
       "      <th>3</th>\n",
       "      <td>Athens</td>\n",
       "      <td>1896</td>\n",
       "      <td>Aquatics</td>\n",
       "      <td>Swimming</td>\n",
       "      <td>MALOKINIS, Ioannis</td>\n",
       "      <td>GRE</td>\n",
       "      <td>Men</td>\n",
       "      <td>100m freestyle for sailors</td>\n",
       "      <td>M</td>\n",
       "      <td>Gold</td>\n",
       "    </tr>\n",
       "    <tr>\n",
       "      <th>4</th>\n",
       "      <td>Athens</td>\n",
       "      <td>1896</td>\n",
       "      <td>Aquatics</td>\n",
       "      <td>Swimming</td>\n",
       "      <td>CHASAPIS, Spiridon</td>\n",
       "      <td>GRE</td>\n",
       "      <td>Men</td>\n",
       "      <td>100m freestyle for sailors</td>\n",
       "      <td>M</td>\n",
       "      <td>Silver</td>\n",
       "    </tr>\n",
       "  </tbody>\n",
       "</table>\n",
       "</div>"
      ],
      "text/plain": [
       "     City  Edition     Sport Discipline             Athlete  NOC Gender  \\\n",
       "0  Athens     1896  Aquatics   Swimming       HAJOS, Alfred  HUN    Men   \n",
       "1  Athens     1896  Aquatics   Swimming    HERSCHMANN, Otto  AUT    Men   \n",
       "2  Athens     1896  Aquatics   Swimming   DRIVAS, Dimitrios  GRE    Men   \n",
       "3  Athens     1896  Aquatics   Swimming  MALOKINIS, Ioannis  GRE    Men   \n",
       "4  Athens     1896  Aquatics   Swimming  CHASAPIS, Spiridon  GRE    Men   \n",
       "\n",
       "                        Event Event_gender   Medal  \n",
       "0              100m freestyle            M    Gold  \n",
       "1              100m freestyle            M  Silver  \n",
       "2  100m freestyle for sailors            M  Bronze  \n",
       "3  100m freestyle for sailors            M    Gold  \n",
       "4  100m freestyle for sailors            M  Silver  "
      ]
     },
     "execution_count": 59,
     "metadata": {},
     "output_type": "execute_result"
    }
   ],
   "source": [
    "oo.head() # oo.tail()"
   ]
  },
  {
   "cell_type": "code",
   "execution_count": 62,
   "id": "f30b8c70",
   "metadata": {},
   "outputs": [
    {
     "data": {
      "text/plain": [
       "(29216, 10)"
      ]
     },
     "execution_count": 62,
     "metadata": {},
     "output_type": "execute_result"
    }
   ],
   "source": [
    "oo.shape"
   ]
  },
  {
   "cell_type": "code",
   "execution_count": 63,
   "id": "590140ca",
   "metadata": {},
   "outputs": [
    {
     "data": {
      "text/plain": [
       "City            object\n",
       "Edition          int64\n",
       "Sport           object\n",
       "Discipline      object\n",
       "Athlete         object\n",
       "NOC             object\n",
       "Gender          object\n",
       "Event           object\n",
       "Event_gender    object\n",
       "Medal           object\n",
       "dtype: object"
      ]
     },
     "execution_count": 63,
     "metadata": {},
     "output_type": "execute_result"
    }
   ],
   "source": [
    "oo.dtypes"
   ]
  },
  {
   "cell_type": "code",
   "execution_count": 56,
   "id": "ededad25",
   "metadata": {},
   "outputs": [
    {
     "name": "stdout",
     "output_type": "stream",
     "text": [
      "<class 'pandas.core.frame.DataFrame'>\n",
      "RangeIndex: 29216 entries, 0 to 29215\n",
      "Data columns (total 10 columns):\n",
      " #   Column        Non-Null Count  Dtype \n",
      "---  ------        --------------  ----- \n",
      " 0   City          29216 non-null  object\n",
      " 1   Edition       29216 non-null  int64 \n",
      " 2   Sport         29216 non-null  object\n",
      " 3   Discipline    29216 non-null  object\n",
      " 4   Athlete       29216 non-null  object\n",
      " 5   NOC           29216 non-null  object\n",
      " 6   Gender        29216 non-null  object\n",
      " 7   Event         29216 non-null  object\n",
      " 8   Event_gender  29216 non-null  object\n",
      " 9   Medal         29216 non-null  object\n",
      "dtypes: int64(1), object(9)\n",
      "memory usage: 2.2+ MB\n"
     ]
    }
   ],
   "source": [
    "oo.info()"
   ]
  },
  {
   "cell_type": "code",
   "execution_count": 58,
   "id": "5e728f79",
   "metadata": {},
   "outputs": [
    {
     "data": {
      "text/html": [
       "<div>\n",
       "<style scoped>\n",
       "    .dataframe tbody tr th:only-of-type {\n",
       "        vertical-align: middle;\n",
       "    }\n",
       "\n",
       "    .dataframe tbody tr th {\n",
       "        vertical-align: top;\n",
       "    }\n",
       "\n",
       "    .dataframe thead th {\n",
       "        text-align: right;\n",
       "    }\n",
       "</style>\n",
       "<table border=\"1\" class=\"dataframe\">\n",
       "  <thead>\n",
       "    <tr style=\"text-align: right;\">\n",
       "      <th></th>\n",
       "      <th>Edition</th>\n",
       "    </tr>\n",
       "  </thead>\n",
       "  <tbody>\n",
       "    <tr>\n",
       "      <th>count</th>\n",
       "      <td>29216.000000</td>\n",
       "    </tr>\n",
       "    <tr>\n",
       "      <th>mean</th>\n",
       "      <td>1967.713171</td>\n",
       "    </tr>\n",
       "    <tr>\n",
       "      <th>std</th>\n",
       "      <td>32.406293</td>\n",
       "    </tr>\n",
       "    <tr>\n",
       "      <th>min</th>\n",
       "      <td>1896.000000</td>\n",
       "    </tr>\n",
       "    <tr>\n",
       "      <th>25%</th>\n",
       "      <td>1948.000000</td>\n",
       "    </tr>\n",
       "    <tr>\n",
       "      <th>50%</th>\n",
       "      <td>1976.000000</td>\n",
       "    </tr>\n",
       "    <tr>\n",
       "      <th>75%</th>\n",
       "      <td>1996.000000</td>\n",
       "    </tr>\n",
       "    <tr>\n",
       "      <th>max</th>\n",
       "      <td>2008.000000</td>\n",
       "    </tr>\n",
       "  </tbody>\n",
       "</table>\n",
       "</div>"
      ],
      "text/plain": [
       "            Edition\n",
       "count  29216.000000\n",
       "mean    1967.713171\n",
       "std       32.406293\n",
       "min     1896.000000\n",
       "25%     1948.000000\n",
       "50%     1976.000000\n",
       "75%     1996.000000\n",
       "max     2008.000000"
      ]
     },
     "execution_count": 58,
     "metadata": {},
     "output_type": "execute_result"
    }
   ],
   "source": [
    "oo.describe()"
   ]
  },
  {
   "cell_type": "code",
   "execution_count": 43,
   "id": "ca1edea4",
   "metadata": {},
   "outputs": [
    {
     "data": {
      "text/html": [
       "<div>\n",
       "<style scoped>\n",
       "    .dataframe tbody tr th:only-of-type {\n",
       "        vertical-align: middle;\n",
       "    }\n",
       "\n",
       "    .dataframe tbody tr th {\n",
       "        vertical-align: top;\n",
       "    }\n",
       "\n",
       "    .dataframe thead th {\n",
       "        text-align: right;\n",
       "    }\n",
       "</style>\n",
       "<table border=\"1\" class=\"dataframe\">\n",
       "  <thead>\n",
       "    <tr style=\"text-align: right;\">\n",
       "      <th></th>\n",
       "      <th>count</th>\n",
       "      <th>mean</th>\n",
       "      <th>std</th>\n",
       "      <th>min</th>\n",
       "      <th>25%</th>\n",
       "      <th>50%</th>\n",
       "      <th>75%</th>\n",
       "      <th>max</th>\n",
       "    </tr>\n",
       "  </thead>\n",
       "  <tbody>\n",
       "    <tr>\n",
       "      <th>Edition</th>\n",
       "      <td>29216.0</td>\n",
       "      <td>1967.713171</td>\n",
       "      <td>32.406293</td>\n",
       "      <td>1896.0</td>\n",
       "      <td>1948.0</td>\n",
       "      <td>1976.0</td>\n",
       "      <td>1996.0</td>\n",
       "      <td>2008.0</td>\n",
       "    </tr>\n",
       "  </tbody>\n",
       "</table>\n",
       "</div>"
      ],
      "text/plain": [
       "           count         mean        std     min     25%     50%     75%  \\\n",
       "Edition  29216.0  1967.713171  32.406293  1896.0  1948.0  1976.0  1996.0   \n",
       "\n",
       "            max  \n",
       "Edition  2008.0  "
      ]
     },
     "execution_count": 43,
     "metadata": {},
     "output_type": "execute_result"
    }
   ],
   "source": [
    "oo.describe().T"
   ]
  },
  {
   "cell_type": "code",
   "execution_count": 44,
   "id": "d35fd2d5",
   "metadata": {},
   "outputs": [
    {
     "data": {
      "text/html": [
       "<div>\n",
       "<style scoped>\n",
       "    .dataframe tbody tr th:only-of-type {\n",
       "        vertical-align: middle;\n",
       "    }\n",
       "\n",
       "    .dataframe tbody tr th {\n",
       "        vertical-align: top;\n",
       "    }\n",
       "\n",
       "    .dataframe thead th {\n",
       "        text-align: right;\n",
       "    }\n",
       "</style>\n",
       "<table border=\"1\" class=\"dataframe\">\n",
       "  <thead>\n",
       "    <tr style=\"text-align: right;\">\n",
       "      <th></th>\n",
       "      <th>count</th>\n",
       "      <th>mean</th>\n",
       "      <th>std</th>\n",
       "      <th>min</th>\n",
       "      <th>30%</th>\n",
       "      <th>50%</th>\n",
       "      <th>90%</th>\n",
       "      <th>max</th>\n",
       "    </tr>\n",
       "  </thead>\n",
       "  <tbody>\n",
       "    <tr>\n",
       "      <th>Edition</th>\n",
       "      <td>29216.0</td>\n",
       "      <td>1967.713171</td>\n",
       "      <td>32.406293</td>\n",
       "      <td>1896.0</td>\n",
       "      <td>1952.0</td>\n",
       "      <td>1976.0</td>\n",
       "      <td>2004.0</td>\n",
       "      <td>2008.0</td>\n",
       "    </tr>\n",
       "  </tbody>\n",
       "</table>\n",
       "</div>"
      ],
      "text/plain": [
       "           count         mean        std     min     30%     50%     90%  \\\n",
       "Edition  29216.0  1967.713171  32.406293  1896.0  1952.0  1976.0  2004.0   \n",
       "\n",
       "            max  \n",
       "Edition  2008.0  "
      ]
     },
     "execution_count": 44,
     "metadata": {},
     "output_type": "execute_result"
    }
   ],
   "source": [
    "oo.describe(percentiles = [.3, .90]).T"
   ]
  },
  {
   "cell_type": "code",
   "execution_count": 45,
   "id": "c5b52018",
   "metadata": {},
   "outputs": [
    {
     "data": {
      "text/plain": [
       "RangeIndex(start=0, stop=29216, step=1)"
      ]
     },
     "execution_count": 45,
     "metadata": {},
     "output_type": "execute_result"
    }
   ],
   "source": [
    "oo.index"
   ]
  },
  {
   "cell_type": "code",
   "execution_count": 47,
   "id": "1c53a976",
   "metadata": {},
   "outputs": [
    {
     "data": {
      "text/plain": [
       "array([['Athens', 1896, 'Aquatics', ..., '100m freestyle', 'M', 'Gold'],\n",
       "       ['Athens', 1896, 'Aquatics', ..., '100m freestyle', 'M', 'Silver'],\n",
       "       ['Athens', 1896, 'Aquatics', ..., '100m freestyle for sailors',\n",
       "        'M', 'Bronze'],\n",
       "       ...,\n",
       "       ['Beijing', 2008, 'Wrestling', ..., '96 - 120kg', 'M', 'Bronze'],\n",
       "       ['Beijing', 2008, 'Wrestling', ..., '96 - 120kg', 'M', 'Gold'],\n",
       "       ['Beijing', 2008, 'Wrestling', ..., '96 - 120kg', 'M', 'Silver']],\n",
       "      dtype=object)"
      ]
     },
     "execution_count": 47,
     "metadata": {},
     "output_type": "execute_result"
    }
   ],
   "source": [
    "oo.values"
   ]
  },
  {
   "cell_type": "code",
   "execution_count": 48,
   "id": "7df29e90",
   "metadata": {},
   "outputs": [
    {
     "data": {
      "text/plain": [
       "Index(['City', 'Edition', 'Sport', 'Discipline', 'Athlete', 'NOC', 'Gender',\n",
       "       'Event', 'Event_gender', 'Medal'],\n",
       "      dtype='object')"
      ]
     },
     "execution_count": 48,
     "metadata": {},
     "output_type": "execute_result"
    }
   ],
   "source": [
    "oo.columns"
   ]
  },
  {
   "cell_type": "code",
   "execution_count": 49,
   "id": "5b327dc1",
   "metadata": {},
   "outputs": [
    {
     "data": {
      "text/plain": [
       "[RangeIndex(start=0, stop=29216, step=1),\n",
       " Index(['City', 'Edition', 'Sport', 'Discipline', 'Athlete', 'NOC', 'Gender',\n",
       "        'Event', 'Event_gender', 'Medal'],\n",
       "       dtype='object')]"
      ]
     },
     "execution_count": 49,
     "metadata": {},
     "output_type": "execute_result"
    }
   ],
   "source": [
    "oo.axes"
   ]
  },
  {
   "cell_type": "code",
   "execution_count": 53,
   "id": "ae7a63c4",
   "metadata": {},
   "outputs": [
    {
     "data": {
      "text/plain": [
       "Index(['City', 'Edition', 'Sport', 'Discipline', 'Athlete', 'NOC', 'Gender',\n",
       "       'Event', 'Event_gender', 'Medal'],\n",
       "      dtype='object')"
      ]
     },
     "execution_count": 53,
     "metadata": {},
     "output_type": "execute_result"
    }
   ],
   "source": [
    "oo.keys()"
   ]
  },
  {
   "cell_type": "code",
   "execution_count": 54,
   "id": "7e395aad",
   "metadata": {},
   "outputs": [
    {
     "data": {
      "text/plain": [
       "2"
      ]
     },
     "execution_count": 54,
     "metadata": {},
     "output_type": "execute_result"
    }
   ],
   "source": [
    "oo.ndim"
   ]
  },
  {
   "cell_type": "markdown",
   "id": "56ac2388",
   "metadata": {},
   "source": [
    "<h1 id=\"5&nbsp;&nbsp;Data-type-conversion--&gt;-astype\" data-toc-modified-id=\"5&nbsp;&nbsp;Data-type-conversion--&gt;-astype-5\"><a id=\"5&nbsp;&nbsp;Data-type-conversion--&gt;-astype-5\" class=\"toc-mod-link\"></a><span class=\"toc-item-num\">5&nbsp;&nbsp;</span>Data type conversion -&gt; astype</h1>\n",
    "<p data-toc-modified-id=\"5&nbsp;&nbsp;Data-type-conversion--&gt;-astype-5\"><span style=\"font-size: 12pt;\">category, float,int,str,</span></p>"
   ]
  },
  {
   "cell_type": "code",
   "execution_count": 76,
   "id": "cdef0f16",
   "metadata": {},
   "outputs": [
    {
     "data": {
      "text/plain": [
       "City            category\n",
       "Edition         category\n",
       "Sport           category\n",
       "Discipline      category\n",
       "Athlete         category\n",
       "NOC             category\n",
       "Gender          category\n",
       "Event           category\n",
       "Event_gender    category\n",
       "Medal           category\n",
       "dtype: object"
      ]
     },
     "execution_count": 76,
     "metadata": {},
     "output_type": "execute_result"
    }
   ],
   "source": [
    "oo.astype('category').dtypes"
   ]
  },
  {
   "cell_type": "code",
   "execution_count": 70,
   "id": "e6311599",
   "metadata": {},
   "outputs": [],
   "source": [
    "oo[\"Edition\"]=oo[\"Edition\"].astype('category')\n",
    "oo.Medal = oo.Medal.astype('category')\n",
    "oo.Event_gender=oo.Event_gender.astype('category')"
   ]
  },
  {
   "cell_type": "code",
   "execution_count": 71,
   "id": "af0c6a56",
   "metadata": {},
   "outputs": [
    {
     "data": {
      "text/plain": [
       "City              object\n",
       "Edition         category\n",
       "Sport             object\n",
       "Discipline        object\n",
       "Athlete           object\n",
       "NOC               object\n",
       "Gender            object\n",
       "Event             object\n",
       "Event_gender    category\n",
       "Medal           category\n",
       "dtype: object"
      ]
     },
     "execution_count": 71,
     "metadata": {},
     "output_type": "execute_result"
    }
   ],
   "source": [
    "oo.dtypes"
   ]
  },
  {
   "cell_type": "code",
   "execution_count": 77,
   "id": "9da81da4",
   "metadata": {},
   "outputs": [
    {
     "data": {
      "text/html": [
       "<div>\n",
       "<style scoped>\n",
       "    .dataframe tbody tr th:only-of-type {\n",
       "        vertical-align: middle;\n",
       "    }\n",
       "\n",
       "    .dataframe tbody tr th {\n",
       "        vertical-align: top;\n",
       "    }\n",
       "\n",
       "    .dataframe thead th {\n",
       "        text-align: right;\n",
       "    }\n",
       "</style>\n",
       "<table border=\"1\" class=\"dataframe\">\n",
       "  <thead>\n",
       "    <tr style=\"text-align: right;\">\n",
       "      <th></th>\n",
       "      <th>count</th>\n",
       "      <th>unique</th>\n",
       "      <th>top</th>\n",
       "      <th>freq</th>\n",
       "    </tr>\n",
       "  </thead>\n",
       "  <tbody>\n",
       "    <tr>\n",
       "      <th>City</th>\n",
       "      <td>29216</td>\n",
       "      <td>22</td>\n",
       "      <td>Athens</td>\n",
       "      <td>2149</td>\n",
       "    </tr>\n",
       "    <tr>\n",
       "      <th>Edition</th>\n",
       "      <td>29216</td>\n",
       "      <td>26</td>\n",
       "      <td>2008</td>\n",
       "      <td>2042</td>\n",
       "    </tr>\n",
       "    <tr>\n",
       "      <th>Sport</th>\n",
       "      <td>29216</td>\n",
       "      <td>42</td>\n",
       "      <td>Aquatics</td>\n",
       "      <td>3828</td>\n",
       "    </tr>\n",
       "    <tr>\n",
       "      <th>Discipline</th>\n",
       "      <td>29216</td>\n",
       "      <td>56</td>\n",
       "      <td>Athletics</td>\n",
       "      <td>3448</td>\n",
       "    </tr>\n",
       "    <tr>\n",
       "      <th>Athlete</th>\n",
       "      <td>29216</td>\n",
       "      <td>21413</td>\n",
       "      <td>LATYNINA, Larisa</td>\n",
       "      <td>18</td>\n",
       "    </tr>\n",
       "    <tr>\n",
       "      <th>NOC</th>\n",
       "      <td>29216</td>\n",
       "      <td>138</td>\n",
       "      <td>USA</td>\n",
       "      <td>4335</td>\n",
       "    </tr>\n",
       "    <tr>\n",
       "      <th>Gender</th>\n",
       "      <td>29216</td>\n",
       "      <td>2</td>\n",
       "      <td>Men</td>\n",
       "      <td>21721</td>\n",
       "    </tr>\n",
       "    <tr>\n",
       "      <th>Event</th>\n",
       "      <td>29216</td>\n",
       "      <td>577</td>\n",
       "      <td>football</td>\n",
       "      <td>1387</td>\n",
       "    </tr>\n",
       "    <tr>\n",
       "      <th>Event_gender</th>\n",
       "      <td>29216</td>\n",
       "      <td>3</td>\n",
       "      <td>M</td>\n",
       "      <td>20067</td>\n",
       "    </tr>\n",
       "    <tr>\n",
       "      <th>Medal</th>\n",
       "      <td>29216</td>\n",
       "      <td>3</td>\n",
       "      <td>Gold</td>\n",
       "      <td>9850</td>\n",
       "    </tr>\n",
       "  </tbody>\n",
       "</table>\n",
       "</div>"
      ],
      "text/plain": [
       "              count unique               top   freq\n",
       "City          29216     22            Athens   2149\n",
       "Edition       29216     26              2008   2042\n",
       "Sport         29216     42          Aquatics   3828\n",
       "Discipline    29216     56         Athletics   3448\n",
       "Athlete       29216  21413  LATYNINA, Larisa     18\n",
       "NOC           29216    138               USA   4335\n",
       "Gender        29216      2               Men  21721\n",
       "Event         29216    577          football   1387\n",
       "Event_gender  29216      3                 M  20067\n",
       "Medal         29216      3              Gold   9850"
      ]
     },
     "execution_count": 77,
     "metadata": {},
     "output_type": "execute_result"
    }
   ],
   "source": [
    "oo.describe().T"
   ]
  },
  {
   "cell_type": "code",
   "execution_count": null,
   "id": "f0748d9b",
   "metadata": {},
   "outputs": [],
   "source": []
  },
  {
   "cell_type": "markdown",
   "id": "987cc906",
   "metadata": {},
   "source": [
    "# Data Selection -> loc, iloc, coditional, isin"
   ]
  },
  {
   "cell_type": "markdown",
   "id": "7ece50e7",
   "metadata": {},
   "source": [
    "<h2 id=\"df.loc[-]\" data-toc-modified-id=\"df.loc[-]-6.1\"><a id=\"df.loc[-]-6.1\" class=\"toc-mod-link\"></a><span class=\"toc-item-num\">6.1&nbsp;&nbsp;</span>df.loc[ ]</h2>"
   ]
  },
  {
   "cell_type": "code",
   "execution_count": 119,
   "id": "4a42f2a3",
   "metadata": {},
   "outputs": [
    {
     "data": {
      "text/plain": [
       "' Russia'"
      ]
     },
     "execution_count": 119,
     "metadata": {},
     "output_type": "execute_result"
    }
   ],
   "source": [
    "df['country'][1]"
   ]
  },
  {
   "cell_type": "code",
   "execution_count": 120,
   "id": "22a72ccf",
   "metadata": {},
   "outputs": [
    {
     "data": {
      "text/plain": [
       "1     Russia\n",
       "Name: country, dtype: object"
      ]
     },
     "execution_count": 120,
     "metadata": {},
     "output_type": "execute_result"
    }
   ],
   "source": [
    "df.loc[1:1,'country']"
   ]
  },
  {
   "cell_type": "code",
   "execution_count": 121,
   "id": "bb8b12a5",
   "metadata": {},
   "outputs": [
    {
     "data": {
      "text/plain": [
       "' Russia'"
      ]
     },
     "execution_count": 121,
     "metadata": {},
     "output_type": "execute_result"
    }
   ],
   "source": [
    "df.iloc[1,0]"
   ]
  },
  {
   "cell_type": "code",
   "execution_count": 122,
   "id": "02ebb8a5",
   "metadata": {},
   "outputs": [
    {
     "data": {
      "text/plain": [
       "1     Russia\n",
       "Name: country, dtype: object"
      ]
     },
     "execution_count": 122,
     "metadata": {},
     "output_type": "execute_result"
    }
   ],
   "source": [
    "df.iloc[1:2,0]"
   ]
  },
  {
   "cell_type": "code",
   "execution_count": 123,
   "id": "7c3706b6",
   "metadata": {},
   "outputs": [
    {
     "data": {
      "text/html": [
       "<div>\n",
       "<style scoped>\n",
       "    .dataframe tbody tr th:only-of-type {\n",
       "        vertical-align: middle;\n",
       "    }\n",
       "\n",
       "    .dataframe tbody tr th {\n",
       "        vertical-align: top;\n",
       "    }\n",
       "\n",
       "    .dataframe thead th {\n",
       "        text-align: right;\n",
       "    }\n",
       "</style>\n",
       "<table border=\"1\" class=\"dataframe\">\n",
       "  <thead>\n",
       "    <tr style=\"text-align: right;\">\n",
       "      <th></th>\n",
       "      <th>country</th>\n",
       "      <th>Capital</th>\n",
       "    </tr>\n",
       "  </thead>\n",
       "  <tbody>\n",
       "    <tr>\n",
       "      <th>1</th>\n",
       "      <td>Russia</td>\n",
       "      <td>Moscow</td>\n",
       "    </tr>\n",
       "  </tbody>\n",
       "</table>\n",
       "</div>"
      ],
      "text/plain": [
       "   country Capital\n",
       "1   Russia  Moscow"
      ]
     },
     "execution_count": 123,
     "metadata": {},
     "output_type": "execute_result"
    }
   ],
   "source": [
    "df[['country','Capital']][df.index==1]"
   ]
  },
  {
   "cell_type": "code",
   "execution_count": 124,
   "id": "e0c88cf1",
   "metadata": {},
   "outputs": [
    {
     "data": {
      "text/html": [
       "<div>\n",
       "<style scoped>\n",
       "    .dataframe tbody tr th:only-of-type {\n",
       "        vertical-align: middle;\n",
       "    }\n",
       "\n",
       "    .dataframe tbody tr th {\n",
       "        vertical-align: top;\n",
       "    }\n",
       "\n",
       "    .dataframe thead th {\n",
       "        text-align: right;\n",
       "    }\n",
       "</style>\n",
       "<table border=\"1\" class=\"dataframe\">\n",
       "  <thead>\n",
       "    <tr style=\"text-align: right;\">\n",
       "      <th></th>\n",
       "      <th>country</th>\n",
       "      <th>Capital</th>\n",
       "    </tr>\n",
       "  </thead>\n",
       "  <tbody>\n",
       "    <tr>\n",
       "      <th>1</th>\n",
       "      <td>Russia</td>\n",
       "      <td>Moscow</td>\n",
       "    </tr>\n",
       "  </tbody>\n",
       "</table>\n",
       "</div>"
      ],
      "text/plain": [
       "   country Capital\n",
       "1   Russia  Moscow"
      ]
     },
     "execution_count": 124,
     "metadata": {},
     "output_type": "execute_result"
    }
   ],
   "source": [
    "df.loc[1:1,['country','Capital']]"
   ]
  },
  {
   "cell_type": "code",
   "execution_count": 125,
   "id": "8053c96c",
   "metadata": {},
   "outputs": [
    {
     "data": {
      "text/html": [
       "<div>\n",
       "<style scoped>\n",
       "    .dataframe tbody tr th:only-of-type {\n",
       "        vertical-align: middle;\n",
       "    }\n",
       "\n",
       "    .dataframe tbody tr th {\n",
       "        vertical-align: top;\n",
       "    }\n",
       "\n",
       "    .dataframe thead th {\n",
       "        text-align: right;\n",
       "    }\n",
       "</style>\n",
       "<table border=\"1\" class=\"dataframe\">\n",
       "  <thead>\n",
       "    <tr style=\"text-align: right;\">\n",
       "      <th></th>\n",
       "      <th>country</th>\n",
       "      <th>Capital</th>\n",
       "    </tr>\n",
       "  </thead>\n",
       "  <tbody>\n",
       "    <tr>\n",
       "      <th>1</th>\n",
       "      <td>Russia</td>\n",
       "      <td>Moscow</td>\n",
       "    </tr>\n",
       "  </tbody>\n",
       "</table>\n",
       "</div>"
      ],
      "text/plain": [
       "   country Capital\n",
       "1   Russia  Moscow"
      ]
     },
     "execution_count": 125,
     "metadata": {},
     "output_type": "execute_result"
    }
   ],
   "source": [
    "df.iloc[1:2,0:2]"
   ]
  },
  {
   "cell_type": "markdown",
   "id": "84f948f4",
   "metadata": {},
   "source": [
    "<h3 id=\"6.1.1&nbsp;&nbsp;These-commands-do-not-Run!!\" data-toc-modified-id=\"6.1.1&nbsp;&nbsp;These-commands-do-not-Run!!-6.1.1\"><span style=\"font-size: 10pt;\"><span style=\"color: #e03e2d;\">These commands do not Run!!</span></span></h3>\n",
    "<p style=\"padding-left: 80px;\"><span style=\"font-size: 10pt;\"><span style=\"color: #e03e2d;\">oo[\"City\",\"Sport\"]</span></span></p>\n",
    "<p style=\"padding-left: 80px;\"><span style=\"font-size: 10pt;\"><span style=\"color: #e03e2d;\">oo[\"City\":\"Sport\"]</span></span></p>\n",
    "<p style=\"padding-left: 80px;\"><span style=\"font-size: 10pt;\"><span style=\"color: #e03e2d;\">oo[[\"City\":\"Sport\"]]</span></span></p>\n",
    "<p style=\"padding-left: 80px;\"><span style=\"font-size: 10pt;\"><span style=\"color: #e03e2d;\">oo[,[\"City\",\"Sport\"]]</span></span></p>\n",
    "<p style=\"padding-left: 80px;\"><span style=\"font-size: 10pt;\"><span style=\"color: #e03e2d;\">oo[:,[\"City\",\"Sport\"]]</span></span></p>\n",
    "<p style=\"padding-left: 80px;\"><span style=\"font-size: 10pt;\"><span style=\"color: #e03e2d;\">oo[1:4,[\"City\",\"Sport\"]]</span></span></p>\n",
    "<h3 id=\"6.1.2&nbsp;&nbsp;Negative-numbers-are-not-applied-to-loc\" data-toc-modified-id=\"6.1.2&nbsp;&nbsp;Negative-numbers-are-not-applied-to-loc-6.1.2\"><span style=\"font-size: 10pt;\"><span style=\"color: #e03e2d;\">Negative numbers are not applied to loc</span></span></h3>\n",
    "<p style=\"padding-left: 80px;\">&nbsp;</p>"
   ]
  },
  {
   "cell_type": "code",
   "execution_count": 118,
   "id": "29c38e74",
   "metadata": {},
   "outputs": [
    {
     "data": {
      "text/html": [
       "<div>\n",
       "<style scoped>\n",
       "    .dataframe tbody tr th:only-of-type {\n",
       "        vertical-align: middle;\n",
       "    }\n",
       "\n",
       "    .dataframe tbody tr th {\n",
       "        vertical-align: top;\n",
       "    }\n",
       "\n",
       "    .dataframe thead th {\n",
       "        text-align: right;\n",
       "    }\n",
       "</style>\n",
       "<table border=\"1\" class=\"dataframe\">\n",
       "  <thead>\n",
       "    <tr style=\"text-align: right;\">\n",
       "      <th></th>\n",
       "      <th>City</th>\n",
       "      <th>Edition</th>\n",
       "      <th>Sport</th>\n",
       "      <th>Discipline</th>\n",
       "      <th>Athlete</th>\n",
       "      <th>NOC</th>\n",
       "      <th>Gender</th>\n",
       "      <th>Event</th>\n",
       "      <th>Event_gender</th>\n",
       "      <th>Medal</th>\n",
       "    </tr>\n",
       "  </thead>\n",
       "  <tbody>\n",
       "    <tr>\n",
       "      <th>1</th>\n",
       "      <td>Athens</td>\n",
       "      <td>1896</td>\n",
       "      <td>Aquatics</td>\n",
       "      <td>Swimming</td>\n",
       "      <td>HERSCHMANN, Otto</td>\n",
       "      <td>AUT</td>\n",
       "      <td>Men</td>\n",
       "      <td>100m freestyle</td>\n",
       "      <td>M</td>\n",
       "      <td>Silver</td>\n",
       "    </tr>\n",
       "    <tr>\n",
       "      <th>2</th>\n",
       "      <td>Athens</td>\n",
       "      <td>1896</td>\n",
       "      <td>Aquatics</td>\n",
       "      <td>Swimming</td>\n",
       "      <td>DRIVAS, Dimitrios</td>\n",
       "      <td>GRE</td>\n",
       "      <td>Men</td>\n",
       "      <td>100m freestyle for sailors</td>\n",
       "      <td>M</td>\n",
       "      <td>Bronze</td>\n",
       "    </tr>\n",
       "    <tr>\n",
       "      <th>3</th>\n",
       "      <td>Athens</td>\n",
       "      <td>1896</td>\n",
       "      <td>Aquatics</td>\n",
       "      <td>Swimming</td>\n",
       "      <td>MALOKINIS, Ioannis</td>\n",
       "      <td>GRE</td>\n",
       "      <td>Men</td>\n",
       "      <td>100m freestyle for sailors</td>\n",
       "      <td>M</td>\n",
       "      <td>Gold</td>\n",
       "    </tr>\n",
       "  </tbody>\n",
       "</table>\n",
       "</div>"
      ],
      "text/plain": [
       "     City  Edition     Sport Discipline             Athlete  NOC Gender  \\\n",
       "1  Athens     1896  Aquatics   Swimming    HERSCHMANN, Otto  AUT    Men   \n",
       "2  Athens     1896  Aquatics   Swimming   DRIVAS, Dimitrios  GRE    Men   \n",
       "3  Athens     1896  Aquatics   Swimming  MALOKINIS, Ioannis  GRE    Men   \n",
       "\n",
       "                        Event Event_gender   Medal  \n",
       "1              100m freestyle            M  Silver  \n",
       "2  100m freestyle for sailors            M  Bronze  \n",
       "3  100m freestyle for sailors            M    Gold  "
      ]
     },
     "execution_count": 118,
     "metadata": {},
     "output_type": "execute_result"
    }
   ],
   "source": [
    "oo[1:4]"
   ]
  },
  {
   "cell_type": "markdown",
   "id": "9ef07481",
   "metadata": {},
   "source": [
    "<h3 id=\"oo[1]-does-not-return-the-first-ROW!!!\" data-toc-modified-id=\"oo[1]-does-not-return-the-first-ROW!!!-5.0.1\"><a id=\"oo[1]-does-not-return-the-first-ROW!!!-5.0.1\" class=\"toc-mod-link\"></a><span class=\"toc-item-num\">5.0.1&nbsp;&nbsp;</span><span style=\"color: #e03e2d;\">oo[1] does not return the first ROW!!!</span></h3>\n",
    "<p style=\"padding-left: 120px;\"><span style=\"color: #2dc26b; font-size: 14pt;\">but oo[1:2] returns the first row</span></p>"
   ]
  },
  {
   "cell_type": "code",
   "execution_count": 111,
   "id": "7ebb635b",
   "metadata": {},
   "outputs": [
    {
     "data": {
      "text/plain": [
       "City                      Athens\n",
       "Edition                     1896\n",
       "Sport                   Aquatics\n",
       "Discipline              Swimming\n",
       "Athlete         HERSCHMANN, Otto\n",
       "NOC                          AUT\n",
       "Gender                       Men\n",
       "Event             100m freestyle\n",
       "Event_gender                   M\n",
       "Medal                     Silver\n",
       "Name: 1, dtype: object"
      ]
     },
     "execution_count": 111,
     "metadata": {},
     "output_type": "execute_result"
    }
   ],
   "source": [
    "oo.loc[1]"
   ]
  },
  {
   "cell_type": "code",
   "execution_count": 112,
   "id": "37a0349c",
   "metadata": {},
   "outputs": [
    {
     "data": {
      "text/html": [
       "<div>\n",
       "<style scoped>\n",
       "    .dataframe tbody tr th:only-of-type {\n",
       "        vertical-align: middle;\n",
       "    }\n",
       "\n",
       "    .dataframe tbody tr th {\n",
       "        vertical-align: top;\n",
       "    }\n",
       "\n",
       "    .dataframe thead th {\n",
       "        text-align: right;\n",
       "    }\n",
       "</style>\n",
       "<table border=\"1\" class=\"dataframe\">\n",
       "  <thead>\n",
       "    <tr style=\"text-align: right;\">\n",
       "      <th></th>\n",
       "      <th>City</th>\n",
       "      <th>Edition</th>\n",
       "      <th>Sport</th>\n",
       "      <th>Discipline</th>\n",
       "      <th>Athlete</th>\n",
       "      <th>NOC</th>\n",
       "      <th>Gender</th>\n",
       "      <th>Event</th>\n",
       "      <th>Event_gender</th>\n",
       "      <th>Medal</th>\n",
       "    </tr>\n",
       "  </thead>\n",
       "  <tbody>\n",
       "    <tr>\n",
       "      <th>1</th>\n",
       "      <td>Athens</td>\n",
       "      <td>1896</td>\n",
       "      <td>Aquatics</td>\n",
       "      <td>Swimming</td>\n",
       "      <td>HERSCHMANN, Otto</td>\n",
       "      <td>AUT</td>\n",
       "      <td>Men</td>\n",
       "      <td>100m freestyle</td>\n",
       "      <td>M</td>\n",
       "      <td>Silver</td>\n",
       "    </tr>\n",
       "  </tbody>\n",
       "</table>\n",
       "</div>"
      ],
      "text/plain": [
       "     City Edition     Sport Discipline           Athlete  NOC Gender  \\\n",
       "1  Athens    1896  Aquatics   Swimming  HERSCHMANN, Otto  AUT    Men   \n",
       "\n",
       "            Event Event_gender   Medal  \n",
       "1  100m freestyle            M  Silver  "
      ]
     },
     "execution_count": 112,
     "metadata": {},
     "output_type": "execute_result"
    }
   ],
   "source": [
    "oo.loc[[1]]"
   ]
  },
  {
   "cell_type": "code",
   "execution_count": 24,
   "id": "57dfbb41",
   "metadata": {},
   "outputs": [
    {
     "data": {
      "text/html": [
       "<div>\n",
       "<style scoped>\n",
       "    .dataframe tbody tr th:only-of-type {\n",
       "        vertical-align: middle;\n",
       "    }\n",
       "\n",
       "    .dataframe tbody tr th {\n",
       "        vertical-align: top;\n",
       "    }\n",
       "\n",
       "    .dataframe thead th {\n",
       "        text-align: right;\n",
       "    }\n",
       "</style>\n",
       "<table border=\"1\" class=\"dataframe\">\n",
       "  <thead>\n",
       "    <tr style=\"text-align: right;\">\n",
       "      <th></th>\n",
       "      <th>City</th>\n",
       "      <th>Edition</th>\n",
       "      <th>Sport</th>\n",
       "      <th>Discipline</th>\n",
       "      <th>Athlete</th>\n",
       "      <th>NOC</th>\n",
       "      <th>Gender</th>\n",
       "      <th>Event</th>\n",
       "      <th>Event_gender</th>\n",
       "      <th>Medal</th>\n",
       "    </tr>\n",
       "  </thead>\n",
       "  <tbody>\n",
       "    <tr>\n",
       "      <th>1</th>\n",
       "      <td>Athens</td>\n",
       "      <td>1896</td>\n",
       "      <td>Aquatics</td>\n",
       "      <td>Swimming</td>\n",
       "      <td>HERSCHMANN, Otto</td>\n",
       "      <td>AUT</td>\n",
       "      <td>Men</td>\n",
       "      <td>100m freestyle</td>\n",
       "      <td>M</td>\n",
       "      <td>Silver</td>\n",
       "    </tr>\n",
       "    <tr>\n",
       "      <th>2</th>\n",
       "      <td>Athens</td>\n",
       "      <td>1896</td>\n",
       "      <td>Aquatics</td>\n",
       "      <td>Swimming</td>\n",
       "      <td>DRIVAS, Dimitrios</td>\n",
       "      <td>GRE</td>\n",
       "      <td>Men</td>\n",
       "      <td>100m freestyle for sailors</td>\n",
       "      <td>M</td>\n",
       "      <td>Bronze</td>\n",
       "    </tr>\n",
       "    <tr>\n",
       "      <th>3</th>\n",
       "      <td>Athens</td>\n",
       "      <td>1896</td>\n",
       "      <td>Aquatics</td>\n",
       "      <td>Swimming</td>\n",
       "      <td>MALOKINIS, Ioannis</td>\n",
       "      <td>GRE</td>\n",
       "      <td>Men</td>\n",
       "      <td>100m freestyle for sailors</td>\n",
       "      <td>M</td>\n",
       "      <td>Gold</td>\n",
       "    </tr>\n",
       "    <tr>\n",
       "      <th>4</th>\n",
       "      <td>Athens</td>\n",
       "      <td>1896</td>\n",
       "      <td>Aquatics</td>\n",
       "      <td>Swimming</td>\n",
       "      <td>CHASAPIS, Spiridon</td>\n",
       "      <td>GRE</td>\n",
       "      <td>Men</td>\n",
       "      <td>100m freestyle for sailors</td>\n",
       "      <td>M</td>\n",
       "      <td>Silver</td>\n",
       "    </tr>\n",
       "  </tbody>\n",
       "</table>\n",
       "</div>"
      ],
      "text/plain": [
       "     City  Edition     Sport Discipline             Athlete  NOC Gender  \\\n",
       "1  Athens     1896  Aquatics   Swimming    HERSCHMANN, Otto  AUT    Men   \n",
       "2  Athens     1896  Aquatics   Swimming   DRIVAS, Dimitrios  GRE    Men   \n",
       "3  Athens     1896  Aquatics   Swimming  MALOKINIS, Ioannis  GRE    Men   \n",
       "4  Athens     1896  Aquatics   Swimming  CHASAPIS, Spiridon  GRE    Men   \n",
       "\n",
       "                        Event Event_gender   Medal  \n",
       "1              100m freestyle            M  Silver  \n",
       "2  100m freestyle for sailors            M  Bronze  \n",
       "3  100m freestyle for sailors            M    Gold  \n",
       "4  100m freestyle for sailors            M  Silver  "
      ]
     },
     "execution_count": 24,
     "metadata": {},
     "output_type": "execute_result"
    }
   ],
   "source": [
    "oo.loc[1:4]\n",
    "# oo.loc[1:4,]  oo.loc[1:4,:] oo.loc[[1,2,3,4]] oo.loc[[1,2,3,4],] oo.loc[[1,2,3,4],:]\n",
    "# oo.loc[[2:5]] ::error"
   ]
  },
  {
   "cell_type": "code",
   "execution_count": 27,
   "id": "ee8c7ab9",
   "metadata": {},
   "outputs": [
    {
     "data": {
      "text/plain": [
       "0    Athens\n",
       "1    Athens\n",
       "2    Athens\n",
       "Name: City, dtype: object"
      ]
     },
     "execution_count": 27,
     "metadata": {},
     "output_type": "execute_result"
    }
   ],
   "source": [
    "oo.loc[:,'City'].head(3)"
   ]
  },
  {
   "cell_type": "code",
   "execution_count": 28,
   "id": "86080cf4",
   "metadata": {},
   "outputs": [
    {
     "data": {
      "text/html": [
       "<div>\n",
       "<style scoped>\n",
       "    .dataframe tbody tr th:only-of-type {\n",
       "        vertical-align: middle;\n",
       "    }\n",
       "\n",
       "    .dataframe tbody tr th {\n",
       "        vertical-align: top;\n",
       "    }\n",
       "\n",
       "    .dataframe thead th {\n",
       "        text-align: right;\n",
       "    }\n",
       "</style>\n",
       "<table border=\"1\" class=\"dataframe\">\n",
       "  <thead>\n",
       "    <tr style=\"text-align: right;\">\n",
       "      <th></th>\n",
       "      <th>City</th>\n",
       "    </tr>\n",
       "  </thead>\n",
       "  <tbody>\n",
       "    <tr>\n",
       "      <th>0</th>\n",
       "      <td>Athens</td>\n",
       "    </tr>\n",
       "    <tr>\n",
       "      <th>1</th>\n",
       "      <td>Athens</td>\n",
       "    </tr>\n",
       "    <tr>\n",
       "      <th>2</th>\n",
       "      <td>Athens</td>\n",
       "    </tr>\n",
       "  </tbody>\n",
       "</table>\n",
       "</div>"
      ],
      "text/plain": [
       "     City\n",
       "0  Athens\n",
       "1  Athens\n",
       "2  Athens"
      ]
     },
     "execution_count": 28,
     "metadata": {},
     "output_type": "execute_result"
    }
   ],
   "source": [
    "oo.loc[:,['City']].head(3)"
   ]
  },
  {
   "cell_type": "code",
   "execution_count": 35,
   "id": "9856489e",
   "metadata": {},
   "outputs": [
    {
     "data": {
      "text/html": [
       "<div>\n",
       "<style scoped>\n",
       "    .dataframe tbody tr th:only-of-type {\n",
       "        vertical-align: middle;\n",
       "    }\n",
       "\n",
       "    .dataframe tbody tr th {\n",
       "        vertical-align: top;\n",
       "    }\n",
       "\n",
       "    .dataframe thead th {\n",
       "        text-align: right;\n",
       "    }\n",
       "</style>\n",
       "<table border=\"1\" class=\"dataframe\">\n",
       "  <thead>\n",
       "    <tr style=\"text-align: right;\">\n",
       "      <th></th>\n",
       "      <th>Sport</th>\n",
       "      <th>Discipline</th>\n",
       "      <th>Athlete</th>\n",
       "      <th>NOC</th>\n",
       "    </tr>\n",
       "  </thead>\n",
       "  <tbody>\n",
       "    <tr>\n",
       "      <th>0</th>\n",
       "      <td>Aquatics</td>\n",
       "      <td>Swimming</td>\n",
       "      <td>HAJOS, Alfred</td>\n",
       "      <td>HUN</td>\n",
       "    </tr>\n",
       "    <tr>\n",
       "      <th>1</th>\n",
       "      <td>Aquatics</td>\n",
       "      <td>Swimming</td>\n",
       "      <td>HERSCHMANN, Otto</td>\n",
       "      <td>AUT</td>\n",
       "    </tr>\n",
       "    <tr>\n",
       "      <th>2</th>\n",
       "      <td>Aquatics</td>\n",
       "      <td>Swimming</td>\n",
       "      <td>DRIVAS, Dimitrios</td>\n",
       "      <td>GRE</td>\n",
       "    </tr>\n",
       "  </tbody>\n",
       "</table>\n",
       "</div>"
      ],
      "text/plain": [
       "      Sport Discipline            Athlete  NOC\n",
       "0  Aquatics   Swimming      HAJOS, Alfred  HUN\n",
       "1  Aquatics   Swimming   HERSCHMANN, Otto  AUT\n",
       "2  Aquatics   Swimming  DRIVAS, Dimitrios  GRE"
      ]
     },
     "execution_count": 35,
     "metadata": {},
     "output_type": "execute_result"
    }
   ],
   "source": [
    "oo.loc[:,'Sport':'NOC'].head(3) # df.loc[:,['City','Edition','Sport','Discipline ', 'Athlete', 'NOC']] "
   ]
  },
  {
   "cell_type": "code",
   "execution_count": 36,
   "id": "17adbc2e",
   "metadata": {},
   "outputs": [
    {
     "data": {
      "text/html": [
       "<div>\n",
       "<style scoped>\n",
       "    .dataframe tbody tr th:only-of-type {\n",
       "        vertical-align: middle;\n",
       "    }\n",
       "\n",
       "    .dataframe tbody tr th {\n",
       "        vertical-align: top;\n",
       "    }\n",
       "\n",
       "    .dataframe thead th {\n",
       "        text-align: right;\n",
       "    }\n",
       "</style>\n",
       "<table border=\"1\" class=\"dataframe\">\n",
       "  <thead>\n",
       "    <tr style=\"text-align: right;\">\n",
       "      <th></th>\n",
       "      <th>Sport</th>\n",
       "      <th>Discipline</th>\n",
       "      <th>Athlete</th>\n",
       "      <th>NOC</th>\n",
       "    </tr>\n",
       "  </thead>\n",
       "  <tbody>\n",
       "    <tr>\n",
       "      <th>1</th>\n",
       "      <td>Aquatics</td>\n",
       "      <td>Swimming</td>\n",
       "      <td>HERSCHMANN, Otto</td>\n",
       "      <td>AUT</td>\n",
       "    </tr>\n",
       "    <tr>\n",
       "      <th>3</th>\n",
       "      <td>Aquatics</td>\n",
       "      <td>Swimming</td>\n",
       "      <td>MALOKINIS, Ioannis</td>\n",
       "      <td>GRE</td>\n",
       "    </tr>\n",
       "    <tr>\n",
       "      <th>5</th>\n",
       "      <td>Aquatics</td>\n",
       "      <td>Swimming</td>\n",
       "      <td>CHOROPHAS, Efstathios</td>\n",
       "      <td>GRE</td>\n",
       "    </tr>\n",
       "  </tbody>\n",
       "</table>\n",
       "</div>"
      ],
      "text/plain": [
       "      Sport Discipline                Athlete  NOC\n",
       "1  Aquatics   Swimming       HERSCHMANN, Otto  AUT\n",
       "3  Aquatics   Swimming     MALOKINIS, Ioannis  GRE\n",
       "5  Aquatics   Swimming  CHOROPHAS, Efstathios  GRE"
      ]
     },
     "execution_count": 36,
     "metadata": {},
     "output_type": "execute_result"
    }
   ],
   "source": [
    "oo.iloc[[1,3,5],[2,3,4,5]]"
   ]
  },
  {
   "cell_type": "code",
   "execution_count": 32,
   "id": "bd266195",
   "metadata": {},
   "outputs": [
    {
     "data": {
      "text/html": [
       "<div>\n",
       "<style scoped>\n",
       "    .dataframe tbody tr th:only-of-type {\n",
       "        vertical-align: middle;\n",
       "    }\n",
       "\n",
       "    .dataframe tbody tr th {\n",
       "        vertical-align: top;\n",
       "    }\n",
       "\n",
       "    .dataframe thead th {\n",
       "        text-align: right;\n",
       "    }\n",
       "</style>\n",
       "<table border=\"1\" class=\"dataframe\">\n",
       "  <thead>\n",
       "    <tr style=\"text-align: right;\">\n",
       "      <th></th>\n",
       "      <th>City</th>\n",
       "      <th>Edition</th>\n",
       "      <th>Sport</th>\n",
       "      <th>Discipline</th>\n",
       "      <th>Athlete</th>\n",
       "      <th>NOC</th>\n",
       "      <th>Gender</th>\n",
       "      <th>Event</th>\n",
       "      <th>Event_gender</th>\n",
       "      <th>Medal</th>\n",
       "    </tr>\n",
       "  </thead>\n",
       "  <tbody>\n",
       "    <tr>\n",
       "      <th>1</th>\n",
       "      <td>Athens</td>\n",
       "      <td>1896</td>\n",
       "      <td>Aquatics</td>\n",
       "      <td>Swimming</td>\n",
       "      <td>HERSCHMANN, Otto</td>\n",
       "      <td>AUT</td>\n",
       "      <td>Men</td>\n",
       "      <td>100m freestyle</td>\n",
       "      <td>M</td>\n",
       "      <td>Silver</td>\n",
       "    </tr>\n",
       "    <tr>\n",
       "      <th>2</th>\n",
       "      <td>Athens</td>\n",
       "      <td>1896</td>\n",
       "      <td>Aquatics</td>\n",
       "      <td>Swimming</td>\n",
       "      <td>DRIVAS, Dimitrios</td>\n",
       "      <td>GRE</td>\n",
       "      <td>Men</td>\n",
       "      <td>100m freestyle for sailors</td>\n",
       "      <td>M</td>\n",
       "      <td>Bronze</td>\n",
       "    </tr>\n",
       "    <tr>\n",
       "      <th>3</th>\n",
       "      <td>Athens</td>\n",
       "      <td>1896</td>\n",
       "      <td>Aquatics</td>\n",
       "      <td>Swimming</td>\n",
       "      <td>MALOKINIS, Ioannis</td>\n",
       "      <td>GRE</td>\n",
       "      <td>Men</td>\n",
       "      <td>100m freestyle for sailors</td>\n",
       "      <td>M</td>\n",
       "      <td>Gold</td>\n",
       "    </tr>\n",
       "  </tbody>\n",
       "</table>\n",
       "</div>"
      ],
      "text/plain": [
       "     City  Edition     Sport Discipline             Athlete  NOC Gender  \\\n",
       "1  Athens     1896  Aquatics   Swimming    HERSCHMANN, Otto  AUT    Men   \n",
       "2  Athens     1896  Aquatics   Swimming   DRIVAS, Dimitrios  GRE    Men   \n",
       "3  Athens     1896  Aquatics   Swimming  MALOKINIS, Ioannis  GRE    Men   \n",
       "\n",
       "                        Event Event_gender   Medal  \n",
       "1              100m freestyle            M  Silver  \n",
       "2  100m freestyle for sailors            M  Bronze  \n",
       "3  100m freestyle for sailors            M    Gold  "
      ]
     },
     "execution_count": 32,
     "metadata": {},
     "output_type": "execute_result"
    }
   ],
   "source": [
    "oo.iloc[1:4] # oo.iloc[1:4,]  oo.iloc[[1,2,3]] oo.iloc[[1,2,3],]"
   ]
  },
  {
   "cell_type": "code",
   "execution_count": 34,
   "id": "f40b94d4",
   "metadata": {},
   "outputs": [
    {
     "data": {
      "text/html": [
       "<div>\n",
       "<style scoped>\n",
       "    .dataframe tbody tr th:only-of-type {\n",
       "        vertical-align: middle;\n",
       "    }\n",
       "\n",
       "    .dataframe tbody tr th {\n",
       "        vertical-align: top;\n",
       "    }\n",
       "\n",
       "    .dataframe thead th {\n",
       "        text-align: right;\n",
       "    }\n",
       "</style>\n",
       "<table border=\"1\" class=\"dataframe\">\n",
       "  <thead>\n",
       "    <tr style=\"text-align: right;\">\n",
       "      <th></th>\n",
       "      <th>City</th>\n",
       "      <th>Edition</th>\n",
       "      <th>Sport</th>\n",
       "      <th>Discipline</th>\n",
       "      <th>Athlete</th>\n",
       "    </tr>\n",
       "  </thead>\n",
       "  <tbody>\n",
       "    <tr>\n",
       "      <th>0</th>\n",
       "      <td>Athens</td>\n",
       "      <td>1896</td>\n",
       "      <td>Aquatics</td>\n",
       "      <td>Swimming</td>\n",
       "      <td>HAJOS, Alfred</td>\n",
       "    </tr>\n",
       "    <tr>\n",
       "      <th>1</th>\n",
       "      <td>Athens</td>\n",
       "      <td>1896</td>\n",
       "      <td>Aquatics</td>\n",
       "      <td>Swimming</td>\n",
       "      <td>HERSCHMANN, Otto</td>\n",
       "    </tr>\n",
       "    <tr>\n",
       "      <th>2</th>\n",
       "      <td>Athens</td>\n",
       "      <td>1896</td>\n",
       "      <td>Aquatics</td>\n",
       "      <td>Swimming</td>\n",
       "      <td>DRIVAS, Dimitrios</td>\n",
       "    </tr>\n",
       "  </tbody>\n",
       "</table>\n",
       "</div>"
      ],
      "text/plain": [
       "     City  Edition     Sport Discipline            Athlete\n",
       "0  Athens     1896  Aquatics   Swimming      HAJOS, Alfred\n",
       "1  Athens     1896  Aquatics   Swimming   HERSCHMANN, Otto\n",
       "2  Athens     1896  Aquatics   Swimming  DRIVAS, Dimitrios"
      ]
     },
     "execution_count": 34,
     "metadata": {},
     "output_type": "execute_result"
    }
   ],
   "source": [
    "oo.iloc[:,0:5].head(3) #oo.iloc[:,[0,1,2,3,4]]"
   ]
  },
  {
   "cell_type": "markdown",
   "id": "83ac00d4",
   "metadata": {},
   "source": [
    "<h2><a id=\"Attention!!!-6.2\" class=\"toc-mod-link\"></a><span class=\"toc-item-num\">6.2&nbsp;&nbsp;</span><span style=\"color: #e03e2d;\">Attention!!!&nbsp;</span>oo.loc[2:5] != oo.iloc[2:5] =oo[2:5]</h2>\n",
    "<p>&nbsp;</p>"
   ]
  },
  {
   "cell_type": "code",
   "execution_count": null,
   "id": "4986fc1f",
   "metadata": {},
   "outputs": [],
   "source": [
    "oo.iloc[]"
   ]
  },
  {
   "cell_type": "markdown",
   "id": "ac9268fc",
   "metadata": {},
   "source": [
    "<h2>query</h2>"
   ]
  },
  {
   "cell_type": "code",
   "execution_count": null,
   "id": "c11420b3",
   "metadata": {},
   "outputs": [],
   "source": []
  },
  {
   "cell_type": "markdown",
   "id": "aeaddd8f",
   "metadata": {},
   "source": [
    "<h2>select by dtype</h2>"
   ]
  },
  {
   "cell_type": "code",
   "execution_count": null,
   "id": "c04dcb59",
   "metadata": {},
   "outputs": [],
   "source": [
    "df.select_dtypes()"
   ]
  },
  {
   "cell_type": "markdown",
   "id": "2cc91d5a",
   "metadata": {
    "heading_collapsed": true
   },
   "source": [
    "# Data Sorting"
   ]
  },
  {
   "cell_type": "code",
   "execution_count": 84,
   "id": "cc2b037c",
   "metadata": {
    "hidden": true
   },
   "outputs": [
    {
     "data": {
      "text/plain": [
       "651                 AABYE, Edgar\n",
       "2849       AALTONEN, Arvo Ossian\n",
       "2852       AALTONEN, Arvo Ossian\n",
       "7716    AALTONEN, Paavo Johannes\n",
       "7730    AALTONEN, Paavo Johannes\n",
       "                  ...           \n",
       "603                   ÖSTMO, Ole\n",
       "608                   ÖSTMO, Ole\n",
       "621                   ÖSTMO, Ole\n",
       "596                   ÖSTMO, Ole\n",
       "8051           ÖSTRAND, Per-Olof\n",
       "Name: Athlete, Length: 29216, dtype: object"
      ]
     },
     "execution_count": 84,
     "metadata": {},
     "output_type": "execute_result"
    }
   ],
   "source": [
    "oo.Athlete.sort_values()"
   ]
  },
  {
   "cell_type": "code",
   "execution_count": 86,
   "id": "27ef4e67",
   "metadata": {
    "hidden": true
   },
   "outputs": [
    {
     "data": {
      "text/html": [
       "<div>\n",
       "<style scoped>\n",
       "    .dataframe tbody tr th:only-of-type {\n",
       "        vertical-align: middle;\n",
       "    }\n",
       "\n",
       "    .dataframe tbody tr th {\n",
       "        vertical-align: top;\n",
       "    }\n",
       "\n",
       "    .dataframe thead th {\n",
       "        text-align: right;\n",
       "    }\n",
       "</style>\n",
       "<table border=\"1\" class=\"dataframe\">\n",
       "  <thead>\n",
       "    <tr style=\"text-align: right;\">\n",
       "      <th></th>\n",
       "      <th>City</th>\n",
       "      <th>Edition</th>\n",
       "      <th>Sport</th>\n",
       "      <th>Discipline</th>\n",
       "      <th>Athlete</th>\n",
       "      <th>NOC</th>\n",
       "      <th>Gender</th>\n",
       "      <th>Event</th>\n",
       "      <th>Event_gender</th>\n",
       "      <th>Medal</th>\n",
       "    </tr>\n",
       "  </thead>\n",
       "  <tbody>\n",
       "    <tr>\n",
       "      <th>651</th>\n",
       "      <td>Paris</td>\n",
       "      <td>1900</td>\n",
       "      <td>Tug of War</td>\n",
       "      <td>Tug of War</td>\n",
       "      <td>AABYE, Edgar</td>\n",
       "      <td>ZZX</td>\n",
       "      <td>Men</td>\n",
       "      <td>tug of war</td>\n",
       "      <td>M</td>\n",
       "      <td>Gold</td>\n",
       "    </tr>\n",
       "    <tr>\n",
       "      <th>2849</th>\n",
       "      <td>Antwerp</td>\n",
       "      <td>1920</td>\n",
       "      <td>Aquatics</td>\n",
       "      <td>Swimming</td>\n",
       "      <td>AALTONEN, Arvo Ossian</td>\n",
       "      <td>FIN</td>\n",
       "      <td>Men</td>\n",
       "      <td>200m breaststroke</td>\n",
       "      <td>M</td>\n",
       "      <td>Bronze</td>\n",
       "    </tr>\n",
       "    <tr>\n",
       "      <th>2852</th>\n",
       "      <td>Antwerp</td>\n",
       "      <td>1920</td>\n",
       "      <td>Aquatics</td>\n",
       "      <td>Swimming</td>\n",
       "      <td>AALTONEN, Arvo Ossian</td>\n",
       "      <td>FIN</td>\n",
       "      <td>Men</td>\n",
       "      <td>400m breaststroke</td>\n",
       "      <td>M</td>\n",
       "      <td>Bronze</td>\n",
       "    </tr>\n",
       "    <tr>\n",
       "      <th>7716</th>\n",
       "      <td>London</td>\n",
       "      <td>1948</td>\n",
       "      <td>Gymnastics</td>\n",
       "      <td>Artistic G.</td>\n",
       "      <td>AALTONEN, Paavo Johannes</td>\n",
       "      <td>FIN</td>\n",
       "      <td>Men</td>\n",
       "      <td>pommel horse</td>\n",
       "      <td>M</td>\n",
       "      <td>Gold</td>\n",
       "    </tr>\n",
       "    <tr>\n",
       "      <th>7730</th>\n",
       "      <td>London</td>\n",
       "      <td>1948</td>\n",
       "      <td>Gymnastics</td>\n",
       "      <td>Artistic G.</td>\n",
       "      <td>AALTONEN, Paavo Johannes</td>\n",
       "      <td>FIN</td>\n",
       "      <td>Men</td>\n",
       "      <td>team competition</td>\n",
       "      <td>M</td>\n",
       "      <td>Gold</td>\n",
       "    </tr>\n",
       "    <tr>\n",
       "      <th>...</th>\n",
       "      <td>...</td>\n",
       "      <td>...</td>\n",
       "      <td>...</td>\n",
       "      <td>...</td>\n",
       "      <td>...</td>\n",
       "      <td>...</td>\n",
       "      <td>...</td>\n",
       "      <td>...</td>\n",
       "      <td>...</td>\n",
       "      <td>...</td>\n",
       "    </tr>\n",
       "    <tr>\n",
       "      <th>603</th>\n",
       "      <td>Paris</td>\n",
       "      <td>1900</td>\n",
       "      <td>Shooting</td>\n",
       "      <td>Shooting</td>\n",
       "      <td>ÖSTMO, Ole</td>\n",
       "      <td>NOR</td>\n",
       "      <td>Men</td>\n",
       "      <td>army rifle, 300m, prone</td>\n",
       "      <td>M</td>\n",
       "      <td>Bronze</td>\n",
       "    </tr>\n",
       "    <tr>\n",
       "      <th>608</th>\n",
       "      <td>Paris</td>\n",
       "      <td>1900</td>\n",
       "      <td>Shooting</td>\n",
       "      <td>Shooting</td>\n",
       "      <td>ÖSTMO, Ole</td>\n",
       "      <td>NOR</td>\n",
       "      <td>Men</td>\n",
       "      <td>army rifle, 300m, standing</td>\n",
       "      <td>M</td>\n",
       "      <td>Silver</td>\n",
       "    </tr>\n",
       "    <tr>\n",
       "      <th>621</th>\n",
       "      <td>Paris</td>\n",
       "      <td>1900</td>\n",
       "      <td>Shooting</td>\n",
       "      <td>Shooting</td>\n",
       "      <td>ÖSTMO, Ole</td>\n",
       "      <td>NOR</td>\n",
       "      <td>Men</td>\n",
       "      <td>free rifle, team</td>\n",
       "      <td>M</td>\n",
       "      <td>Silver</td>\n",
       "    </tr>\n",
       "    <tr>\n",
       "      <th>596</th>\n",
       "      <td>Paris</td>\n",
       "      <td>1900</td>\n",
       "      <td>Shooting</td>\n",
       "      <td>Shooting</td>\n",
       "      <td>ÖSTMO, Ole</td>\n",
       "      <td>NOR</td>\n",
       "      <td>Men</td>\n",
       "      <td>army rifle, 300m, 3 positions</td>\n",
       "      <td>M</td>\n",
       "      <td>Bronze</td>\n",
       "    </tr>\n",
       "    <tr>\n",
       "      <th>8051</th>\n",
       "      <td>Helsinki</td>\n",
       "      <td>1952</td>\n",
       "      <td>Aquatics</td>\n",
       "      <td>Swimming</td>\n",
       "      <td>ÖSTRAND, Per-Olof</td>\n",
       "      <td>SWE</td>\n",
       "      <td>Men</td>\n",
       "      <td>400m freestyle</td>\n",
       "      <td>M</td>\n",
       "      <td>Bronze</td>\n",
       "    </tr>\n",
       "  </tbody>\n",
       "</table>\n",
       "<p>29216 rows × 10 columns</p>\n",
       "</div>"
      ],
      "text/plain": [
       "          City Edition       Sport   Discipline                   Athlete  \\\n",
       "651      Paris    1900  Tug of War   Tug of War              AABYE, Edgar   \n",
       "2849   Antwerp    1920    Aquatics     Swimming     AALTONEN, Arvo Ossian   \n",
       "2852   Antwerp    1920    Aquatics     Swimming     AALTONEN, Arvo Ossian   \n",
       "7716    London    1948  Gymnastics  Artistic G.  AALTONEN, Paavo Johannes   \n",
       "7730    London    1948  Gymnastics  Artistic G.  AALTONEN, Paavo Johannes   \n",
       "...        ...     ...         ...          ...                       ...   \n",
       "603      Paris    1900    Shooting     Shooting                ÖSTMO, Ole   \n",
       "608      Paris    1900    Shooting     Shooting                ÖSTMO, Ole   \n",
       "621      Paris    1900    Shooting     Shooting                ÖSTMO, Ole   \n",
       "596      Paris    1900    Shooting     Shooting                ÖSTMO, Ole   \n",
       "8051  Helsinki    1952    Aquatics     Swimming         ÖSTRAND, Per-Olof   \n",
       "\n",
       "      NOC Gender                          Event Event_gender   Medal  \n",
       "651   ZZX    Men                     tug of war            M    Gold  \n",
       "2849  FIN    Men              200m breaststroke            M  Bronze  \n",
       "2852  FIN    Men              400m breaststroke            M  Bronze  \n",
       "7716  FIN    Men                   pommel horse            M    Gold  \n",
       "7730  FIN    Men               team competition            M    Gold  \n",
       "...   ...    ...                            ...          ...     ...  \n",
       "603   NOR    Men        army rifle, 300m, prone            M  Bronze  \n",
       "608   NOR    Men     army rifle, 300m, standing            M  Silver  \n",
       "621   NOR    Men               free rifle, team            M  Silver  \n",
       "596   NOR    Men  army rifle, 300m, 3 positions            M  Bronze  \n",
       "8051  SWE    Men                 400m freestyle            M  Bronze  \n",
       "\n",
       "[29216 rows x 10 columns]"
      ]
     },
     "execution_count": 86,
     "metadata": {},
     "output_type": "execute_result"
    }
   ],
   "source": [
    "oo.sort_values(\"Athlete\")"
   ]
  },
  {
   "cell_type": "code",
   "execution_count": 90,
   "id": "e517065b",
   "metadata": {
    "hidden": true
   },
   "outputs": [
    {
     "data": {
      "text/html": [
       "<div>\n",
       "<style scoped>\n",
       "    .dataframe tbody tr th:only-of-type {\n",
       "        vertical-align: middle;\n",
       "    }\n",
       "\n",
       "    .dataframe tbody tr th {\n",
       "        vertical-align: top;\n",
       "    }\n",
       "\n",
       "    .dataframe thead th {\n",
       "        text-align: right;\n",
       "    }\n",
       "</style>\n",
       "<table border=\"1\" class=\"dataframe\">\n",
       "  <thead>\n",
       "    <tr style=\"text-align: right;\">\n",
       "      <th></th>\n",
       "      <th>City</th>\n",
       "      <th>Edition</th>\n",
       "      <th>Sport</th>\n",
       "      <th>Discipline</th>\n",
       "      <th>Athlete</th>\n",
       "      <th>NOC</th>\n",
       "      <th>Gender</th>\n",
       "      <th>Event</th>\n",
       "      <th>Event_gender</th>\n",
       "      <th>Medal</th>\n",
       "    </tr>\n",
       "  </thead>\n",
       "  <tbody>\n",
       "    <tr>\n",
       "      <th>8051</th>\n",
       "      <td>Helsinki</td>\n",
       "      <td>1952</td>\n",
       "      <td>Aquatics</td>\n",
       "      <td>Swimming</td>\n",
       "      <td>ÖSTRAND, Per-Olof</td>\n",
       "      <td>SWE</td>\n",
       "      <td>Men</td>\n",
       "      <td>400m freestyle</td>\n",
       "      <td>M</td>\n",
       "      <td>Bronze</td>\n",
       "    </tr>\n",
       "    <tr>\n",
       "      <th>621</th>\n",
       "      <td>Paris</td>\n",
       "      <td>1900</td>\n",
       "      <td>Shooting</td>\n",
       "      <td>Shooting</td>\n",
       "      <td>ÖSTMO, Ole</td>\n",
       "      <td>NOR</td>\n",
       "      <td>Men</td>\n",
       "      <td>free rifle, team</td>\n",
       "      <td>M</td>\n",
       "      <td>Silver</td>\n",
       "    </tr>\n",
       "    <tr>\n",
       "      <th>608</th>\n",
       "      <td>Paris</td>\n",
       "      <td>1900</td>\n",
       "      <td>Shooting</td>\n",
       "      <td>Shooting</td>\n",
       "      <td>ÖSTMO, Ole</td>\n",
       "      <td>NOR</td>\n",
       "      <td>Men</td>\n",
       "      <td>army rifle, 300m, standing</td>\n",
       "      <td>M</td>\n",
       "      <td>Silver</td>\n",
       "    </tr>\n",
       "    <tr>\n",
       "      <th>603</th>\n",
       "      <td>Paris</td>\n",
       "      <td>1900</td>\n",
       "      <td>Shooting</td>\n",
       "      <td>Shooting</td>\n",
       "      <td>ÖSTMO, Ole</td>\n",
       "      <td>NOR</td>\n",
       "      <td>Men</td>\n",
       "      <td>army rifle, 300m, prone</td>\n",
       "      <td>M</td>\n",
       "      <td>Bronze</td>\n",
       "    </tr>\n",
       "    <tr>\n",
       "      <th>596</th>\n",
       "      <td>Paris</td>\n",
       "      <td>1900</td>\n",
       "      <td>Shooting</td>\n",
       "      <td>Shooting</td>\n",
       "      <td>ÖSTMO, Ole</td>\n",
       "      <td>NOR</td>\n",
       "      <td>Men</td>\n",
       "      <td>army rifle, 300m, 3 positions</td>\n",
       "      <td>M</td>\n",
       "      <td>Bronze</td>\n",
       "    </tr>\n",
       "    <tr>\n",
       "      <th>...</th>\n",
       "      <td>...</td>\n",
       "      <td>...</td>\n",
       "      <td>...</td>\n",
       "      <td>...</td>\n",
       "      <td>...</td>\n",
       "      <td>...</td>\n",
       "      <td>...</td>\n",
       "      <td>...</td>\n",
       "      <td>...</td>\n",
       "      <td>...</td>\n",
       "    </tr>\n",
       "    <tr>\n",
       "      <th>7716</th>\n",
       "      <td>London</td>\n",
       "      <td>1948</td>\n",
       "      <td>Gymnastics</td>\n",
       "      <td>Artistic G.</td>\n",
       "      <td>AALTONEN, Paavo Johannes</td>\n",
       "      <td>FIN</td>\n",
       "      <td>Men</td>\n",
       "      <td>pommel horse</td>\n",
       "      <td>M</td>\n",
       "      <td>Gold</td>\n",
       "    </tr>\n",
       "    <tr>\n",
       "      <th>7730</th>\n",
       "      <td>London</td>\n",
       "      <td>1948</td>\n",
       "      <td>Gymnastics</td>\n",
       "      <td>Artistic G.</td>\n",
       "      <td>AALTONEN, Paavo Johannes</td>\n",
       "      <td>FIN</td>\n",
       "      <td>Men</td>\n",
       "      <td>team competition</td>\n",
       "      <td>M</td>\n",
       "      <td>Gold</td>\n",
       "    </tr>\n",
       "    <tr>\n",
       "      <th>2849</th>\n",
       "      <td>Antwerp</td>\n",
       "      <td>1920</td>\n",
       "      <td>Aquatics</td>\n",
       "      <td>Swimming</td>\n",
       "      <td>AALTONEN, Arvo Ossian</td>\n",
       "      <td>FIN</td>\n",
       "      <td>Men</td>\n",
       "      <td>200m breaststroke</td>\n",
       "      <td>M</td>\n",
       "      <td>Bronze</td>\n",
       "    </tr>\n",
       "    <tr>\n",
       "      <th>2852</th>\n",
       "      <td>Antwerp</td>\n",
       "      <td>1920</td>\n",
       "      <td>Aquatics</td>\n",
       "      <td>Swimming</td>\n",
       "      <td>AALTONEN, Arvo Ossian</td>\n",
       "      <td>FIN</td>\n",
       "      <td>Men</td>\n",
       "      <td>400m breaststroke</td>\n",
       "      <td>M</td>\n",
       "      <td>Bronze</td>\n",
       "    </tr>\n",
       "    <tr>\n",
       "      <th>651</th>\n",
       "      <td>Paris</td>\n",
       "      <td>1900</td>\n",
       "      <td>Tug of War</td>\n",
       "      <td>Tug of War</td>\n",
       "      <td>AABYE, Edgar</td>\n",
       "      <td>ZZX</td>\n",
       "      <td>Men</td>\n",
       "      <td>tug of war</td>\n",
       "      <td>M</td>\n",
       "      <td>Gold</td>\n",
       "    </tr>\n",
       "  </tbody>\n",
       "</table>\n",
       "<p>29216 rows × 10 columns</p>\n",
       "</div>"
      ],
      "text/plain": [
       "          City Edition       Sport   Discipline                   Athlete  \\\n",
       "8051  Helsinki    1952    Aquatics     Swimming         ÖSTRAND, Per-Olof   \n",
       "621      Paris    1900    Shooting     Shooting                ÖSTMO, Ole   \n",
       "608      Paris    1900    Shooting     Shooting                ÖSTMO, Ole   \n",
       "603      Paris    1900    Shooting     Shooting                ÖSTMO, Ole   \n",
       "596      Paris    1900    Shooting     Shooting                ÖSTMO, Ole   \n",
       "...        ...     ...         ...          ...                       ...   \n",
       "7716    London    1948  Gymnastics  Artistic G.  AALTONEN, Paavo Johannes   \n",
       "7730    London    1948  Gymnastics  Artistic G.  AALTONEN, Paavo Johannes   \n",
       "2849   Antwerp    1920    Aquatics     Swimming     AALTONEN, Arvo Ossian   \n",
       "2852   Antwerp    1920    Aquatics     Swimming     AALTONEN, Arvo Ossian   \n",
       "651      Paris    1900  Tug of War   Tug of War              AABYE, Edgar   \n",
       "\n",
       "      NOC Gender                          Event Event_gender   Medal  \n",
       "8051  SWE    Men                 400m freestyle            M  Bronze  \n",
       "621   NOR    Men               free rifle, team            M  Silver  \n",
       "608   NOR    Men     army rifle, 300m, standing            M  Silver  \n",
       "603   NOR    Men        army rifle, 300m, prone            M  Bronze  \n",
       "596   NOR    Men  army rifle, 300m, 3 positions            M  Bronze  \n",
       "...   ...    ...                            ...          ...     ...  \n",
       "7716  FIN    Men                   pommel horse            M    Gold  \n",
       "7730  FIN    Men               team competition            M    Gold  \n",
       "2849  FIN    Men              200m breaststroke            M  Bronze  \n",
       "2852  FIN    Men              400m breaststroke            M  Bronze  \n",
       "651   ZZX    Men                     tug of war            M    Gold  \n",
       "\n",
       "[29216 rows x 10 columns]"
      ]
     },
     "execution_count": 90,
     "metadata": {},
     "output_type": "execute_result"
    }
   ],
   "source": [
    "oo.sort_values(\"Athlete\",ascending=False)"
   ]
  },
  {
   "cell_type": "code",
   "execution_count": 91,
   "id": "f1518de3",
   "metadata": {
    "hidden": true
   },
   "outputs": [
    {
     "data": {
      "text/html": [
       "<div>\n",
       "<style scoped>\n",
       "    .dataframe tbody tr th:only-of-type {\n",
       "        vertical-align: middle;\n",
       "    }\n",
       "\n",
       "    .dataframe tbody tr th {\n",
       "        vertical-align: top;\n",
       "    }\n",
       "\n",
       "    .dataframe thead th {\n",
       "        text-align: right;\n",
       "    }\n",
       "</style>\n",
       "<table border=\"1\" class=\"dataframe\">\n",
       "  <thead>\n",
       "    <tr style=\"text-align: right;\">\n",
       "      <th></th>\n",
       "      <th>City</th>\n",
       "      <th>Edition</th>\n",
       "      <th>Sport</th>\n",
       "      <th>Discipline</th>\n",
       "      <th>Athlete</th>\n",
       "      <th>NOC</th>\n",
       "      <th>Gender</th>\n",
       "      <th>Event</th>\n",
       "      <th>Event_gender</th>\n",
       "      <th>Medal</th>\n",
       "    </tr>\n",
       "  </thead>\n",
       "  <tbody>\n",
       "    <tr>\n",
       "      <th>651</th>\n",
       "      <td>Paris</td>\n",
       "      <td>1900</td>\n",
       "      <td>Tug of War</td>\n",
       "      <td>Tug of War</td>\n",
       "      <td>AABYE, Edgar</td>\n",
       "      <td>ZZX</td>\n",
       "      <td>Men</td>\n",
       "      <td>tug of war</td>\n",
       "      <td>M</td>\n",
       "      <td>Gold</td>\n",
       "    </tr>\n",
       "    <tr>\n",
       "      <th>2852</th>\n",
       "      <td>Antwerp</td>\n",
       "      <td>1920</td>\n",
       "      <td>Aquatics</td>\n",
       "      <td>Swimming</td>\n",
       "      <td>AALTONEN, Arvo Ossian</td>\n",
       "      <td>FIN</td>\n",
       "      <td>Men</td>\n",
       "      <td>400m breaststroke</td>\n",
       "      <td>M</td>\n",
       "      <td>Bronze</td>\n",
       "    </tr>\n",
       "    <tr>\n",
       "      <th>2849</th>\n",
       "      <td>Antwerp</td>\n",
       "      <td>1920</td>\n",
       "      <td>Aquatics</td>\n",
       "      <td>Swimming</td>\n",
       "      <td>AALTONEN, Arvo Ossian</td>\n",
       "      <td>FIN</td>\n",
       "      <td>Men</td>\n",
       "      <td>200m breaststroke</td>\n",
       "      <td>M</td>\n",
       "      <td>Bronze</td>\n",
       "    </tr>\n",
       "    <tr>\n",
       "      <th>7773</th>\n",
       "      <td>London</td>\n",
       "      <td>1948</td>\n",
       "      <td>Gymnastics</td>\n",
       "      <td>Artistic G.</td>\n",
       "      <td>AALTONEN, Paavo Johannes</td>\n",
       "      <td>FIN</td>\n",
       "      <td>Men</td>\n",
       "      <td>vault</td>\n",
       "      <td>M</td>\n",
       "      <td>Gold</td>\n",
       "    </tr>\n",
       "    <tr>\n",
       "      <th>7730</th>\n",
       "      <td>London</td>\n",
       "      <td>1948</td>\n",
       "      <td>Gymnastics</td>\n",
       "      <td>Artistic G.</td>\n",
       "      <td>AALTONEN, Paavo Johannes</td>\n",
       "      <td>FIN</td>\n",
       "      <td>Men</td>\n",
       "      <td>team competition</td>\n",
       "      <td>M</td>\n",
       "      <td>Gold</td>\n",
       "    </tr>\n",
       "    <tr>\n",
       "      <th>...</th>\n",
       "      <td>...</td>\n",
       "      <td>...</td>\n",
       "      <td>...</td>\n",
       "      <td>...</td>\n",
       "      <td>...</td>\n",
       "      <td>...</td>\n",
       "      <td>...</td>\n",
       "      <td>...</td>\n",
       "      <td>...</td>\n",
       "      <td>...</td>\n",
       "    </tr>\n",
       "    <tr>\n",
       "      <th>621</th>\n",
       "      <td>Paris</td>\n",
       "      <td>1900</td>\n",
       "      <td>Shooting</td>\n",
       "      <td>Shooting</td>\n",
       "      <td>ÖSTMO, Ole</td>\n",
       "      <td>NOR</td>\n",
       "      <td>Men</td>\n",
       "      <td>free rifle, team</td>\n",
       "      <td>M</td>\n",
       "      <td>Silver</td>\n",
       "    </tr>\n",
       "    <tr>\n",
       "      <th>608</th>\n",
       "      <td>Paris</td>\n",
       "      <td>1900</td>\n",
       "      <td>Shooting</td>\n",
       "      <td>Shooting</td>\n",
       "      <td>ÖSTMO, Ole</td>\n",
       "      <td>NOR</td>\n",
       "      <td>Men</td>\n",
       "      <td>army rifle, 300m, standing</td>\n",
       "      <td>M</td>\n",
       "      <td>Silver</td>\n",
       "    </tr>\n",
       "    <tr>\n",
       "      <th>603</th>\n",
       "      <td>Paris</td>\n",
       "      <td>1900</td>\n",
       "      <td>Shooting</td>\n",
       "      <td>Shooting</td>\n",
       "      <td>ÖSTMO, Ole</td>\n",
       "      <td>NOR</td>\n",
       "      <td>Men</td>\n",
       "      <td>army rifle, 300m, prone</td>\n",
       "      <td>M</td>\n",
       "      <td>Bronze</td>\n",
       "    </tr>\n",
       "    <tr>\n",
       "      <th>596</th>\n",
       "      <td>Paris</td>\n",
       "      <td>1900</td>\n",
       "      <td>Shooting</td>\n",
       "      <td>Shooting</td>\n",
       "      <td>ÖSTMO, Ole</td>\n",
       "      <td>NOR</td>\n",
       "      <td>Men</td>\n",
       "      <td>army rifle, 300m, 3 positions</td>\n",
       "      <td>M</td>\n",
       "      <td>Bronze</td>\n",
       "    </tr>\n",
       "    <tr>\n",
       "      <th>8051</th>\n",
       "      <td>Helsinki</td>\n",
       "      <td>1952</td>\n",
       "      <td>Aquatics</td>\n",
       "      <td>Swimming</td>\n",
       "      <td>ÖSTRAND, Per-Olof</td>\n",
       "      <td>SWE</td>\n",
       "      <td>Men</td>\n",
       "      <td>400m freestyle</td>\n",
       "      <td>M</td>\n",
       "      <td>Bronze</td>\n",
       "    </tr>\n",
       "  </tbody>\n",
       "</table>\n",
       "<p>29216 rows × 10 columns</p>\n",
       "</div>"
      ],
      "text/plain": [
       "          City Edition       Sport   Discipline                   Athlete  \\\n",
       "651      Paris    1900  Tug of War   Tug of War              AABYE, Edgar   \n",
       "2852   Antwerp    1920    Aquatics     Swimming     AALTONEN, Arvo Ossian   \n",
       "2849   Antwerp    1920    Aquatics     Swimming     AALTONEN, Arvo Ossian   \n",
       "7773    London    1948  Gymnastics  Artistic G.  AALTONEN, Paavo Johannes   \n",
       "7730    London    1948  Gymnastics  Artistic G.  AALTONEN, Paavo Johannes   \n",
       "...        ...     ...         ...          ...                       ...   \n",
       "621      Paris    1900    Shooting     Shooting                ÖSTMO, Ole   \n",
       "608      Paris    1900    Shooting     Shooting                ÖSTMO, Ole   \n",
       "603      Paris    1900    Shooting     Shooting                ÖSTMO, Ole   \n",
       "596      Paris    1900    Shooting     Shooting                ÖSTMO, Ole   \n",
       "8051  Helsinki    1952    Aquatics     Swimming         ÖSTRAND, Per-Olof   \n",
       "\n",
       "      NOC Gender                          Event Event_gender   Medal  \n",
       "651   ZZX    Men                     tug of war            M    Gold  \n",
       "2852  FIN    Men              400m breaststroke            M  Bronze  \n",
       "2849  FIN    Men              200m breaststroke            M  Bronze  \n",
       "7773  FIN    Men                          vault            M    Gold  \n",
       "7730  FIN    Men               team competition            M    Gold  \n",
       "...   ...    ...                            ...          ...     ...  \n",
       "621   NOR    Men               free rifle, team            M  Silver  \n",
       "608   NOR    Men     army rifle, 300m, standing            M  Silver  \n",
       "603   NOR    Men        army rifle, 300m, prone            M  Bronze  \n",
       "596   NOR    Men  army rifle, 300m, 3 positions            M  Bronze  \n",
       "8051  SWE    Men                 400m freestyle            M  Bronze  \n",
       "\n",
       "[29216 rows x 10 columns]"
      ]
     },
     "execution_count": 91,
     "metadata": {},
     "output_type": "execute_result"
    }
   ],
   "source": [
    "oo.sort_values([\"Athlete\",\"Event\"],ascending=[True,False])"
   ]
  },
  {
   "cell_type": "markdown",
   "id": "452594ee",
   "metadata": {},
   "source": [
    "# Add/remove/insert cols and rows"
   ]
  },
  {
   "cell_type": "markdown",
   "id": "8abfcff8",
   "metadata": {},
   "source": [
    "<h2 id=\"adding-Rows--&gt;-append,-concat,-loc,-iloc\" data-toc-modified-id=\"adding-Rows--&gt;-append,-concat,-loc,-iloc-7.1\"><a id=\"adding-Rows--&gt;-append,-concat,-loc,-iloc-7.1\" class=\"toc-mod-link\"></a><span class=\"toc-item-num\">7.1&nbsp;&nbsp;</span>adding Rows -&gt; append, concat, loc, iloc</h2>\n",
    "<p>this link: https://www.stackvidhya.com/add-row-to-dataframe</p>"
   ]
  },
  {
   "cell_type": "markdown",
   "id": "02855012",
   "metadata": {},
   "source": [
    "<h2>Add columns</h2>"
   ]
  },
  {
   "cell_type": "code",
   "execution_count": 45,
   "id": "e9416c60",
   "metadata": {},
   "outputs": [
    {
     "data": {
      "text/html": [
       "<div>\n",
       "<style scoped>\n",
       "    .dataframe tbody tr th:only-of-type {\n",
       "        vertical-align: middle;\n",
       "    }\n",
       "\n",
       "    .dataframe tbody tr th {\n",
       "        vertical-align: top;\n",
       "    }\n",
       "\n",
       "    .dataframe thead th {\n",
       "        text-align: right;\n",
       "    }\n",
       "</style>\n",
       "<table border=\"1\" class=\"dataframe\">\n",
       "  <thead>\n",
       "    <tr style=\"text-align: right;\">\n",
       "      <th></th>\n",
       "      <th>country</th>\n",
       "      <th>Capital</th>\n",
       "      <th>Area</th>\n",
       "      <th>population</th>\n",
       "      <th>NewColumn</th>\n",
       "    </tr>\n",
       "  </thead>\n",
       "  <tbody>\n",
       "    <tr>\n",
       "      <th>0</th>\n",
       "      <td>Brazil</td>\n",
       "      <td>Brasilia</td>\n",
       "      <td>8.516</td>\n",
       "      <td>200.40</td>\n",
       "      <td>10</td>\n",
       "    </tr>\n",
       "    <tr>\n",
       "      <th>1</th>\n",
       "      <td>Russia</td>\n",
       "      <td>Moscow</td>\n",
       "      <td>17.100</td>\n",
       "      <td>143.50</td>\n",
       "      <td>10</td>\n",
       "    </tr>\n",
       "    <tr>\n",
       "      <th>2</th>\n",
       "      <td>India</td>\n",
       "      <td>New Delhi</td>\n",
       "      <td>3.286</td>\n",
       "      <td>1252.00</td>\n",
       "      <td>10</td>\n",
       "    </tr>\n",
       "    <tr>\n",
       "      <th>3</th>\n",
       "      <td>China</td>\n",
       "      <td>beijing</td>\n",
       "      <td>9.597</td>\n",
       "      <td>1357.00</td>\n",
       "      <td>10</td>\n",
       "    </tr>\n",
       "    <tr>\n",
       "      <th>4</th>\n",
       "      <td>South Africa</td>\n",
       "      <td>Pretoria</td>\n",
       "      <td>1.221</td>\n",
       "      <td>52.98</td>\n",
       "      <td>10</td>\n",
       "    </tr>\n",
       "  </tbody>\n",
       "</table>\n",
       "</div>"
      ],
      "text/plain": [
       "        country    Capital    Area  population  NewColumn\n",
       "0        Brazil   Brasilia   8.516      200.40         10\n",
       "1        Russia     Moscow  17.100      143.50         10\n",
       "2         India  New Delhi   3.286     1252.00         10\n",
       "3         China    beijing   9.597     1357.00         10\n",
       "4  South Africa   Pretoria   1.221       52.98         10"
      ]
     },
     "execution_count": 45,
     "metadata": {},
     "output_type": "execute_result"
    }
   ],
   "source": [
    "df['NewColumn']=10\n",
    "df"
   ]
  },
  {
   "cell_type": "code",
   "execution_count": 46,
   "id": "c2ff355c",
   "metadata": {},
   "outputs": [
    {
     "data": {
      "text/html": [
       "<div>\n",
       "<style scoped>\n",
       "    .dataframe tbody tr th:only-of-type {\n",
       "        vertical-align: middle;\n",
       "    }\n",
       "\n",
       "    .dataframe tbody tr th {\n",
       "        vertical-align: top;\n",
       "    }\n",
       "\n",
       "    .dataframe thead th {\n",
       "        text-align: right;\n",
       "    }\n",
       "</style>\n",
       "<table border=\"1\" class=\"dataframe\">\n",
       "  <thead>\n",
       "    <tr style=\"text-align: right;\">\n",
       "      <th></th>\n",
       "      <th>country</th>\n",
       "      <th>Capital</th>\n",
       "      <th>Area</th>\n",
       "      <th>population</th>\n",
       "      <th>NewColumn</th>\n",
       "    </tr>\n",
       "  </thead>\n",
       "  <tbody>\n",
       "    <tr>\n",
       "      <th>0</th>\n",
       "      <td>Brazil</td>\n",
       "      <td>Brasilia</td>\n",
       "      <td>8.516</td>\n",
       "      <td>200.40</td>\n",
       "      <td>10</td>\n",
       "    </tr>\n",
       "    <tr>\n",
       "      <th>1</th>\n",
       "      <td>Russia</td>\n",
       "      <td>Moscow</td>\n",
       "      <td>17.100</td>\n",
       "      <td>143.50</td>\n",
       "      <td>10</td>\n",
       "    </tr>\n",
       "    <tr>\n",
       "      <th>2</th>\n",
       "      <td>India</td>\n",
       "      <td>New Delhi</td>\n",
       "      <td>3.286</td>\n",
       "      <td>1252.00</td>\n",
       "      <td>10</td>\n",
       "    </tr>\n",
       "    <tr>\n",
       "      <th>3</th>\n",
       "      <td>China</td>\n",
       "      <td>beijing</td>\n",
       "      <td>9.597</td>\n",
       "      <td>1357.00</td>\n",
       "      <td>10</td>\n",
       "    </tr>\n",
       "    <tr>\n",
       "      <th>4</th>\n",
       "      <td>South Africa</td>\n",
       "      <td>Pretoria</td>\n",
       "      <td>1.221</td>\n",
       "      <td>52.98</td>\n",
       "      <td>10</td>\n",
       "    </tr>\n",
       "  </tbody>\n",
       "</table>\n",
       "</div>"
      ],
      "text/plain": [
       "        country    Capital    Area  population  NewColumn\n",
       "0        Brazil   Brasilia   8.516      200.40         10\n",
       "1        Russia     Moscow  17.100      143.50         10\n",
       "2         India  New Delhi   3.286     1252.00         10\n",
       "3         China    beijing   9.597     1357.00         10\n",
       "4  South Africa   Pretoria   1.221       52.98         10"
      ]
     },
     "execution_count": 46,
     "metadata": {},
     "output_type": "execute_result"
    }
   ],
   "source": [
    "df.newColumn2=10\n",
    "df"
   ]
  },
  {
   "cell_type": "markdown",
   "id": "bf289892",
   "metadata": {},
   "source": [
    "<h3><span style=\"color: #e03e2d;\">Attention!!</span> df.newColumn != df['newColumn']</h3>"
   ]
  },
  {
   "cell_type": "markdown",
   "id": "06952c16",
   "metadata": {},
   "source": [
    "<h2>Remove columns</h2>"
   ]
  },
  {
   "cell_type": "code",
   "execution_count": 244,
   "id": "1dced96f",
   "metadata": {},
   "outputs": [
    {
     "data": {
      "text/html": [
       "<div>\n",
       "<style scoped>\n",
       "    .dataframe tbody tr th:only-of-type {\n",
       "        vertical-align: middle;\n",
       "    }\n",
       "\n",
       "    .dataframe tbody tr th {\n",
       "        vertical-align: top;\n",
       "    }\n",
       "\n",
       "    .dataframe thead th {\n",
       "        text-align: right;\n",
       "    }\n",
       "</style>\n",
       "<table border=\"1\" class=\"dataframe\">\n",
       "  <thead>\n",
       "    <tr style=\"text-align: right;\">\n",
       "      <th></th>\n",
       "      <th>Capital</th>\n",
       "      <th>Area</th>\n",
       "      <th>population</th>\n",
       "    </tr>\n",
       "  </thead>\n",
       "  <tbody>\n",
       "    <tr>\n",
       "      <th>0</th>\n",
       "      <td>Brasilia</td>\n",
       "      <td>8.516</td>\n",
       "      <td>200.40</td>\n",
       "    </tr>\n",
       "    <tr>\n",
       "      <th>1</th>\n",
       "      <td>Moscow</td>\n",
       "      <td>17.100</td>\n",
       "      <td>143.50</td>\n",
       "    </tr>\n",
       "    <tr>\n",
       "      <th>2</th>\n",
       "      <td>New Delhi</td>\n",
       "      <td>3.286</td>\n",
       "      <td>1252.00</td>\n",
       "    </tr>\n",
       "    <tr>\n",
       "      <th>3</th>\n",
       "      <td>beijing</td>\n",
       "      <td>9.597</td>\n",
       "      <td>1357.00</td>\n",
       "    </tr>\n",
       "    <tr>\n",
       "      <th>4</th>\n",
       "      <td>Pretoria</td>\n",
       "      <td>1.221</td>\n",
       "      <td>52.98</td>\n",
       "    </tr>\n",
       "  </tbody>\n",
       "</table>\n",
       "</div>"
      ],
      "text/plain": [
       "     Capital    Area  population\n",
       "0   Brasilia   8.516      200.40\n",
       "1     Moscow  17.100      143.50\n",
       "2  New Delhi   3.286     1252.00\n",
       "3    beijing   9.597     1357.00\n",
       "4   Pretoria   1.221       52.98"
      ]
     },
     "execution_count": 244,
     "metadata": {},
     "output_type": "execute_result"
    }
   ],
   "source": [
    "df.drop(columns=['country']) "
   ]
  },
  {
   "cell_type": "code",
   "execution_count": 245,
   "id": "9972fba1",
   "metadata": {},
   "outputs": [
    {
     "data": {
      "text/html": [
       "<div>\n",
       "<style scoped>\n",
       "    .dataframe tbody tr th:only-of-type {\n",
       "        vertical-align: middle;\n",
       "    }\n",
       "\n",
       "    .dataframe tbody tr th {\n",
       "        vertical-align: top;\n",
       "    }\n",
       "\n",
       "    .dataframe thead th {\n",
       "        text-align: right;\n",
       "    }\n",
       "</style>\n",
       "<table border=\"1\" class=\"dataframe\">\n",
       "  <thead>\n",
       "    <tr style=\"text-align: right;\">\n",
       "      <th></th>\n",
       "      <th>Capital</th>\n",
       "      <th>Area</th>\n",
       "      <th>population</th>\n",
       "    </tr>\n",
       "  </thead>\n",
       "  <tbody>\n",
       "    <tr>\n",
       "      <th>0</th>\n",
       "      <td>Brasilia</td>\n",
       "      <td>8.516</td>\n",
       "      <td>200.40</td>\n",
       "    </tr>\n",
       "    <tr>\n",
       "      <th>1</th>\n",
       "      <td>Moscow</td>\n",
       "      <td>17.100</td>\n",
       "      <td>143.50</td>\n",
       "    </tr>\n",
       "    <tr>\n",
       "      <th>2</th>\n",
       "      <td>New Delhi</td>\n",
       "      <td>3.286</td>\n",
       "      <td>1252.00</td>\n",
       "    </tr>\n",
       "    <tr>\n",
       "      <th>3</th>\n",
       "      <td>beijing</td>\n",
       "      <td>9.597</td>\n",
       "      <td>1357.00</td>\n",
       "    </tr>\n",
       "    <tr>\n",
       "      <th>4</th>\n",
       "      <td>Pretoria</td>\n",
       "      <td>1.221</td>\n",
       "      <td>52.98</td>\n",
       "    </tr>\n",
       "  </tbody>\n",
       "</table>\n",
       "</div>"
      ],
      "text/plain": [
       "     Capital    Area  population\n",
       "0   Brasilia   8.516      200.40\n",
       "1     Moscow  17.100      143.50\n",
       "2  New Delhi   3.286     1252.00\n",
       "3    beijing   9.597     1357.00\n",
       "4   Pretoria   1.221       52.98"
      ]
     },
     "execution_count": 245,
     "metadata": {},
     "output_type": "execute_result"
    }
   ],
   "source": [
    "df.drop(['country'],axis=1)"
   ]
  },
  {
   "cell_type": "markdown",
   "id": "b93cc1f0",
   "metadata": {},
   "source": [
    "<h2>insert column</h2>"
   ]
  },
  {
   "cell_type": "code",
   "execution_count": 250,
   "id": "c879ffb0",
   "metadata": {},
   "outputs": [
    {
     "data": {
      "text/html": [
       "<div>\n",
       "<style scoped>\n",
       "    .dataframe tbody tr th:only-of-type {\n",
       "        vertical-align: middle;\n",
       "    }\n",
       "\n",
       "    .dataframe tbody tr th {\n",
       "        vertical-align: top;\n",
       "    }\n",
       "\n",
       "    .dataframe thead th {\n",
       "        text-align: right;\n",
       "    }\n",
       "</style>\n",
       "<table border=\"1\" class=\"dataframe\">\n",
       "  <thead>\n",
       "    <tr style=\"text-align: right;\">\n",
       "      <th></th>\n",
       "      <th>country</th>\n",
       "      <th>Capital</th>\n",
       "      <th>rank</th>\n",
       "      <th>rank</th>\n",
       "      <th>Area</th>\n",
       "      <th>population</th>\n",
       "    </tr>\n",
       "  </thead>\n",
       "  <tbody>\n",
       "    <tr>\n",
       "      <th>0</th>\n",
       "      <td>Brazil</td>\n",
       "      <td>Brasilia</td>\n",
       "      <td>1</td>\n",
       "      <td>1</td>\n",
       "      <td>8.516</td>\n",
       "      <td>200.40</td>\n",
       "    </tr>\n",
       "    <tr>\n",
       "      <th>1</th>\n",
       "      <td>Russia</td>\n",
       "      <td>Moscow</td>\n",
       "      <td>3</td>\n",
       "      <td>3</td>\n",
       "      <td>17.100</td>\n",
       "      <td>143.50</td>\n",
       "    </tr>\n",
       "    <tr>\n",
       "      <th>2</th>\n",
       "      <td>India</td>\n",
       "      <td>New Delhi</td>\n",
       "      <td>5</td>\n",
       "      <td>5</td>\n",
       "      <td>3.286</td>\n",
       "      <td>1252.00</td>\n",
       "    </tr>\n",
       "    <tr>\n",
       "      <th>3</th>\n",
       "      <td>China</td>\n",
       "      <td>beijing</td>\n",
       "      <td>3</td>\n",
       "      <td>3</td>\n",
       "      <td>9.597</td>\n",
       "      <td>1357.00</td>\n",
       "    </tr>\n",
       "    <tr>\n",
       "      <th>4</th>\n",
       "      <td>South Africa</td>\n",
       "      <td>Pretoria</td>\n",
       "      <td>1</td>\n",
       "      <td>1</td>\n",
       "      <td>1.221</td>\n",
       "      <td>52.98</td>\n",
       "    </tr>\n",
       "  </tbody>\n",
       "</table>\n",
       "</div>"
      ],
      "text/plain": [
       "        country    Capital  rank  rank    Area  population\n",
       "0        Brazil   Brasilia     1     1   8.516      200.40\n",
       "1        Russia     Moscow     3     3  17.100      143.50\n",
       "2         India  New Delhi     5     5   3.286     1252.00\n",
       "3         China    beijing     3     3   9.597     1357.00\n",
       "4  South Africa   Pretoria     1     1   1.221       52.98"
      ]
     },
     "execution_count": 250,
     "metadata": {},
     "output_type": "execute_result"
    }
   ],
   "source": [
    "df.insert(2,'rank',[1,3,5,3,1],allow_duplicates=True)\n",
    "df"
   ]
  },
  {
   "cell_type": "markdown",
   "id": "14df52b0",
   "metadata": {
    "heading_collapsed": true
   },
   "source": [
    "# Summerizing continues values"
   ]
  },
  {
   "cell_type": "code",
   "execution_count": null,
   "id": "400ffdaa",
   "metadata": {
    "hidden": true
   },
   "outputs": [],
   "source": []
  },
  {
   "cell_type": "code",
   "execution_count": null,
   "id": "80a71108",
   "metadata": {
    "hidden": true
   },
   "outputs": [],
   "source": []
  },
  {
   "cell_type": "code",
   "execution_count": null,
   "id": "5884c131",
   "metadata": {
    "hidden": true
   },
   "outputs": [],
   "source": []
  },
  {
   "cell_type": "code",
   "execution_count": null,
   "id": "ca3e75a7",
   "metadata": {
    "hidden": true
   },
   "outputs": [],
   "source": []
  },
  {
   "cell_type": "code",
   "execution_count": null,
   "id": "486a12b7",
   "metadata": {
    "hidden": true
   },
   "outputs": [],
   "source": []
  },
  {
   "cell_type": "markdown",
   "id": "5b261d6f",
   "metadata": {
    "heading_collapsed": true
   },
   "source": [
    "# Summerizing categorical Data"
   ]
  },
  {
   "cell_type": "code",
   "execution_count": null,
   "id": "0b2c2e18",
   "metadata": {
    "hidden": true
   },
   "outputs": [],
   "source": []
  },
  {
   "cell_type": "code",
   "execution_count": null,
   "id": "6a5d7be9",
   "metadata": {
    "hidden": true
   },
   "outputs": [],
   "source": []
  },
  {
   "cell_type": "code",
   "execution_count": null,
   "id": "12415a14",
   "metadata": {
    "hidden": true
   },
   "outputs": [],
   "source": []
  },
  {
   "cell_type": "code",
   "execution_count": null,
   "id": "c6e6a4eb",
   "metadata": {
    "hidden": true
   },
   "outputs": [],
   "source": []
  },
  {
   "cell_type": "markdown",
   "id": "426602b5",
   "metadata": {
    "heading_collapsed": true
   },
   "source": [
    "# Data grouping and Pivot table"
   ]
  },
  {
   "cell_type": "code",
   "execution_count": null,
   "id": "df5e6eba",
   "metadata": {
    "hidden": true
   },
   "outputs": [],
   "source": []
  },
  {
   "cell_type": "code",
   "execution_count": null,
   "id": "6a14bdc6",
   "metadata": {
    "hidden": true
   },
   "outputs": [],
   "source": []
  },
  {
   "cell_type": "code",
   "execution_count": null,
   "id": "f5b5557e",
   "metadata": {
    "hidden": true
   },
   "outputs": [],
   "source": []
  },
  {
   "cell_type": "code",
   "execution_count": null,
   "id": "c39e99a0",
   "metadata": {
    "hidden": true
   },
   "outputs": [],
   "source": []
  },
  {
   "cell_type": "markdown",
   "id": "b227d72b",
   "metadata": {},
   "source": [
    "# Descretizing "
   ]
  },
  {
   "cell_type": "code",
   "execution_count": null,
   "id": "c4a1650f",
   "metadata": {},
   "outputs": [],
   "source": [
    "df.cut"
   ]
  },
  {
   "cell_type": "code",
   "execution_count": null,
   "id": "a99d4559",
   "metadata": {},
   "outputs": [],
   "source": []
  },
  {
   "cell_type": "markdown",
   "id": "ad473bf3",
   "metadata": {},
   "source": [
    "# Merge,Append, Split dataframe"
   ]
  },
  {
   "cell_type": "code",
   "execution_count": null,
   "id": "db49692c",
   "metadata": {},
   "outputs": [],
   "source": []
  },
  {
   "cell_type": "markdown",
   "id": "1d17fd0b",
   "metadata": {},
   "source": [
    "<h1 id=\"Searching-within-the-dataset\" data-toc-modified-id=\"Searching-within-the-dataset-13\"><a id=\"Searching-within-the-dataset-13\" class=\"toc-mod-link\"></a><span class=\"toc-item-num\">13&nbsp;&nbsp;</span>Searching within the dataset -&gt; isin, between</h1>"
   ]
  },
  {
   "cell_type": "code",
   "execution_count": 22,
   "id": "dcf0ab44",
   "metadata": {},
   "outputs": [
    {
     "data": {
      "text/plain": [
       "151"
      ]
     },
     "execution_count": 22,
     "metadata": {},
     "output_type": "execute_result"
    }
   ],
   "source": [
    "oo[oo.Edition.isin([1896])][\"Edition\"].count()"
   ]
  },
  {
   "cell_type": "code",
   "execution_count": 23,
   "id": "c79eba2d",
   "metadata": {},
   "outputs": [
    {
     "data": {
      "text/plain": [
       "663"
      ]
     },
     "execution_count": 23,
     "metadata": {},
     "output_type": "execute_result"
    }
   ],
   "source": [
    "oo[oo.Edition.isin([1896,1900])][\"Edition\"].count()"
   ]
  },
  {
   "cell_type": "code",
   "execution_count": 25,
   "id": "57a7df6d",
   "metadata": {},
   "outputs": [
    {
     "data": {
      "text/plain": [
       "1133"
      ]
     },
     "execution_count": 25,
     "metadata": {},
     "output_type": "execute_result"
    }
   ],
   "source": [
    "oo[oo.Edition.between(1896,1904)][\"Edition\"].count()"
   ]
  },
  {
   "cell_type": "code",
   "execution_count": 26,
   "id": "5272b932",
   "metadata": {},
   "outputs": [
    {
     "data": {
      "text/plain": [
       "1133"
      ]
     },
     "execution_count": 26,
     "metadata": {},
     "output_type": "execute_result"
    }
   ],
   "source": [
    "oo[oo.Edition.isin([1896,1900,1904])][\"Edition\"].count()"
   ]
  },
  {
   "cell_type": "markdown",
   "id": "ba05508a",
   "metadata": {},
   "source": [
    "<h1 id=\"Data-Encoding\" data-toc-modified-id=\"Data-Encoding-14\"><a id=\"Data-Encoding-14\" class=\"toc-mod-link\"></a><span class=\"toc-item-num\">14&nbsp;&nbsp;</span>Data Encoding</h1>\n",
    "<h2 id=\"native\" data-toc-modified-id=\"native-14.1\"><a id=\"native-14.1\" class=\"toc-mod-link\"></a><span class=\"toc-item-num\">14.1&nbsp;&nbsp;</span>native -&gt; based on adding new column</h2>"
   ]
  },
  {
   "cell_type": "code",
   "execution_count": 232,
   "id": "66e6258d",
   "metadata": {},
   "outputs": [
    {
     "data": {
      "text/html": [
       "<div>\n",
       "<style scoped>\n",
       "    .dataframe tbody tr th:only-of-type {\n",
       "        vertical-align: middle;\n",
       "    }\n",
       "\n",
       "    .dataframe tbody tr th {\n",
       "        vertical-align: top;\n",
       "    }\n",
       "\n",
       "    .dataframe thead th {\n",
       "        text-align: right;\n",
       "    }\n",
       "</style>\n",
       "<table border=\"1\" class=\"dataframe\">\n",
       "  <thead>\n",
       "    <tr style=\"text-align: right;\">\n",
       "      <th></th>\n",
       "      <th>country</th>\n",
       "      <th>Capital</th>\n",
       "      <th>Area</th>\n",
       "      <th>population</th>\n",
       "      <th>size</th>\n",
       "    </tr>\n",
       "  </thead>\n",
       "  <tbody>\n",
       "    <tr>\n",
       "      <th>0</th>\n",
       "      <td>Brazil</td>\n",
       "      <td>Brasilia</td>\n",
       "      <td>8.516</td>\n",
       "      <td>200.40</td>\n",
       "      <td>Medium</td>\n",
       "    </tr>\n",
       "    <tr>\n",
       "      <th>1</th>\n",
       "      <td>Russia</td>\n",
       "      <td>Moscow</td>\n",
       "      <td>17.100</td>\n",
       "      <td>143.50</td>\n",
       "      <td>Large</td>\n",
       "    </tr>\n",
       "    <tr>\n",
       "      <th>2</th>\n",
       "      <td>India</td>\n",
       "      <td>New Delhi</td>\n",
       "      <td>3.286</td>\n",
       "      <td>1252.00</td>\n",
       "      <td>Small</td>\n",
       "    </tr>\n",
       "    <tr>\n",
       "      <th>3</th>\n",
       "      <td>China</td>\n",
       "      <td>beijing</td>\n",
       "      <td>9.597</td>\n",
       "      <td>1357.00</td>\n",
       "      <td>Medium</td>\n",
       "    </tr>\n",
       "    <tr>\n",
       "      <th>4</th>\n",
       "      <td>South Africa</td>\n",
       "      <td>Pretoria</td>\n",
       "      <td>1.221</td>\n",
       "      <td>52.98</td>\n",
       "      <td>Small</td>\n",
       "    </tr>\n",
       "  </tbody>\n",
       "</table>\n",
       "</div>"
      ],
      "text/plain": [
       "        country    Capital    Area  population    size\n",
       "0        Brazil   Brasilia   8.516      200.40  Medium\n",
       "1        Russia     Moscow  17.100      143.50   Large\n",
       "2         India  New Delhi   3.286     1252.00   Small\n",
       "3         China    beijing   9.597     1357.00  Medium\n",
       "4  South Africa   Pretoria   1.221       52.98   Small"
      ]
     },
     "execution_count": 232,
     "metadata": {},
     "output_type": "execute_result"
    }
   ],
   "source": [
    "import numpy as np\n",
    "df2=df.copy()\n",
    "\n",
    "df2['size']=pd.Series(dtype='str')\n",
    "def fillvalue():\n",
    "    for item in df2.index:\n",
    "        if df2.iloc[item,2] < 8 :\n",
    "            df2.iloc[item,4]='Small'\n",
    "        elif df2.iloc[item,2] >= 8 and df2.iloc[item,2] < 16:\n",
    "            df2.iloc[item,4]='Medium'\n",
    "        else:\n",
    "            df2.iloc[item,4]='Large'\n",
    "            \n",
    "fillvalue()\n",
    "df2"
   ]
  },
  {
   "cell_type": "code",
   "execution_count": 243,
   "id": "77dcc035",
   "metadata": {},
   "outputs": [
    {
     "data": {
      "text/html": [
       "<div>\n",
       "<style scoped>\n",
       "    .dataframe tbody tr th:only-of-type {\n",
       "        vertical-align: middle;\n",
       "    }\n",
       "\n",
       "    .dataframe tbody tr th {\n",
       "        vertical-align: top;\n",
       "    }\n",
       "\n",
       "    .dataframe thead th {\n",
       "        text-align: right;\n",
       "    }\n",
       "</style>\n",
       "<table border=\"1\" class=\"dataframe\">\n",
       "  <thead>\n",
       "    <tr style=\"text-align: right;\">\n",
       "      <th></th>\n",
       "      <th>country</th>\n",
       "      <th>Capital</th>\n",
       "      <th>Area</th>\n",
       "      <th>population</th>\n",
       "      <th>size</th>\n",
       "      <th>poplevel</th>\n",
       "      <th>sizecode</th>\n",
       "      <th>sizecode2</th>\n",
       "      <th>AreaSqure</th>\n",
       "    </tr>\n",
       "  </thead>\n",
       "  <tbody>\n",
       "    <tr>\n",
       "      <th>0</th>\n",
       "      <td>BRAZIL</td>\n",
       "      <td>BRASILIA</td>\n",
       "      <td>8.516</td>\n",
       "      <td>200.40</td>\n",
       "      <td>Medium</td>\n",
       "      <td>mid</td>\n",
       "      <td>1</td>\n",
       "      <td>1</td>\n",
       "      <td>72.522256</td>\n",
       "    </tr>\n",
       "    <tr>\n",
       "      <th>1</th>\n",
       "      <td>RUSSIA</td>\n",
       "      <td>MOSCOW</td>\n",
       "      <td>17.100</td>\n",
       "      <td>143.50</td>\n",
       "      <td>Large</td>\n",
       "      <td>low</td>\n",
       "      <td>2</td>\n",
       "      <td>2</td>\n",
       "      <td>292.410000</td>\n",
       "    </tr>\n",
       "    <tr>\n",
       "      <th>2</th>\n",
       "      <td>INDIA</td>\n",
       "      <td>NEW DELHI</td>\n",
       "      <td>3.286</td>\n",
       "      <td>1252.00</td>\n",
       "      <td>Small</td>\n",
       "      <td>high</td>\n",
       "      <td>0</td>\n",
       "      <td>0</td>\n",
       "      <td>10.797796</td>\n",
       "    </tr>\n",
       "    <tr>\n",
       "      <th>3</th>\n",
       "      <td>CHINA</td>\n",
       "      <td>BEIJING</td>\n",
       "      <td>9.597</td>\n",
       "      <td>1357.00</td>\n",
       "      <td>Medium</td>\n",
       "      <td>high</td>\n",
       "      <td>1</td>\n",
       "      <td>1</td>\n",
       "      <td>92.102409</td>\n",
       "    </tr>\n",
       "    <tr>\n",
       "      <th>4</th>\n",
       "      <td>SOUTH AFRICA</td>\n",
       "      <td>PRETORIA</td>\n",
       "      <td>1.221</td>\n",
       "      <td>52.98</td>\n",
       "      <td>Small</td>\n",
       "      <td>low</td>\n",
       "      <td>0</td>\n",
       "      <td>0</td>\n",
       "      <td>1.490841</td>\n",
       "    </tr>\n",
       "  </tbody>\n",
       "</table>\n",
       "</div>"
      ],
      "text/plain": [
       "        country    Capital    Area  population    size poplevel sizecode  \\\n",
       "0        BRAZIL   BRASILIA   8.516      200.40  Medium      mid        1   \n",
       "1        RUSSIA     MOSCOW  17.100      143.50   Large      low        2   \n",
       "2         INDIA  NEW DELHI   3.286     1252.00   Small     high        0   \n",
       "3         CHINA    BEIJING   9.597     1357.00  Medium     high        1   \n",
       "4  SOUTH AFRICA   PRETORIA   1.221       52.98   Small      low        0   \n",
       "\n",
       "   sizecode2   AreaSqure  \n",
       "0          1   72.522256  \n",
       "1          2  292.410000  \n",
       "2          0   10.797796  \n",
       "3          1   92.102409  \n",
       "4          0    1.490841  "
      ]
     },
     "execution_count": 243,
     "metadata": {},
     "output_type": "execute_result"
    }
   ],
   "source": [
    "df2['poplevel']='low'\n",
    "df2.loc[df.population<200,'poplevel']='low'\n",
    "df2.loc[(df.population>=200) & (df.population<1000),'poplevel' ]='mid'\n",
    "df2.loc[df.population>=1000,'poplevel']='high'\n",
    "df2\n"
   ]
  },
  {
   "cell_type": "code",
   "execution_count": 234,
   "id": "1b3acc93",
   "metadata": {},
   "outputs": [
    {
     "data": {
      "text/plain": [
       "country        object\n",
       "Capital        object\n",
       "Area          float64\n",
       "population    float64\n",
       "size           object\n",
       "poplevel       object\n",
       "dtype: object"
      ]
     },
     "execution_count": 234,
     "metadata": {},
     "output_type": "execute_result"
    }
   ],
   "source": [
    "df2.dtypes"
   ]
  },
  {
   "cell_type": "markdown",
   "id": "ad962da0",
   "metadata": {},
   "source": [
    "<h2>map</h2>"
   ]
  },
  {
   "cell_type": "code",
   "execution_count": 235,
   "id": "e07f428a",
   "metadata": {},
   "outputs": [
    {
     "data": {
      "text/html": [
       "<div>\n",
       "<style scoped>\n",
       "    .dataframe tbody tr th:only-of-type {\n",
       "        vertical-align: middle;\n",
       "    }\n",
       "\n",
       "    .dataframe tbody tr th {\n",
       "        vertical-align: top;\n",
       "    }\n",
       "\n",
       "    .dataframe thead th {\n",
       "        text-align: right;\n",
       "    }\n",
       "</style>\n",
       "<table border=\"1\" class=\"dataframe\">\n",
       "  <thead>\n",
       "    <tr style=\"text-align: right;\">\n",
       "      <th></th>\n",
       "      <th>country</th>\n",
       "      <th>Capital</th>\n",
       "      <th>Area</th>\n",
       "      <th>population</th>\n",
       "      <th>size</th>\n",
       "      <th>poplevel</th>\n",
       "      <th>sizecode</th>\n",
       "    </tr>\n",
       "  </thead>\n",
       "  <tbody>\n",
       "    <tr>\n",
       "      <th>0</th>\n",
       "      <td>Brazil</td>\n",
       "      <td>Brasilia</td>\n",
       "      <td>8.516</td>\n",
       "      <td>200.40</td>\n",
       "      <td>Medium</td>\n",
       "      <td>mid</td>\n",
       "      <td>1</td>\n",
       "    </tr>\n",
       "    <tr>\n",
       "      <th>1</th>\n",
       "      <td>Russia</td>\n",
       "      <td>Moscow</td>\n",
       "      <td>17.100</td>\n",
       "      <td>143.50</td>\n",
       "      <td>Large</td>\n",
       "      <td>low</td>\n",
       "      <td>2</td>\n",
       "    </tr>\n",
       "    <tr>\n",
       "      <th>2</th>\n",
       "      <td>India</td>\n",
       "      <td>New Delhi</td>\n",
       "      <td>3.286</td>\n",
       "      <td>1252.00</td>\n",
       "      <td>Small</td>\n",
       "      <td>high</td>\n",
       "      <td>0</td>\n",
       "    </tr>\n",
       "    <tr>\n",
       "      <th>3</th>\n",
       "      <td>China</td>\n",
       "      <td>beijing</td>\n",
       "      <td>9.597</td>\n",
       "      <td>1357.00</td>\n",
       "      <td>Medium</td>\n",
       "      <td>high</td>\n",
       "      <td>1</td>\n",
       "    </tr>\n",
       "    <tr>\n",
       "      <th>4</th>\n",
       "      <td>South Africa</td>\n",
       "      <td>Pretoria</td>\n",
       "      <td>1.221</td>\n",
       "      <td>52.98</td>\n",
       "      <td>Small</td>\n",
       "      <td>low</td>\n",
       "      <td>0</td>\n",
       "    </tr>\n",
       "  </tbody>\n",
       "</table>\n",
       "</div>"
      ],
      "text/plain": [
       "        country    Capital    Area  population    size poplevel sizecode\n",
       "0        Brazil   Brasilia   8.516      200.40  Medium      mid        1\n",
       "1        Russia     Moscow  17.100      143.50   Large      low        2\n",
       "2         India  New Delhi   3.286     1252.00   Small     high        0\n",
       "3         China    beijing   9.597     1357.00  Medium     high        1\n",
       "4  South Africa   Pretoria   1.221       52.98   Small      low        0"
      ]
     },
     "execution_count": 235,
     "metadata": {},
     "output_type": "execute_result"
    }
   ],
   "source": [
    "df2['sizecode']=df2['size'].map({'Medium':'1','Large':'2','Small':'0'})\n",
    "df2"
   ]
  },
  {
   "cell_type": "markdown",
   "id": "cb7a2b60",
   "metadata": {},
   "source": [
    "<h3><span style=\"color: #e03e2d;\">Attention!!!</span> type(df2.size) =&gt; int32 but type(df2['size'[) =&gt; object</h3>"
   ]
  },
  {
   "cell_type": "code",
   "execution_count": 236,
   "id": "a269b219",
   "metadata": {},
   "outputs": [],
   "source": [
    "df2['sizecode2']=df2['size'].map(lambda code:0 if code=='Small'else (1 if code=='Medium' else 2))"
   ]
  },
  {
   "cell_type": "code",
   "execution_count": 237,
   "id": "95cedea5",
   "metadata": {},
   "outputs": [
    {
     "data": {
      "text/html": [
       "<div>\n",
       "<style scoped>\n",
       "    .dataframe tbody tr th:only-of-type {\n",
       "        vertical-align: middle;\n",
       "    }\n",
       "\n",
       "    .dataframe tbody tr th {\n",
       "        vertical-align: top;\n",
       "    }\n",
       "\n",
       "    .dataframe thead th {\n",
       "        text-align: right;\n",
       "    }\n",
       "</style>\n",
       "<table border=\"1\" class=\"dataframe\">\n",
       "  <thead>\n",
       "    <tr style=\"text-align: right;\">\n",
       "      <th></th>\n",
       "      <th>country</th>\n",
       "      <th>Capital</th>\n",
       "      <th>Area</th>\n",
       "      <th>population</th>\n",
       "      <th>size</th>\n",
       "      <th>poplevel</th>\n",
       "      <th>sizecode</th>\n",
       "      <th>sizecode2</th>\n",
       "    </tr>\n",
       "  </thead>\n",
       "  <tbody>\n",
       "    <tr>\n",
       "      <th>0</th>\n",
       "      <td>Brazil</td>\n",
       "      <td>Brasilia</td>\n",
       "      <td>8.516</td>\n",
       "      <td>200.40</td>\n",
       "      <td>Medium</td>\n",
       "      <td>mid</td>\n",
       "      <td>1</td>\n",
       "      <td>1</td>\n",
       "    </tr>\n",
       "    <tr>\n",
       "      <th>1</th>\n",
       "      <td>Russia</td>\n",
       "      <td>Moscow</td>\n",
       "      <td>17.100</td>\n",
       "      <td>143.50</td>\n",
       "      <td>Large</td>\n",
       "      <td>low</td>\n",
       "      <td>2</td>\n",
       "      <td>2</td>\n",
       "    </tr>\n",
       "    <tr>\n",
       "      <th>2</th>\n",
       "      <td>India</td>\n",
       "      <td>New Delhi</td>\n",
       "      <td>3.286</td>\n",
       "      <td>1252.00</td>\n",
       "      <td>Small</td>\n",
       "      <td>high</td>\n",
       "      <td>0</td>\n",
       "      <td>0</td>\n",
       "    </tr>\n",
       "    <tr>\n",
       "      <th>3</th>\n",
       "      <td>China</td>\n",
       "      <td>beijing</td>\n",
       "      <td>9.597</td>\n",
       "      <td>1357.00</td>\n",
       "      <td>Medium</td>\n",
       "      <td>high</td>\n",
       "      <td>1</td>\n",
       "      <td>1</td>\n",
       "    </tr>\n",
       "    <tr>\n",
       "      <th>4</th>\n",
       "      <td>South Africa</td>\n",
       "      <td>Pretoria</td>\n",
       "      <td>1.221</td>\n",
       "      <td>52.98</td>\n",
       "      <td>Small</td>\n",
       "      <td>low</td>\n",
       "      <td>0</td>\n",
       "      <td>0</td>\n",
       "    </tr>\n",
       "  </tbody>\n",
       "</table>\n",
       "</div>"
      ],
      "text/plain": [
       "        country    Capital    Area  population    size poplevel sizecode  \\\n",
       "0        Brazil   Brasilia   8.516      200.40  Medium      mid        1   \n",
       "1        Russia     Moscow  17.100      143.50   Large      low        2   \n",
       "2         India  New Delhi   3.286     1252.00   Small     high        0   \n",
       "3         China    beijing   9.597     1357.00  Medium     high        1   \n",
       "4  South Africa   Pretoria   1.221       52.98   Small      low        0   \n",
       "\n",
       "   sizecode2  \n",
       "0          1  \n",
       "1          2  \n",
       "2          0  \n",
       "3          1  \n",
       "4          0  "
      ]
     },
     "execution_count": 237,
     "metadata": {},
     "output_type": "execute_result"
    }
   ],
   "source": [
    "df2"
   ]
  },
  {
   "cell_type": "markdown",
   "id": "106dd5aa",
   "metadata": {},
   "source": [
    "<h2>apply</h2>"
   ]
  },
  {
   "cell_type": "code",
   "execution_count": 242,
   "id": "a1ab3e4d",
   "metadata": {},
   "outputs": [
    {
     "data": {
      "text/html": [
       "<div>\n",
       "<style scoped>\n",
       "    .dataframe tbody tr th:only-of-type {\n",
       "        vertical-align: middle;\n",
       "    }\n",
       "\n",
       "    .dataframe tbody tr th {\n",
       "        vertical-align: top;\n",
       "    }\n",
       "\n",
       "    .dataframe thead th {\n",
       "        text-align: right;\n",
       "    }\n",
       "</style>\n",
       "<table border=\"1\" class=\"dataframe\">\n",
       "  <thead>\n",
       "    <tr style=\"text-align: right;\">\n",
       "      <th></th>\n",
       "      <th>country</th>\n",
       "      <th>Capital</th>\n",
       "      <th>Area</th>\n",
       "      <th>population</th>\n",
       "      <th>size</th>\n",
       "      <th>poplevel</th>\n",
       "      <th>sizecode</th>\n",
       "      <th>sizecode2</th>\n",
       "      <th>AreaSqure</th>\n",
       "    </tr>\n",
       "  </thead>\n",
       "  <tbody>\n",
       "    <tr>\n",
       "      <th>0</th>\n",
       "      <td>BRAZIL</td>\n",
       "      <td>BRASILIA</td>\n",
       "      <td>8.516</td>\n",
       "      <td>200.40</td>\n",
       "      <td>Medium</td>\n",
       "      <td>mid</td>\n",
       "      <td>1</td>\n",
       "      <td>1</td>\n",
       "      <td>72.522256</td>\n",
       "    </tr>\n",
       "    <tr>\n",
       "      <th>1</th>\n",
       "      <td>RUSSIA</td>\n",
       "      <td>MOSCOW</td>\n",
       "      <td>17.100</td>\n",
       "      <td>143.50</td>\n",
       "      <td>Large</td>\n",
       "      <td>low</td>\n",
       "      <td>2</td>\n",
       "      <td>2</td>\n",
       "      <td>292.410000</td>\n",
       "    </tr>\n",
       "    <tr>\n",
       "      <th>2</th>\n",
       "      <td>INDIA</td>\n",
       "      <td>NEW DELHI</td>\n",
       "      <td>3.286</td>\n",
       "      <td>1252.00</td>\n",
       "      <td>Small</td>\n",
       "      <td>high</td>\n",
       "      <td>0</td>\n",
       "      <td>0</td>\n",
       "      <td>10.797796</td>\n",
       "    </tr>\n",
       "    <tr>\n",
       "      <th>3</th>\n",
       "      <td>CHINA</td>\n",
       "      <td>BEIJING</td>\n",
       "      <td>9.597</td>\n",
       "      <td>1357.00</td>\n",
       "      <td>Medium</td>\n",
       "      <td>high</td>\n",
       "      <td>1</td>\n",
       "      <td>1</td>\n",
       "      <td>92.102409</td>\n",
       "    </tr>\n",
       "    <tr>\n",
       "      <th>4</th>\n",
       "      <td>SOUTH AFRICA</td>\n",
       "      <td>PRETORIA</td>\n",
       "      <td>1.221</td>\n",
       "      <td>52.98</td>\n",
       "      <td>Small</td>\n",
       "      <td>low</td>\n",
       "      <td>0</td>\n",
       "      <td>0</td>\n",
       "      <td>1.490841</td>\n",
       "    </tr>\n",
       "  </tbody>\n",
       "</table>\n",
       "</div>"
      ],
      "text/plain": [
       "        country    Capital    Area  population    size poplevel sizecode  \\\n",
       "0        BRAZIL   BRASILIA   8.516      200.40  Medium      mid        1   \n",
       "1        RUSSIA     MOSCOW  17.100      143.50   Large      low        2   \n",
       "2         INDIA  NEW DELHI   3.286     1252.00   Small     high        0   \n",
       "3         CHINA    BEIJING   9.597     1357.00  Medium     high        1   \n",
       "4  SOUTH AFRICA   PRETORIA   1.221       52.98   Small      low        0   \n",
       "\n",
       "   sizecode2   AreaSqure  \n",
       "0          1   72.522256  \n",
       "1          2  292.410000  \n",
       "2          0   10.797796  \n",
       "3          1   92.102409  \n",
       "4          0    1.490841  "
      ]
     },
     "execution_count": 242,
     "metadata": {},
     "output_type": "execute_result"
    }
   ],
   "source": [
    "def square(x):\n",
    "    return x ** 2\n",
    "df2['AreaSqure']=df2['Area'].apply(square)\n",
    "df2"
   ]
  },
  {
   "cell_type": "code",
   "execution_count": 239,
   "id": "cbd225bb",
   "metadata": {},
   "outputs": [
    {
     "data": {
      "text/html": [
       "<div>\n",
       "<style scoped>\n",
       "    .dataframe tbody tr th:only-of-type {\n",
       "        vertical-align: middle;\n",
       "    }\n",
       "\n",
       "    .dataframe tbody tr th {\n",
       "        vertical-align: top;\n",
       "    }\n",
       "\n",
       "    .dataframe thead th {\n",
       "        text-align: right;\n",
       "    }\n",
       "</style>\n",
       "<table border=\"1\" class=\"dataframe\">\n",
       "  <thead>\n",
       "    <tr style=\"text-align: right;\">\n",
       "      <th></th>\n",
       "      <th>country</th>\n",
       "      <th>Capital</th>\n",
       "      <th>Area</th>\n",
       "      <th>population</th>\n",
       "      <th>size</th>\n",
       "      <th>poplevel</th>\n",
       "      <th>sizecode</th>\n",
       "      <th>sizecode2</th>\n",
       "      <th>AreaSqure</th>\n",
       "    </tr>\n",
       "  </thead>\n",
       "  <tbody>\n",
       "    <tr>\n",
       "      <th>0</th>\n",
       "      <td>BRAZIL</td>\n",
       "      <td>BRASILIA</td>\n",
       "      <td>8.516</td>\n",
       "      <td>200.40</td>\n",
       "      <td>Medium</td>\n",
       "      <td>mid</td>\n",
       "      <td>1</td>\n",
       "      <td>1</td>\n",
       "      <td>72.522256</td>\n",
       "    </tr>\n",
       "    <tr>\n",
       "      <th>1</th>\n",
       "      <td>RUSSIA</td>\n",
       "      <td>MOSCOW</td>\n",
       "      <td>17.100</td>\n",
       "      <td>143.50</td>\n",
       "      <td>Large</td>\n",
       "      <td>low</td>\n",
       "      <td>2</td>\n",
       "      <td>2</td>\n",
       "      <td>292.410000</td>\n",
       "    </tr>\n",
       "    <tr>\n",
       "      <th>2</th>\n",
       "      <td>INDIA</td>\n",
       "      <td>NEW DELHI</td>\n",
       "      <td>3.286</td>\n",
       "      <td>1252.00</td>\n",
       "      <td>Small</td>\n",
       "      <td>high</td>\n",
       "      <td>0</td>\n",
       "      <td>0</td>\n",
       "      <td>10.797796</td>\n",
       "    </tr>\n",
       "    <tr>\n",
       "      <th>3</th>\n",
       "      <td>CHINA</td>\n",
       "      <td>BEIJING</td>\n",
       "      <td>9.597</td>\n",
       "      <td>1357.00</td>\n",
       "      <td>Medium</td>\n",
       "      <td>high</td>\n",
       "      <td>1</td>\n",
       "      <td>1</td>\n",
       "      <td>92.102409</td>\n",
       "    </tr>\n",
       "    <tr>\n",
       "      <th>4</th>\n",
       "      <td>SOUTH AFRICA</td>\n",
       "      <td>PRETORIA</td>\n",
       "      <td>1.221</td>\n",
       "      <td>52.98</td>\n",
       "      <td>Small</td>\n",
       "      <td>low</td>\n",
       "      <td>0</td>\n",
       "      <td>0</td>\n",
       "      <td>1.490841</td>\n",
       "    </tr>\n",
       "  </tbody>\n",
       "</table>\n",
       "</div>"
      ],
      "text/plain": [
       "        country    Capital    Area  population    size poplevel sizecode  \\\n",
       "0        BRAZIL   BRASILIA   8.516      200.40  Medium      mid        1   \n",
       "1        RUSSIA     MOSCOW  17.100      143.50   Large      low        2   \n",
       "2         INDIA  NEW DELHI   3.286     1252.00   Small     high        0   \n",
       "3         CHINA    BEIJING   9.597     1357.00  Medium     high        1   \n",
       "4  SOUTH AFRICA   PRETORIA   1.221       52.98   Small      low        0   \n",
       "\n",
       "   sizecode2   AreaSqure  \n",
       "0          1   72.522256  \n",
       "1          2  292.410000  \n",
       "2          0   10.797796  \n",
       "3          1   92.102409  \n",
       "4          0    1.490841  "
      ]
     },
     "execution_count": 239,
     "metadata": {},
     "output_type": "execute_result"
    }
   ],
   "source": [
    "df2[['country','Capital']] = df2.apply(lambda x: x[['country','Capital']].str.upper(), axis=1)\n",
    "df2"
   ]
  },
  {
   "cell_type": "code",
   "execution_count": null,
   "id": "5eb228f8",
   "metadata": {},
   "outputs": [],
   "source": []
  },
  {
   "cell_type": "markdown",
   "id": "b3d4c031",
   "metadata": {},
   "source": [
    "<h2>replace</h2>"
   ]
  },
  {
   "cell_type": "code",
   "execution_count": null,
   "id": "b8c2cf16",
   "metadata": {},
   "outputs": [],
   "source": []
  },
  {
   "cell_type": "markdown",
   "id": "e2bff63e",
   "metadata": {},
   "source": [
    "<h2>get_dummies</h2>"
   ]
  },
  {
   "cell_type": "code",
   "execution_count": null,
   "id": "ddf8336a",
   "metadata": {},
   "outputs": [],
   "source": []
  },
  {
   "cell_type": "markdown",
   "id": "11ce54ca",
   "metadata": {},
   "source": [
    "<h2>where</h2>"
   ]
  },
  {
   "cell_type": "code",
   "execution_count": null,
   "id": "7a4be0fa",
   "metadata": {},
   "outputs": [],
   "source": []
  },
  {
   "cell_type": "markdown",
   "id": "3ab3376a",
   "metadata": {},
   "source": [
    "<h2>mask</h2>"
   ]
  },
  {
   "cell_type": "code",
   "execution_count": null,
   "id": "299924ee",
   "metadata": {},
   "outputs": [],
   "source": []
  },
  {
   "cell_type": "markdown",
   "id": "435a1463",
   "metadata": {},
   "source": []
  },
  {
   "cell_type": "code",
   "execution_count": 4,
   "id": "665d95af",
   "metadata": {},
   "outputs": [],
   "source": [
    "file = pd.read_spss('..\\carpet.sav')"
   ]
  },
  {
   "cell_type": "code",
   "execution_count": 3,
   "id": "0a26136c",
   "metadata": {},
   "outputs": [
    {
     "data": {
      "text/plain": [
       "'d:\\\\Habil\\\\python'"
      ]
     },
     "execution_count": 3,
     "metadata": {},
     "output_type": "execute_result"
    }
   ],
   "source": [
    "pwd"
   ]
  },
  {
   "cell_type": "code",
   "execution_count": 5,
   "id": "edcc0afb",
   "metadata": {},
   "outputs": [
    {
     "data": {
      "text/html": [
       "<div>\n",
       "<style scoped>\n",
       "    .dataframe tbody tr th:only-of-type {\n",
       "        vertical-align: middle;\n",
       "    }\n",
       "\n",
       "    .dataframe tbody tr th {\n",
       "        vertical-align: top;\n",
       "    }\n",
       "\n",
       "    .dataframe thead th {\n",
       "        text-align: right;\n",
       "    }\n",
       "</style>\n",
       "<table border=\"1\" class=\"dataframe\">\n",
       "  <thead>\n",
       "    <tr style=\"text-align: right;\">\n",
       "      <th></th>\n",
       "      <th>package</th>\n",
       "      <th>brand</th>\n",
       "      <th>price</th>\n",
       "      <th>seal</th>\n",
       "      <th>money</th>\n",
       "      <th>pref</th>\n",
       "    </tr>\n",
       "  </thead>\n",
       "  <tbody>\n",
       "    <tr>\n",
       "      <th>0</th>\n",
       "      <td>A*</td>\n",
       "      <td>Glory</td>\n",
       "      <td>$1.39</td>\n",
       "      <td>Yes</td>\n",
       "      <td>No</td>\n",
       "      <td>16.0</td>\n",
       "    </tr>\n",
       "    <tr>\n",
       "      <th>1</th>\n",
       "      <td>B*</td>\n",
       "      <td>K2R</td>\n",
       "      <td>$1.19</td>\n",
       "      <td>No</td>\n",
       "      <td>No</td>\n",
       "      <td>5.0</td>\n",
       "    </tr>\n",
       "    <tr>\n",
       "      <th>2</th>\n",
       "      <td>B*</td>\n",
       "      <td>Glory</td>\n",
       "      <td>$1.39</td>\n",
       "      <td>No</td>\n",
       "      <td>Yes</td>\n",
       "      <td>7.0</td>\n",
       "    </tr>\n",
       "    <tr>\n",
       "      <th>3</th>\n",
       "      <td>C*</td>\n",
       "      <td>Glory</td>\n",
       "      <td>$1.59</td>\n",
       "      <td>No</td>\n",
       "      <td>No</td>\n",
       "      <td>14.0</td>\n",
       "    </tr>\n",
       "    <tr>\n",
       "      <th>4</th>\n",
       "      <td>C*</td>\n",
       "      <td>Bissell</td>\n",
       "      <td>$1.39</td>\n",
       "      <td>No</td>\n",
       "      <td>No</td>\n",
       "      <td>12.0</td>\n",
       "    </tr>\n",
       "  </tbody>\n",
       "</table>\n",
       "</div>"
      ],
      "text/plain": [
       "  package    brand   price seal money  pref\n",
       "0      A*    Glory   $1.39  Yes    No  16.0\n",
       "1      B*      K2R   $1.19   No    No   5.0\n",
       "2      B*    Glory   $1.39   No   Yes   7.0\n",
       "3      C*    Glory   $1.59   No    No  14.0\n",
       "4      C*  Bissell   $1.39   No    No  12.0"
      ]
     },
     "execution_count": 5,
     "metadata": {},
     "output_type": "execute_result"
    }
   ],
   "source": [
    "file.head()"
   ]
  },
  {
   "cell_type": "code",
   "execution_count": null,
   "id": "9aa409b5",
   "metadata": {},
   "outputs": [],
   "source": [
    "pd.read"
   ]
  }
 ],
 "metadata": {
  "kernelspec": {
   "display_name": "Python 3 (ipykernel)",
   "language": "python",
   "name": "python3"
  },
  "language_info": {
   "codemirror_mode": {
    "name": "ipython",
    "version": 3
   },
   "file_extension": ".py",
   "mimetype": "text/x-python",
   "name": "python",
   "nbconvert_exporter": "python",
   "pygments_lexer": "ipython3",
   "version": "3.9.7"
  },
  "toc": {
   "base_numbering": 1,
   "nav_menu": {},
   "number_sections": true,
   "sideBar": true,
   "skip_h1_title": false,
   "title_cell": "Table of Contents",
   "title_sidebar": "Contents",
   "toc_cell": false,
   "toc_position": {
    "height": "calc(100% - 180px)",
    "left": "10px",
    "top": "150px",
    "width": "358.797px"
   },
   "toc_section_display": true,
   "toc_window_display": true
  }
 },
 "nbformat": 4,
 "nbformat_minor": 5
}
